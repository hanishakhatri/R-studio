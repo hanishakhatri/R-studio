{
 "cells": [
  {
   "cell_type": "code",
   "execution_count": 1,
   "metadata": {},
   "outputs": [
    {
     "name": "stderr",
     "output_type": "stream",
     "text": [
      "Installing package into 'C:/Users/nikhi/Documents/R/win-library/3.6'\n",
      "(as 'lib' is unspecified)\n",
      "also installing the dependencies 'bit', 'bit64', 'blob', 'memoise', 'gsubfn', 'proto', 'RSQLite', 'chron'\n",
      "\n"
     ]
    },
    {
     "name": "stdout",
     "output_type": "stream",
     "text": [
      "package 'bit' successfully unpacked and MD5 sums checked\n",
      "package 'bit64' successfully unpacked and MD5 sums checked\n",
      "package 'blob' successfully unpacked and MD5 sums checked\n",
      "package 'memoise' successfully unpacked and MD5 sums checked\n",
      "package 'gsubfn' successfully unpacked and MD5 sums checked\n",
      "package 'proto' successfully unpacked and MD5 sums checked\n",
      "package 'RSQLite' successfully unpacked and MD5 sums checked\n",
      "package 'chron' successfully unpacked and MD5 sums checked\n",
      "package 'sqldf' successfully unpacked and MD5 sums checked\n",
      "\n",
      "The downloaded binary packages are in\n",
      "\tC:\\Users\\nikhi\\AppData\\Local\\Temp\\Rtmp2fT7Ps\\downloaded_packages\n"
     ]
    }
   ],
   "source": [
    "install.packages(\"sqldf\")"
   ]
  },
  {
   "cell_type": "code",
   "execution_count": 2,
   "metadata": {},
   "outputs": [
    {
     "name": "stderr",
     "output_type": "stream",
     "text": [
      "Installing package into 'C:/Users/nikhi/Documents/R/win-library/3.6'\n",
      "(as 'lib' is unspecified)\n"
     ]
    },
    {
     "name": "stdout",
     "output_type": "stream",
     "text": [
      "package 'tidyr' successfully unpacked and MD5 sums checked\n",
      "\n",
      "The downloaded binary packages are in\n",
      "\tC:\\Users\\nikhi\\AppData\\Local\\Temp\\Rtmp2fT7Ps\\downloaded_packages\n"
     ]
    }
   ],
   "source": [
    "install.packages(\"tidyr\")"
   ]
  },
  {
   "cell_type": "code",
   "execution_count": 3,
   "metadata": {},
   "outputs": [
    {
     "name": "stderr",
     "output_type": "stream",
     "text": [
      "Installing package into 'C:/Users/nikhi/Documents/R/win-library/3.6'\n",
      "(as 'lib' is unspecified)\n"
     ]
    },
    {
     "name": "stdout",
     "output_type": "stream",
     "text": [
      "package 'dplyr' successfully unpacked and MD5 sums checked\n",
      "\n",
      "The downloaded binary packages are in\n",
      "\tC:\\Users\\nikhi\\AppData\\Local\\Temp\\Rtmp2fT7Ps\\downloaded_packages\n"
     ]
    }
   ],
   "source": [
    "install.packages(\"dplyr\")"
   ]
  },
  {
   "cell_type": "code",
   "execution_count": 4,
   "metadata": {},
   "outputs": [
    {
     "name": "stderr",
     "output_type": "stream",
     "text": [
      "Installing package into 'C:/Users/nikhi/Documents/R/win-library/3.6'\n",
      "(as 'lib' is unspecified)\n"
     ]
    },
    {
     "name": "stdout",
     "output_type": "stream",
     "text": [
      "package 'ggplot2' successfully unpacked and MD5 sums checked\n",
      "\n",
      "The downloaded binary packages are in\n",
      "\tC:\\Users\\nikhi\\AppData\\Local\\Temp\\Rtmp2fT7Ps\\downloaded_packages\n"
     ]
    }
   ],
   "source": [
    "install.packages(\"ggplot2\")"
   ]
  },
  {
   "cell_type": "code",
   "execution_count": 6,
   "metadata": {},
   "outputs": [
    {
     "name": "stderr",
     "output_type": "stream",
     "text": [
      "Installing package into 'C:/Users/nikhi/Documents/R/win-library/3.6'\n",
      "(as 'lib' is unspecified)\n",
      "Warning message:\n",
      "\"package 'stringer' is not available (for R version 3.6.0)\""
     ]
    }
   ],
   "source": [
    "install.packages(\"stringer\")"
   ]
  },
  {
   "cell_type": "code",
   "execution_count": 7,
   "metadata": {},
   "outputs": [],
   "source": [
    "# to view  data  sets\n",
    "data()"
   ]
  },
  {
   "cell_type": "code",
   "execution_count": 15,
   "metadata": {},
   "outputs": [],
   "source": [
    "df=data.frame(year=1880:1899,\n",
    "         sex=sample(c(\"boy\",\"girl\"),20,replace=T),\n",
    "         births= sample(seq(100000,140000),20))"
   ]
  },
  {
   "cell_type": "code",
   "execution_count": 16,
   "metadata": {},
   "outputs": [
    {
     "data": {
      "text/html": [
       "<table>\n",
       "<thead><tr><th scope=col>year</th><th scope=col>sex</th><th scope=col>births</th></tr></thead>\n",
       "<tbody>\n",
       "\t<tr><td>1880  </td><td>boy   </td><td>135394</td></tr>\n",
       "\t<tr><td>1881  </td><td>girl  </td><td>135628</td></tr>\n",
       "\t<tr><td>1882  </td><td>boy   </td><td>132311</td></tr>\n",
       "\t<tr><td>1883  </td><td>boy   </td><td>103578</td></tr>\n",
       "\t<tr><td>1884  </td><td>boy   </td><td>110268</td></tr>\n",
       "\t<tr><td>1885  </td><td>boy   </td><td>105994</td></tr>\n",
       "\t<tr><td>1886  </td><td>girl  </td><td>108707</td></tr>\n",
       "\t<tr><td>1887  </td><td>girl  </td><td>136907</td></tr>\n",
       "\t<tr><td>1888  </td><td>boy   </td><td>105221</td></tr>\n",
       "\t<tr><td>1889  </td><td>boy   </td><td>117296</td></tr>\n",
       "\t<tr><td>1890  </td><td>boy   </td><td>111268</td></tr>\n",
       "\t<tr><td>1891  </td><td>boy   </td><td>105746</td></tr>\n",
       "\t<tr><td>1892  </td><td>girl  </td><td>116626</td></tr>\n",
       "\t<tr><td>1893  </td><td>girl  </td><td>120541</td></tr>\n",
       "\t<tr><td>1894  </td><td>boy   </td><td>111703</td></tr>\n",
       "\t<tr><td>1895  </td><td>girl  </td><td>113269</td></tr>\n",
       "\t<tr><td>1896  </td><td>boy   </td><td>110953</td></tr>\n",
       "\t<tr><td>1897  </td><td>girl  </td><td>114728</td></tr>\n",
       "\t<tr><td>1898  </td><td>girl  </td><td>107776</td></tr>\n",
       "\t<tr><td>1899  </td><td>boy   </td><td>110654</td></tr>\n",
       "</tbody>\n",
       "</table>\n"
      ],
      "text/latex": [
       "\\begin{tabular}{r|lll}\n",
       " year & sex & births\\\\\n",
       "\\hline\n",
       "\t 1880   & boy    & 135394\\\\\n",
       "\t 1881   & girl   & 135628\\\\\n",
       "\t 1882   & boy    & 132311\\\\\n",
       "\t 1883   & boy    & 103578\\\\\n",
       "\t 1884   & boy    & 110268\\\\\n",
       "\t 1885   & boy    & 105994\\\\\n",
       "\t 1886   & girl   & 108707\\\\\n",
       "\t 1887   & girl   & 136907\\\\\n",
       "\t 1888   & boy    & 105221\\\\\n",
       "\t 1889   & boy    & 117296\\\\\n",
       "\t 1890   & boy    & 111268\\\\\n",
       "\t 1891   & boy    & 105746\\\\\n",
       "\t 1892   & girl   & 116626\\\\\n",
       "\t 1893   & girl   & 120541\\\\\n",
       "\t 1894   & boy    & 111703\\\\\n",
       "\t 1895   & girl   & 113269\\\\\n",
       "\t 1896   & boy    & 110953\\\\\n",
       "\t 1897   & girl   & 114728\\\\\n",
       "\t 1898   & girl   & 107776\\\\\n",
       "\t 1899   & boy    & 110654\\\\\n",
       "\\end{tabular}\n"
      ],
      "text/markdown": [
       "\n",
       "| year | sex | births |\n",
       "|---|---|---|\n",
       "| 1880   | boy    | 135394 |\n",
       "| 1881   | girl   | 135628 |\n",
       "| 1882   | boy    | 132311 |\n",
       "| 1883   | boy    | 103578 |\n",
       "| 1884   | boy    | 110268 |\n",
       "| 1885   | boy    | 105994 |\n",
       "| 1886   | girl   | 108707 |\n",
       "| 1887   | girl   | 136907 |\n",
       "| 1888   | boy    | 105221 |\n",
       "| 1889   | boy    | 117296 |\n",
       "| 1890   | boy    | 111268 |\n",
       "| 1891   | boy    | 105746 |\n",
       "| 1892   | girl   | 116626 |\n",
       "| 1893   | girl   | 120541 |\n",
       "| 1894   | boy    | 111703 |\n",
       "| 1895   | girl   | 113269 |\n",
       "| 1896   | boy    | 110953 |\n",
       "| 1897   | girl   | 114728 |\n",
       "| 1898   | girl   | 107776 |\n",
       "| 1899   | boy    | 110654 |\n",
       "\n"
      ],
      "text/plain": [
       "   year sex  births\n",
       "1  1880 boy  135394\n",
       "2  1881 girl 135628\n",
       "3  1882 boy  132311\n",
       "4  1883 boy  103578\n",
       "5  1884 boy  110268\n",
       "6  1885 boy  105994\n",
       "7  1886 girl 108707\n",
       "8  1887 girl 136907\n",
       "9  1888 boy  105221\n",
       "10 1889 boy  117296\n",
       "11 1890 boy  111268\n",
       "12 1891 boy  105746\n",
       "13 1892 girl 116626\n",
       "14 1893 girl 120541\n",
       "15 1894 boy  111703\n",
       "16 1895 girl 113269\n",
       "17 1896 boy  110953\n",
       "18 1897 girl 114728\n",
       "19 1898 girl 107776\n",
       "20 1899 boy  110654"
      ]
     },
     "metadata": {},
     "output_type": "display_data"
    }
   ],
   "source": [
    "df"
   ]
  },
  {
   "cell_type": "code",
   "execution_count": 17,
   "metadata": {},
   "outputs": [
    {
     "name": "stdout",
     "output_type": "stream",
     "text": [
      "'data.frame':\t20 obs. of  3 variables:\n",
      " $ year  : int  1880 1881 1882 1883 1884 1885 1886 1887 1888 1889 ...\n",
      " $ sex   : Factor w/ 2 levels \"boy\",\"girl\": 1 2 1 1 1 1 2 2 1 1 ...\n",
      " $ births: int  135394 135628 132311 103578 110268 105994 108707 136907 105221 117296 ...\n"
     ]
    }
   ],
   "source": [
    "str(df)"
   ]
  },
  {
   "cell_type": "code",
   "execution_count": 18,
   "metadata": {},
   "outputs": [
    {
     "data": {
      "text/plain": [
       "      year        sex         births      \n",
       " Min.   :1880   boy :12   Min.   :103578  \n",
       " 1st Qu.:1885   girl: 8   1st Qu.:108474  \n",
       " Median :1890             Median :111486  \n",
       " Mean   :1890             Mean   :115728  \n",
       " 3rd Qu.:1894             3rd Qu.:118107  \n",
       " Max.   :1899             Max.   :136907  "
      ]
     },
     "metadata": {},
     "output_type": "display_data"
    }
   ],
   "source": [
    "summary(df)"
   ]
  },
  {
   "cell_type": "code",
   "execution_count": 19,
   "metadata": {},
   "outputs": [
    {
     "data": {
      "text/html": [
       "<ol class=list-inline>\n",
       "\t<li>'year'</li>\n",
       "\t<li>'sex'</li>\n",
       "\t<li>'births'</li>\n",
       "</ol>\n"
      ],
      "text/latex": [
       "\\begin{enumerate*}\n",
       "\\item 'year'\n",
       "\\item 'sex'\n",
       "\\item 'births'\n",
       "\\end{enumerate*}\n"
      ],
      "text/markdown": [
       "1. 'year'\n",
       "2. 'sex'\n",
       "3. 'births'\n",
       "\n",
       "\n"
      ],
      "text/plain": [
       "[1] \"year\"   \"sex\"    \"births\""
      ]
     },
     "metadata": {},
     "output_type": "display_data"
    }
   ],
   "source": [
    "names(df)"
   ]
  },
  {
   "cell_type": "markdown",
   "metadata": {},
   "source": []
  },
  {
   "cell_type": "markdown",
   "metadata": {},
   "source": []
  }
 ],
 "metadata": {
  "kernelspec": {
   "display_name": "R",
   "language": "R",
   "name": "ir"
  },
  "language_info": {
   "codemirror_mode": "r",
   "file_extension": ".r",
   "mimetype": "text/x-r-source",
   "name": "R",
   "pygments_lexer": "r",
   "version": "3.6.0"
  }
 },
 "nbformat": 4,
 "nbformat_minor": 2
}
