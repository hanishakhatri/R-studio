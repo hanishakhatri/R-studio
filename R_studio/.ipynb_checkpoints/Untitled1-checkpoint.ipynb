{
 "cells": [
  {
   "cell_type": "code",
   "execution_count": 1,
   "metadata": {},
   "outputs": [],
   "source": [
    "x= c(5,3,4,2,NA,3,5)"
   ]
  },
  {
   "cell_type": "code",
   "execution_count": 2,
   "metadata": {},
   "outputs": [
    {
     "data": {
      "text/html": [
       "<ol class=list-inline>\n",
       "\t<li>5</li>\n",
       "\t<li>3</li>\n",
       "\t<li>4</li>\n",
       "\t<li>2</li>\n",
       "\t<li>&lt;NA&gt;</li>\n",
       "\t<li>3</li>\n",
       "\t<li>5</li>\n",
       "</ol>\n"
      ],
      "text/latex": [
       "\\begin{enumerate*}\n",
       "\\item 5\n",
       "\\item 3\n",
       "\\item 4\n",
       "\\item 2\n",
       "\\item <NA>\n",
       "\\item 3\n",
       "\\item 5\n",
       "\\end{enumerate*}\n"
      ],
      "text/markdown": [
       "1. 5\n",
       "2. 3\n",
       "3. 4\n",
       "4. 2\n",
       "5. &lt;NA&gt;\n",
       "6. 3\n",
       "7. 5\n",
       "\n",
       "\n"
      ],
      "text/plain": [
       "[1]  5  3  4  2 NA  3  5"
      ]
     },
     "metadata": {},
     "output_type": "display_data"
    }
   ],
   "source": [
    "x"
   ]
  },
  {
   "cell_type": "code",
   "execution_count": 3,
   "metadata": {},
   "outputs": [],
   "source": [
    "mat = sample(1:100,20)"
   ]
  },
  {
   "cell_type": "code",
   "execution_count": 4,
   "metadata": {},
   "outputs": [
    {
     "name": "stdout",
     "output_type": "stream",
     "text": [
      " [1] 92 90 41 20 10 73 86 48 84 85 42 94 39 24 91 74 59 66 81 64\n"
     ]
    }
   ],
   "source": [
    "print(mat)"
   ]
  },
  {
   "cell_type": "code",
   "execution_count": 5,
   "metadata": {},
   "outputs": [],
   "source": [
    "dim(mat ) <- c(5,4)"
   ]
  },
  {
   "cell_type": "code",
   "execution_count": 6,
   "metadata": {},
   "outputs": [
    {
     "data": {
      "text/html": [
       "<table>\n",
       "<tbody>\n",
       "\t<tr><td>92</td><td>73</td><td>42</td><td>74</td></tr>\n",
       "\t<tr><td>90</td><td>86</td><td>94</td><td>59</td></tr>\n",
       "\t<tr><td>41</td><td>48</td><td>39</td><td>66</td></tr>\n",
       "\t<tr><td>20</td><td>84</td><td>24</td><td>81</td></tr>\n",
       "\t<tr><td>10</td><td>85</td><td>91</td><td>64</td></tr>\n",
       "</tbody>\n",
       "</table>\n"
      ],
      "text/latex": [
       "\\begin{tabular}{llll}\n",
       "\t 92 & 73 & 42 & 74\\\\\n",
       "\t 90 & 86 & 94 & 59\\\\\n",
       "\t 41 & 48 & 39 & 66\\\\\n",
       "\t 20 & 84 & 24 & 81\\\\\n",
       "\t 10 & 85 & 91 & 64\\\\\n",
       "\\end{tabular}\n"
      ],
      "text/markdown": [
       "\n",
       "| 92 | 73 | 42 | 74 |\n",
       "| 90 | 86 | 94 | 59 |\n",
       "| 41 | 48 | 39 | 66 |\n",
       "| 20 | 84 | 24 | 81 |\n",
       "| 10 | 85 | 91 | 64 |\n",
       "\n"
      ],
      "text/plain": [
       "     [,1] [,2] [,3] [,4]\n",
       "[1,] 92   73   42   74  \n",
       "[2,] 90   86   94   59  \n",
       "[3,] 41   48   39   66  \n",
       "[4,] 20   84   24   81  \n",
       "[5,] 10   85   91   64  "
      ]
     },
     "metadata": {},
     "output_type": "display_data"
    }
   ],
   "source": [
    "mat"
   ]
  },
  {
   "cell_type": "code",
   "execution_count": 7,
   "metadata": {},
   "outputs": [],
   "source": [
    "mat = matrix(sample(1:100,20),nrow=5,ncol=4)"
   ]
  },
  {
   "cell_type": "code",
   "execution_count": 8,
   "metadata": {},
   "outputs": [
    {
     "data": {
      "text/html": [
       "<table>\n",
       "<tbody>\n",
       "\t<tr><td>57</td><td>75</td><td>76</td><td>22</td></tr>\n",
       "\t<tr><td> 2</td><td>98</td><td>48</td><td>66</td></tr>\n",
       "\t<tr><td>56</td><td>85</td><td>71</td><td>95</td></tr>\n",
       "\t<tr><td>62</td><td>19</td><td>46</td><td>82</td></tr>\n",
       "\t<tr><td>79</td><td>61</td><td> 1</td><td>10</td></tr>\n",
       "</tbody>\n",
       "</table>\n"
      ],
      "text/latex": [
       "\\begin{tabular}{llll}\n",
       "\t 57 & 75 & 76 & 22\\\\\n",
       "\t  2 & 98 & 48 & 66\\\\\n",
       "\t 56 & 85 & 71 & 95\\\\\n",
       "\t 62 & 19 & 46 & 82\\\\\n",
       "\t 79 & 61 &  1 & 10\\\\\n",
       "\\end{tabular}\n"
      ],
      "text/markdown": [
       "\n",
       "| 57 | 75 | 76 | 22 |\n",
       "|  2 | 98 | 48 | 66 |\n",
       "| 56 | 85 | 71 | 95 |\n",
       "| 62 | 19 | 46 | 82 |\n",
       "| 79 | 61 |  1 | 10 |\n",
       "\n"
      ],
      "text/plain": [
       "     [,1] [,2] [,3] [,4]\n",
       "[1,] 57   75   76   22  \n",
       "[2,]  2   98   48   66  \n",
       "[3,] 56   85   71   95  \n",
       "[4,] 62   19   46   82  \n",
       "[5,] 79   61    1   10  "
      ]
     },
     "metadata": {},
     "output_type": "display_data"
    }
   ],
   "source": [
    "mat"
   ]
  },
  {
   "cell_type": "code",
   "execution_count": 9,
   "metadata": {},
   "outputs": [],
   "source": [
    "mat = matrix(1:20,nrow=5,ncol=4,byrow=1)"
   ]
  },
  {
   "cell_type": "code",
   "execution_count": 10,
   "metadata": {},
   "outputs": [
    {
     "data": {
      "text/html": [
       "<table>\n",
       "<tbody>\n",
       "\t<tr><td> 1</td><td> 2</td><td> 3</td><td> 4</td></tr>\n",
       "\t<tr><td> 5</td><td> 6</td><td> 7</td><td> 8</td></tr>\n",
       "\t<tr><td> 9</td><td>10</td><td>11</td><td>12</td></tr>\n",
       "\t<tr><td>13</td><td>14</td><td>15</td><td>16</td></tr>\n",
       "\t<tr><td>17</td><td>18</td><td>19</td><td>20</td></tr>\n",
       "</tbody>\n",
       "</table>\n"
      ],
      "text/latex": [
       "\\begin{tabular}{llll}\n",
       "\t  1 &  2 &  3 &  4\\\\\n",
       "\t  5 &  6 &  7 &  8\\\\\n",
       "\t  9 & 10 & 11 & 12\\\\\n",
       "\t 13 & 14 & 15 & 16\\\\\n",
       "\t 17 & 18 & 19 & 20\\\\\n",
       "\\end{tabular}\n"
      ],
      "text/markdown": [
       "\n",
       "|  1 |  2 |  3 |  4 |\n",
       "|  5 |  6 |  7 |  8 |\n",
       "|  9 | 10 | 11 | 12 |\n",
       "| 13 | 14 | 15 | 16 |\n",
       "| 17 | 18 | 19 | 20 |\n",
       "\n"
      ],
      "text/plain": [
       "     [,1] [,2] [,3] [,4]\n",
       "[1,]  1    2    3    4  \n",
       "[2,]  5    6    7    8  \n",
       "[3,]  9   10   11   12  \n",
       "[4,] 13   14   15   16  \n",
       "[5,] 17   18   19   20  "
      ]
     },
     "metadata": {},
     "output_type": "display_data"
    }
   ],
   "source": [
    "mat"
   ]
  },
  {
   "cell_type": "code",
   "execution_count": 11,
   "metadata": {},
   "outputs": [
    {
     "data": {
      "text/html": [
       "19"
      ],
      "text/latex": [
       "19"
      ],
      "text/markdown": [
       "19"
      ],
      "text/plain": [
       "[1] 19"
      ]
     },
     "metadata": {},
     "output_type": "display_data"
    }
   ],
   "source": [
    "mat[5,3]"
   ]
  },
  {
   "cell_type": "code",
   "execution_count": 12,
   "metadata": {},
   "outputs": [
    {
     "data": {
      "text/html": [
       "<table>\n",
       "<tbody>\n",
       "\t<tr><td> 2</td><td> 3</td><td> 4</td></tr>\n",
       "\t<tr><td> 6</td><td> 7</td><td> 8</td></tr>\n",
       "\t<tr><td>10</td><td>11</td><td>12</td></tr>\n",
       "</tbody>\n",
       "</table>\n"
      ],
      "text/latex": [
       "\\begin{tabular}{lll}\n",
       "\t  2 &  3 &  4\\\\\n",
       "\t  6 &  7 &  8\\\\\n",
       "\t 10 & 11 & 12\\\\\n",
       "\\end{tabular}\n"
      ],
      "text/markdown": [
       "\n",
       "|  2 |  3 |  4 |\n",
       "|  6 |  7 |  8 |\n",
       "| 10 | 11 | 12 |\n",
       "\n"
      ],
      "text/plain": [
       "     [,1] [,2] [,3]\n",
       "[1,]  2    3    4  \n",
       "[2,]  6    7    8  \n",
       "[3,] 10   11   12  "
      ]
     },
     "metadata": {},
     "output_type": "display_data"
    }
   ],
   "source": [
    "mat[1:3,2:4]"
   ]
  },
  {
   "cell_type": "code",
   "execution_count": 13,
   "metadata": {},
   "outputs": [
    {
     "data": {
      "text/html": [
       "<table>\n",
       "<tbody>\n",
       "\t<tr><td> 5</td><td> 6</td><td> 8</td></tr>\n",
       "\t<tr><td> 9</td><td>10</td><td>12</td></tr>\n",
       "\t<tr><td>17</td><td>18</td><td>20</td></tr>\n",
       "</tbody>\n",
       "</table>\n"
      ],
      "text/latex": [
       "\\begin{tabular}{lll}\n",
       "\t  5 &  6 &  8\\\\\n",
       "\t  9 & 10 & 12\\\\\n",
       "\t 17 & 18 & 20\\\\\n",
       "\\end{tabular}\n"
      ],
      "text/markdown": [
       "\n",
       "|  5 |  6 |  8 |\n",
       "|  9 | 10 | 12 |\n",
       "| 17 | 18 | 20 |\n",
       "\n"
      ],
      "text/plain": [
       "     [,1] [,2] [,3]\n",
       "[1,]  5    6    8  \n",
       "[2,]  9   10   12  \n",
       "[3,] 17   18   20  "
      ]
     },
     "metadata": {},
     "output_type": "display_data"
    }
   ],
   "source": [
    "mat[c(2,3,5),c(1,2,4)]"
   ]
  },
  {
   "cell_type": "code",
   "execution_count": 14,
   "metadata": {},
   "outputs": [
    {
     "data": {
      "text/html": [
       "<table>\n",
       "<tbody>\n",
       "\t<tr><td> 1</td><td> 3</td></tr>\n",
       "\t<tr><td> 9</td><td>11</td></tr>\n",
       "\t<tr><td>17</td><td>19</td></tr>\n",
       "</tbody>\n",
       "</table>\n"
      ],
      "text/latex": [
       "\\begin{tabular}{ll}\n",
       "\t  1 &  3\\\\\n",
       "\t  9 & 11\\\\\n",
       "\t 17 & 19\\\\\n",
       "\\end{tabular}\n"
      ],
      "text/markdown": [
       "\n",
       "|  1 |  3 |\n",
       "|  9 | 11 |\n",
       "| 17 | 19 |\n",
       "\n"
      ],
      "text/plain": [
       "     [,1] [,2]\n",
       "[1,]  1    3  \n",
       "[2,]  9   11  \n",
       "[3,] 17   19  "
      ]
     },
     "metadata": {},
     "output_type": "display_data"
    }
   ],
   "source": [
    "mat[seq(1,5,2),seq(1,4,2)]"
   ]
  },
  {
   "cell_type": "code",
   "execution_count": 15,
   "metadata": {},
   "outputs": [
    {
     "data": {
      "text/html": [
       "<table>\n",
       "<thead><tr><th scope=col>A</th><th scope=col>B</th><th scope=col>C</th></tr></thead>\n",
       "<tbody>\n",
       "\t<tr><td>1 </td><td> 6</td><td>11</td></tr>\n",
       "\t<tr><td>2 </td><td> 7</td><td>12</td></tr>\n",
       "\t<tr><td>3 </td><td> 8</td><td>13</td></tr>\n",
       "\t<tr><td>4 </td><td> 9</td><td>14</td></tr>\n",
       "\t<tr><td>5 </td><td>10</td><td>15</td></tr>\n",
       "</tbody>\n",
       "</table>\n"
      ],
      "text/latex": [
       "\\begin{tabular}{lll}\n",
       " A & B & C\\\\\n",
       "\\hline\n",
       "\t 1  &  6 & 11\\\\\n",
       "\t 2  &  7 & 12\\\\\n",
       "\t 3  &  8 & 13\\\\\n",
       "\t 4  &  9 & 14\\\\\n",
       "\t 5  & 10 & 15\\\\\n",
       "\\end{tabular}\n"
      ],
      "text/markdown": [
       "\n",
       "| A | B | C |\n",
       "|---|---|---|\n",
       "| 1  |  6 | 11 |\n",
       "| 2  |  7 | 12 |\n",
       "| 3  |  8 | 13 |\n",
       "| 4  |  9 | 14 |\n",
       "| 5  | 10 | 15 |\n",
       "\n"
      ],
      "text/plain": [
       "     A B  C \n",
       "[1,] 1  6 11\n",
       "[2,] 2  7 12\n",
       "[3,] 3  8 13\n",
       "[4,] 4  9 14\n",
       "[5,] 5 10 15"
      ]
     },
     "metadata": {},
     "output_type": "display_data"
    }
   ],
   "source": [
    "cbind(A=1:5,B=6:10,C=11:15)"
   ]
  },
  {
   "cell_type": "code",
   "execution_count": 16,
   "metadata": {},
   "outputs": [],
   "source": [
    "mat= rbind(A=1:5,B=sample(5),C=6:10)"
   ]
  },
  {
   "cell_type": "code",
   "execution_count": 17,
   "metadata": {},
   "outputs": [
    {
     "data": {
      "text/html": [
       "<table>\n",
       "<tbody>\n",
       "\t<tr><th scope=row>A</th><td>1 </td><td>2 </td><td>3 </td><td>4 </td><td> 5</td></tr>\n",
       "\t<tr><th scope=row>B</th><td>5 </td><td>3 </td><td>4 </td><td>2 </td><td> 1</td></tr>\n",
       "\t<tr><th scope=row>C</th><td>6 </td><td>7 </td><td>8 </td><td>9 </td><td>10</td></tr>\n",
       "</tbody>\n",
       "</table>\n"
      ],
      "text/latex": [
       "\\begin{tabular}{r|lllll}\n",
       "\tA & 1  & 2  & 3  & 4  &  5\\\\\n",
       "\tB & 5  & 3  & 4  & 2  &  1\\\\\n",
       "\tC & 6  & 7  & 8  & 9  & 10\\\\\n",
       "\\end{tabular}\n"
      ],
      "text/markdown": [
       "\n",
       "| A | 1  | 2  | 3  | 4  |  5 |\n",
       "| B | 5  | 3  | 4  | 2  |  1 |\n",
       "| C | 6  | 7  | 8  | 9  | 10 |\n",
       "\n"
      ],
      "text/plain": [
       "  [,1] [,2] [,3] [,4] [,5]\n",
       "A 1    2    3    4     5  \n",
       "B 5    3    4    2     1  \n",
       "C 6    7    8    9    10  "
      ]
     },
     "metadata": {},
     "output_type": "display_data"
    }
   ],
   "source": [
    "mat"
   ]
  },
  {
   "cell_type": "code",
   "execution_count": 18,
   "metadata": {},
   "outputs": [
    {
     "data": {
      "text/html": [
       "<strong>C:</strong> 8"
      ],
      "text/latex": [
       "\\textbf{C:} 8"
      ],
      "text/markdown": [
       "**C:** 8"
      ],
      "text/plain": [
       "C \n",
       "8 "
      ]
     },
     "metadata": {},
     "output_type": "display_data"
    }
   ],
   "source": [
    "mat[3,3]"
   ]
  },
  {
   "cell_type": "code",
   "execution_count": 20,
   "metadata": {},
   "outputs": [
    {
     "data": {
      "text/plain": [
       "NULL"
      ]
     },
     "metadata": {},
     "output_type": "display_data"
    }
   ],
   "source": [
    "colnames(mat)"
   ]
  },
  {
   "cell_type": "code",
   "execution_count": 21,
   "metadata": {},
   "outputs": [
    {
     "data": {
      "text/html": [
       "<ol class=list-inline>\n",
       "\t<li>'A'</li>\n",
       "\t<li>'B'</li>\n",
       "\t<li>'C'</li>\n",
       "</ol>\n"
      ],
      "text/latex": [
       "\\begin{enumerate*}\n",
       "\\item 'A'\n",
       "\\item 'B'\n",
       "\\item 'C'\n",
       "\\end{enumerate*}\n"
      ],
      "text/markdown": [
       "1. 'A'\n",
       "2. 'B'\n",
       "3. 'C'\n",
       "\n",
       "\n"
      ],
      "text/plain": [
       "[1] \"A\" \"B\" \"C\""
      ]
     },
     "metadata": {},
     "output_type": "display_data"
    }
   ],
   "source": [
    "rownames(mat)"
   ]
  },
  {
   "cell_type": "code",
   "execution_count": 22,
   "metadata": {},
   "outputs": [],
   "source": [
    "mat= matrix(1:25,nrow=5,ncol=5,byrow=-1)"
   ]
  },
  {
   "cell_type": "code",
   "execution_count": 23,
   "metadata": {},
   "outputs": [
    {
     "data": {
      "text/html": [
       "<table>\n",
       "<tbody>\n",
       "\t<tr><td> 1</td><td> 2</td><td> 3</td><td> 4</td><td> 5</td></tr>\n",
       "\t<tr><td> 6</td><td> 7</td><td> 8</td><td> 9</td><td>10</td></tr>\n",
       "\t<tr><td>11</td><td>12</td><td>13</td><td>14</td><td>15</td></tr>\n",
       "\t<tr><td>16</td><td>17</td><td>18</td><td>19</td><td>20</td></tr>\n",
       "\t<tr><td>21</td><td>22</td><td>23</td><td>24</td><td>25</td></tr>\n",
       "</tbody>\n",
       "</table>\n"
      ],
      "text/latex": [
       "\\begin{tabular}{lllll}\n",
       "\t  1 &  2 &  3 &  4 &  5\\\\\n",
       "\t  6 &  7 &  8 &  9 & 10\\\\\n",
       "\t 11 & 12 & 13 & 14 & 15\\\\\n",
       "\t 16 & 17 & 18 & 19 & 20\\\\\n",
       "\t 21 & 22 & 23 & 24 & 25\\\\\n",
       "\\end{tabular}\n"
      ],
      "text/markdown": [
       "\n",
       "|  1 |  2 |  3 |  4 |  5 |\n",
       "|  6 |  7 |  8 |  9 | 10 |\n",
       "| 11 | 12 | 13 | 14 | 15 |\n",
       "| 16 | 17 | 18 | 19 | 20 |\n",
       "| 21 | 22 | 23 | 24 | 25 |\n",
       "\n"
      ],
      "text/plain": [
       "     [,1] [,2] [,3] [,4] [,5]\n",
       "[1,]  1    2    3    4    5  \n",
       "[2,]  6    7    8    9   10  \n",
       "[3,] 11   12   13   14   15  \n",
       "[4,] 16   17   18   19   20  \n",
       "[5,] 21   22   23   24   25  "
      ]
     },
     "metadata": {},
     "output_type": "display_data"
    }
   ],
   "source": [
    "mat"
   ]
  },
  {
   "cell_type": "code",
   "execution_count": 24,
   "metadata": {},
   "outputs": [],
   "source": [
    "colnames(mat) <- c(\"A\",\"B\",\"C\",\"D\",\"E\")\n",
    "rownames(mat) <-c(\"F\",\"G\",\"H\",\"I\",\"J\")"
   ]
  },
  {
   "cell_type": "code",
   "execution_count": 25,
   "metadata": {},
   "outputs": [
    {
     "data": {
      "text/html": [
       "<table>\n",
       "<thead><tr><th></th><th scope=col>A</th><th scope=col>B</th><th scope=col>C</th><th scope=col>D</th><th scope=col>E</th></tr></thead>\n",
       "<tbody>\n",
       "\t<tr><th scope=row>F</th><td> 1</td><td> 2</td><td> 3</td><td> 4</td><td> 5</td></tr>\n",
       "\t<tr><th scope=row>G</th><td> 6</td><td> 7</td><td> 8</td><td> 9</td><td>10</td></tr>\n",
       "\t<tr><th scope=row>H</th><td>11</td><td>12</td><td>13</td><td>14</td><td>15</td></tr>\n",
       "\t<tr><th scope=row>I</th><td>16</td><td>17</td><td>18</td><td>19</td><td>20</td></tr>\n",
       "\t<tr><th scope=row>J</th><td>21</td><td>22</td><td>23</td><td>24</td><td>25</td></tr>\n",
       "</tbody>\n",
       "</table>\n"
      ],
      "text/latex": [
       "\\begin{tabular}{r|lllll}\n",
       "  & A & B & C & D & E\\\\\n",
       "\\hline\n",
       "\tF &  1 &  2 &  3 &  4 &  5\\\\\n",
       "\tG &  6 &  7 &  8 &  9 & 10\\\\\n",
       "\tH & 11 & 12 & 13 & 14 & 15\\\\\n",
       "\tI & 16 & 17 & 18 & 19 & 20\\\\\n",
       "\tJ & 21 & 22 & 23 & 24 & 25\\\\\n",
       "\\end{tabular}\n"
      ],
      "text/markdown": [
       "\n",
       "| <!--/--> | A | B | C | D | E |\n",
       "|---|---|---|---|---|---|\n",
       "| F |  1 |  2 |  3 |  4 |  5 |\n",
       "| G |  6 |  7 |  8 |  9 | 10 |\n",
       "| H | 11 | 12 | 13 | 14 | 15 |\n",
       "| I | 16 | 17 | 18 | 19 | 20 |\n",
       "| J | 21 | 22 | 23 | 24 | 25 |\n",
       "\n"
      ],
      "text/plain": [
       "  A  B  C  D  E \n",
       "F  1  2  3  4  5\n",
       "G  6  7  8  9 10\n",
       "H 11 12 13 14 15\n",
       "I 16 17 18 19 20\n",
       "J 21 22 23 24 25"
      ]
     },
     "metadata": {},
     "output_type": "display_data"
    }
   ],
   "source": [
    "mat"
   ]
  },
  {
   "cell_type": "code",
   "execution_count": 26,
   "metadata": {},
   "outputs": [
    {
     "data": {
      "text/html": [
       "<dl class=dl-horizontal>\n",
       "\t<dt>A</dt>\n",
       "\t\t<dd>55</dd>\n",
       "\t<dt>B</dt>\n",
       "\t\t<dd>60</dd>\n",
       "\t<dt>C</dt>\n",
       "\t\t<dd>65</dd>\n",
       "\t<dt>D</dt>\n",
       "\t\t<dd>70</dd>\n",
       "\t<dt>E</dt>\n",
       "\t\t<dd>75</dd>\n",
       "</dl>\n"
      ],
      "text/latex": [
       "\\begin{description*}\n",
       "\\item[A] 55\n",
       "\\item[B] 60\n",
       "\\item[C] 65\n",
       "\\item[D] 70\n",
       "\\item[E] 75\n",
       "\\end{description*}\n"
      ],
      "text/markdown": [
       "A\n",
       ":   55B\n",
       ":   60C\n",
       ":   65D\n",
       ":   70E\n",
       ":   75\n",
       "\n"
      ],
      "text/plain": [
       " A  B  C  D  E \n",
       "55 60 65 70 75 "
      ]
     },
     "metadata": {},
     "output_type": "display_data"
    }
   ],
   "source": [
    "colSums(mat)"
   ]
  },
  {
   "cell_type": "code",
   "execution_count": 27,
   "metadata": {},
   "outputs": [
    {
     "data": {
      "text/html": [
       "<dl class=dl-horizontal>\n",
       "\t<dt>F</dt>\n",
       "\t\t<dd>15</dd>\n",
       "\t<dt>G</dt>\n",
       "\t\t<dd>40</dd>\n",
       "\t<dt>H</dt>\n",
       "\t\t<dd>65</dd>\n",
       "\t<dt>I</dt>\n",
       "\t\t<dd>90</dd>\n",
       "\t<dt>J</dt>\n",
       "\t\t<dd>115</dd>\n",
       "</dl>\n"
      ],
      "text/latex": [
       "\\begin{description*}\n",
       "\\item[F] 15\n",
       "\\item[G] 40\n",
       "\\item[H] 65\n",
       "\\item[I] 90\n",
       "\\item[J] 115\n",
       "\\end{description*}\n"
      ],
      "text/markdown": [
       "F\n",
       ":   15G\n",
       ":   40H\n",
       ":   65I\n",
       ":   90J\n",
       ":   115\n",
       "\n"
      ],
      "text/plain": [
       "  F   G   H   I   J \n",
       " 15  40  65  90 115 "
      ]
     },
     "metadata": {},
     "output_type": "display_data"
    }
   ],
   "source": [
    "rowSums(mat)"
   ]
  },
  {
   "cell_type": "code",
   "execution_count": 28,
   "metadata": {},
   "outputs": [
    {
     "data": {
      "text/html": [
       "<dl class=dl-horizontal>\n",
       "\t<dt>A</dt>\n",
       "\t\t<dd>11</dd>\n",
       "\t<dt>B</dt>\n",
       "\t\t<dd>12</dd>\n",
       "\t<dt>C</dt>\n",
       "\t\t<dd>13</dd>\n",
       "\t<dt>D</dt>\n",
       "\t\t<dd>14</dd>\n",
       "\t<dt>E</dt>\n",
       "\t\t<dd>15</dd>\n",
       "</dl>\n"
      ],
      "text/latex": [
       "\\begin{description*}\n",
       "\\item[A] 11\n",
       "\\item[B] 12\n",
       "\\item[C] 13\n",
       "\\item[D] 14\n",
       "\\item[E] 15\n",
       "\\end{description*}\n"
      ],
      "text/markdown": [
       "A\n",
       ":   11B\n",
       ":   12C\n",
       ":   13D\n",
       ":   14E\n",
       ":   15\n",
       "\n"
      ],
      "text/plain": [
       " A  B  C  D  E \n",
       "11 12 13 14 15 "
      ]
     },
     "metadata": {},
     "output_type": "display_data"
    }
   ],
   "source": [
    "colMeans(mat)"
   ]
  },
  {
   "cell_type": "code",
   "execution_count": 29,
   "metadata": {},
   "outputs": [
    {
     "data": {
      "text/html": [
       "<dl class=dl-horizontal>\n",
       "\t<dt>F</dt>\n",
       "\t\t<dd>3</dd>\n",
       "\t<dt>G</dt>\n",
       "\t\t<dd>8</dd>\n",
       "\t<dt>H</dt>\n",
       "\t\t<dd>13</dd>\n",
       "\t<dt>I</dt>\n",
       "\t\t<dd>18</dd>\n",
       "\t<dt>J</dt>\n",
       "\t\t<dd>23</dd>\n",
       "</dl>\n"
      ],
      "text/latex": [
       "\\begin{description*}\n",
       "\\item[F] 3\n",
       "\\item[G] 8\n",
       "\\item[H] 13\n",
       "\\item[I] 18\n",
       "\\item[J] 23\n",
       "\\end{description*}\n"
      ],
      "text/markdown": [
       "F\n",
       ":   3G\n",
       ":   8H\n",
       ":   13I\n",
       ":   18J\n",
       ":   23\n",
       "\n"
      ],
      "text/plain": [
       " F  G  H  I  J \n",
       " 3  8 13 18 23 "
      ]
     },
     "metadata": {},
     "output_type": "display_data"
    }
   ],
   "source": [
    "rowMeans(mat)"
   ]
  },
  {
   "cell_type": "code",
   "execution_count": 30,
   "metadata": {},
   "outputs": [
    {
     "data": {
      "text/plain": [
       "       A            B            C            D            E     \n",
       " Min.   : 1   Min.   : 2   Min.   : 3   Min.   : 4   Min.   : 5  \n",
       " 1st Qu.: 6   1st Qu.: 7   1st Qu.: 8   1st Qu.: 9   1st Qu.:10  \n",
       " Median :11   Median :12   Median :13   Median :14   Median :15  \n",
       " Mean   :11   Mean   :12   Mean   :13   Mean   :14   Mean   :15  \n",
       " 3rd Qu.:16   3rd Qu.:17   3rd Qu.:18   3rd Qu.:19   3rd Qu.:20  \n",
       " Max.   :21   Max.   :22   Max.   :23   Max.   :24   Max.   :25  "
      ]
     },
     "metadata": {},
     "output_type": "display_data"
    }
   ],
   "source": [
    "summary(mat)"
   ]
  },
  {
   "cell_type": "code",
   "execution_count": 32,
   "metadata": {},
   "outputs": [],
   "source": [
    "name <- c(\"sachin\",\"rajat\",\"nidhi\",\"yadvendar\")\n",
    "age <- c(23,30,25,21)\n",
    "city <- c(\"tonk\",\"ganganagar\",\"kota\",\"surajghar\")\n",
    "df = data.frame(Name=name,Age=age,City=city)"
   ]
  },
  {
   "cell_type": "code",
   "execution_count": 33,
   "metadata": {},
   "outputs": [
    {
     "data": {
      "text/html": [
       "<table>\n",
       "<thead><tr><th scope=col>Name</th><th scope=col>Age</th><th scope=col>City</th></tr></thead>\n",
       "<tbody>\n",
       "\t<tr><td>sachin    </td><td>23        </td><td>tonk      </td></tr>\n",
       "\t<tr><td>rajat     </td><td>30        </td><td>ganganagar</td></tr>\n",
       "\t<tr><td>nidhi     </td><td>25        </td><td>kota      </td></tr>\n",
       "\t<tr><td>yadvendar </td><td>21        </td><td>surajghar </td></tr>\n",
       "</tbody>\n",
       "</table>\n"
      ],
      "text/latex": [
       "\\begin{tabular}{r|lll}\n",
       " Name & Age & City\\\\\n",
       "\\hline\n",
       "\t sachin     & 23         & tonk      \\\\\n",
       "\t rajat      & 30         & ganganagar\\\\\n",
       "\t nidhi      & 25         & kota      \\\\\n",
       "\t yadvendar  & 21         & surajghar \\\\\n",
       "\\end{tabular}\n"
      ],
      "text/markdown": [
       "\n",
       "| Name | Age | City |\n",
       "|---|---|---|\n",
       "| sachin     | 23         | tonk       |\n",
       "| rajat      | 30         | ganganagar |\n",
       "| nidhi      | 25         | kota       |\n",
       "| yadvendar  | 21         | surajghar  |\n",
       "\n"
      ],
      "text/plain": [
       "  Name      Age City      \n",
       "1 sachin    23  tonk      \n",
       "2 rajat     30  ganganagar\n",
       "3 nidhi     25  kota      \n",
       "4 yadvendar 21  surajghar "
      ]
     },
     "metadata": {},
     "output_type": "display_data"
    }
   ],
   "source": [
    "df"
   ]
  },
  {
   "cell_type": "code",
   "execution_count": 34,
   "metadata": {},
   "outputs": [
    {
     "data": {
      "text/plain": [
       "        Name        Age                City  \n",
       " nidhi    :1   Min.   :21.00   ganganagar:1  \n",
       " rajat    :1   1st Qu.:22.50   kota      :1  \n",
       " sachin   :1   Median :24.00   surajghar :1  \n",
       " yadvendar:1   Mean   :24.75   tonk      :1  \n",
       "               3rd Qu.:26.25                 \n",
       "               Max.   :30.00                 "
      ]
     },
     "metadata": {},
     "output_type": "display_data"
    }
   ],
   "source": [
    "summary(df)"
   ]
  },
  {
   "cell_type": "code",
   "execution_count": 35,
   "metadata": {},
   "outputs": [],
   "source": [
    "car <- mtcars"
   ]
  },
  {
   "cell_type": "code",
   "execution_count": 37,
   "metadata": {},
   "outputs": [
    {
     "data": {
      "text/html": [
       "11"
      ],
      "text/latex": [
       "11"
      ],
      "text/markdown": [
       "11"
      ],
      "text/plain": [
       "[1] 11"
      ]
     },
     "metadata": {},
     "output_type": "display_data"
    }
   ],
   "source": [
    "length(car)"
   ]
  },
  {
   "cell_type": "code",
   "execution_count": null,
   "metadata": {},
   "outputs": [],
   "source": []
  }
 ],
 "metadata": {
  "kernelspec": {
   "display_name": "R",
   "language": "R",
   "name": "ir"
  },
  "language_info": {
   "codemirror_mode": "r",
   "file_extension": ".r",
   "mimetype": "text/x-r-source",
   "name": "R",
   "pygments_lexer": "r",
   "version": "3.6.0"
  }
 },
 "nbformat": 4,
 "nbformat_minor": 2
}
