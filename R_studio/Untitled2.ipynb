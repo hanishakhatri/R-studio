{
 "cells": [
  {
   "cell_type": "code",
   "execution_count": 1,
   "metadata": {},
   "outputs": [
    {
     "name": "stderr",
     "output_type": "stream",
     "text": [
      "Installing package into 'C:/Users/nikhi/Documents/R/win-library/3.6'\n",
      "(as 'lib' is unspecified)\n",
      "also installing the dependencies 'bit', 'bit64', 'blob', 'memoise', 'gsubfn', 'proto', 'RSQLite', 'chron'\n",
      "\n"
     ]
    },
    {
     "name": "stdout",
     "output_type": "stream",
     "text": [
      "package 'bit' successfully unpacked and MD5 sums checked\n",
      "package 'bit64' successfully unpacked and MD5 sums checked\n",
      "package 'blob' successfully unpacked and MD5 sums checked\n",
      "package 'memoise' successfully unpacked and MD5 sums checked\n",
      "package 'gsubfn' successfully unpacked and MD5 sums checked\n",
      "package 'proto' successfully unpacked and MD5 sums checked\n",
      "package 'RSQLite' successfully unpacked and MD5 sums checked\n",
      "package 'chron' successfully unpacked and MD5 sums checked\n",
      "package 'sqldf' successfully unpacked and MD5 sums checked\n",
      "\n",
      "The downloaded binary packages are in\n",
      "\tC:\\Users\\nikhi\\AppData\\Local\\Temp\\Rtmp2fT7Ps\\downloaded_packages\n"
     ]
    }
   ],
   "source": [
    "install.packages(\"sqldf\")"
   ]
  },
  {
   "cell_type": "code",
   "execution_count": 2,
   "metadata": {},
   "outputs": [
    {
     "name": "stderr",
     "output_type": "stream",
     "text": [
      "Installing package into 'C:/Users/nikhi/Documents/R/win-library/3.6'\n",
      "(as 'lib' is unspecified)\n"
     ]
    },
    {
     "name": "stdout",
     "output_type": "stream",
     "text": [
      "package 'tidyr' successfully unpacked and MD5 sums checked\n",
      "\n",
      "The downloaded binary packages are in\n",
      "\tC:\\Users\\nikhi\\AppData\\Local\\Temp\\Rtmp2fT7Ps\\downloaded_packages\n"
     ]
    }
   ],
   "source": [
    "install.packages(\"tidyr\")"
   ]
  },
  {
   "cell_type": "code",
   "execution_count": 3,
   "metadata": {},
   "outputs": [
    {
     "name": "stderr",
     "output_type": "stream",
     "text": [
      "Installing package into 'C:/Users/nikhi/Documents/R/win-library/3.6'\n",
      "(as 'lib' is unspecified)\n"
     ]
    },
    {
     "name": "stdout",
     "output_type": "stream",
     "text": [
      "package 'dplyr' successfully unpacked and MD5 sums checked\n",
      "\n",
      "The downloaded binary packages are in\n",
      "\tC:\\Users\\nikhi\\AppData\\Local\\Temp\\Rtmp2fT7Ps\\downloaded_packages\n"
     ]
    }
   ],
   "source": [
    "install.packages(\"dplyr\")"
   ]
  },
  {
   "cell_type": "code",
   "execution_count": 4,
   "metadata": {},
   "outputs": [
    {
     "name": "stderr",
     "output_type": "stream",
     "text": [
      "Installing package into 'C:/Users/nikhi/Documents/R/win-library/3.6'\n",
      "(as 'lib' is unspecified)\n"
     ]
    },
    {
     "name": "stdout",
     "output_type": "stream",
     "text": [
      "package 'ggplot2' successfully unpacked and MD5 sums checked\n",
      "\n",
      "The downloaded binary packages are in\n",
      "\tC:\\Users\\nikhi\\AppData\\Local\\Temp\\Rtmp2fT7Ps\\downloaded_packages\n"
     ]
    }
   ],
   "source": [
    "install.packages(\"ggplot2\")"
   ]
  },
  {
   "cell_type": "code",
   "execution_count": 6,
   "metadata": {},
   "outputs": [
    {
     "name": "stderr",
     "output_type": "stream",
     "text": [
      "Installing package into 'C:/Users/nikhi/Documents/R/win-library/3.6'\n",
      "(as 'lib' is unspecified)\n",
      "Warning message:\n",
      "\"package 'stringer' is not available (for R version 3.6.0)\""
     ]
    }
   ],
   "source": [
    "install.packages(\"stringer\")"
   ]
  },
  {
   "cell_type": "code",
   "execution_count": 7,
   "metadata": {},
   "outputs": [],
   "source": [
    "# to view  data  sets\n",
    "data()"
   ]
  },
  {
   "cell_type": "code",
   "execution_count": 15,
   "metadata": {},
   "outputs": [],
   "source": [
    "df=data.frame(year=1880:1899,\n",
    "         sex=sample(c(\"boy\",\"girl\"),20,replace=T),\n",
    "         births= sample(seq(100000,140000),20))"
   ]
  },
  {
   "cell_type": "code",
   "execution_count": 16,
   "metadata": {},
   "outputs": [
    {
     "data": {
      "text/html": [
       "<table>\n",
       "<thead><tr><th scope=col>year</th><th scope=col>sex</th><th scope=col>births</th></tr></thead>\n",
       "<tbody>\n",
       "\t<tr><td>1880  </td><td>boy   </td><td>135394</td></tr>\n",
       "\t<tr><td>1881  </td><td>girl  </td><td>135628</td></tr>\n",
       "\t<tr><td>1882  </td><td>boy   </td><td>132311</td></tr>\n",
       "\t<tr><td>1883  </td><td>boy   </td><td>103578</td></tr>\n",
       "\t<tr><td>1884  </td><td>boy   </td><td>110268</td></tr>\n",
       "\t<tr><td>1885  </td><td>boy   </td><td>105994</td></tr>\n",
       "\t<tr><td>1886  </td><td>girl  </td><td>108707</td></tr>\n",
       "\t<tr><td>1887  </td><td>girl  </td><td>136907</td></tr>\n",
       "\t<tr><td>1888  </td><td>boy   </td><td>105221</td></tr>\n",
       "\t<tr><td>1889  </td><td>boy   </td><td>117296</td></tr>\n",
       "\t<tr><td>1890  </td><td>boy   </td><td>111268</td></tr>\n",
       "\t<tr><td>1891  </td><td>boy   </td><td>105746</td></tr>\n",
       "\t<tr><td>1892  </td><td>girl  </td><td>116626</td></tr>\n",
       "\t<tr><td>1893  </td><td>girl  </td><td>120541</td></tr>\n",
       "\t<tr><td>1894  </td><td>boy   </td><td>111703</td></tr>\n",
       "\t<tr><td>1895  </td><td>girl  </td><td>113269</td></tr>\n",
       "\t<tr><td>1896  </td><td>boy   </td><td>110953</td></tr>\n",
       "\t<tr><td>1897  </td><td>girl  </td><td>114728</td></tr>\n",
       "\t<tr><td>1898  </td><td>girl  </td><td>107776</td></tr>\n",
       "\t<tr><td>1899  </td><td>boy   </td><td>110654</td></tr>\n",
       "</tbody>\n",
       "</table>\n"
      ],
      "text/latex": [
       "\\begin{tabular}{r|lll}\n",
       " year & sex & births\\\\\n",
       "\\hline\n",
       "\t 1880   & boy    & 135394\\\\\n",
       "\t 1881   & girl   & 135628\\\\\n",
       "\t 1882   & boy    & 132311\\\\\n",
       "\t 1883   & boy    & 103578\\\\\n",
       "\t 1884   & boy    & 110268\\\\\n",
       "\t 1885   & boy    & 105994\\\\\n",
       "\t 1886   & girl   & 108707\\\\\n",
       "\t 1887   & girl   & 136907\\\\\n",
       "\t 1888   & boy    & 105221\\\\\n",
       "\t 1889   & boy    & 117296\\\\\n",
       "\t 1890   & boy    & 111268\\\\\n",
       "\t 1891   & boy    & 105746\\\\\n",
       "\t 1892   & girl   & 116626\\\\\n",
       "\t 1893   & girl   & 120541\\\\\n",
       "\t 1894   & boy    & 111703\\\\\n",
       "\t 1895   & girl   & 113269\\\\\n",
       "\t 1896   & boy    & 110953\\\\\n",
       "\t 1897   & girl   & 114728\\\\\n",
       "\t 1898   & girl   & 107776\\\\\n",
       "\t 1899   & boy    & 110654\\\\\n",
       "\\end{tabular}\n"
      ],
      "text/markdown": [
       "\n",
       "| year | sex | births |\n",
       "|---|---|---|\n",
       "| 1880   | boy    | 135394 |\n",
       "| 1881   | girl   | 135628 |\n",
       "| 1882   | boy    | 132311 |\n",
       "| 1883   | boy    | 103578 |\n",
       "| 1884   | boy    | 110268 |\n",
       "| 1885   | boy    | 105994 |\n",
       "| 1886   | girl   | 108707 |\n",
       "| 1887   | girl   | 136907 |\n",
       "| 1888   | boy    | 105221 |\n",
       "| 1889   | boy    | 117296 |\n",
       "| 1890   | boy    | 111268 |\n",
       "| 1891   | boy    | 105746 |\n",
       "| 1892   | girl   | 116626 |\n",
       "| 1893   | girl   | 120541 |\n",
       "| 1894   | boy    | 111703 |\n",
       "| 1895   | girl   | 113269 |\n",
       "| 1896   | boy    | 110953 |\n",
       "| 1897   | girl   | 114728 |\n",
       "| 1898   | girl   | 107776 |\n",
       "| 1899   | boy    | 110654 |\n",
       "\n"
      ],
      "text/plain": [
       "   year sex  births\n",
       "1  1880 boy  135394\n",
       "2  1881 girl 135628\n",
       "3  1882 boy  132311\n",
       "4  1883 boy  103578\n",
       "5  1884 boy  110268\n",
       "6  1885 boy  105994\n",
       "7  1886 girl 108707\n",
       "8  1887 girl 136907\n",
       "9  1888 boy  105221\n",
       "10 1889 boy  117296\n",
       "11 1890 boy  111268\n",
       "12 1891 boy  105746\n",
       "13 1892 girl 116626\n",
       "14 1893 girl 120541\n",
       "15 1894 boy  111703\n",
       "16 1895 girl 113269\n",
       "17 1896 boy  110953\n",
       "18 1897 girl 114728\n",
       "19 1898 girl 107776\n",
       "20 1899 boy  110654"
      ]
     },
     "metadata": {},
     "output_type": "display_data"
    }
   ],
   "source": [
    "df"
   ]
  },
  {
   "cell_type": "code",
   "execution_count": 17,
   "metadata": {},
   "outputs": [
    {
     "name": "stdout",
     "output_type": "stream",
     "text": [
      "'data.frame':\t20 obs. of  3 variables:\n",
      " $ year  : int  1880 1881 1882 1883 1884 1885 1886 1887 1888 1889 ...\n",
      " $ sex   : Factor w/ 2 levels \"boy\",\"girl\": 1 2 1 1 1 1 2 2 1 1 ...\n",
      " $ births: int  135394 135628 132311 103578 110268 105994 108707 136907 105221 117296 ...\n"
     ]
    }
   ],
   "source": [
    "str(df)"
   ]
  },
  {
   "cell_type": "code",
   "execution_count": 18,
   "metadata": {},
   "outputs": [
    {
     "data": {
      "text/plain": [
       "      year        sex         births      \n",
       " Min.   :1880   boy :12   Min.   :103578  \n",
       " 1st Qu.:1885   girl: 8   1st Qu.:108474  \n",
       " Median :1890             Median :111486  \n",
       " Mean   :1890             Mean   :115728  \n",
       " 3rd Qu.:1894             3rd Qu.:118107  \n",
       " Max.   :1899             Max.   :136907  "
      ]
     },
     "metadata": {},
     "output_type": "display_data"
    }
   ],
   "source": [
    "summary(df)"
   ]
  },
  {
   "cell_type": "code",
   "execution_count": 19,
   "metadata": {},
   "outputs": [
    {
     "data": {
      "text/html": [
       "<ol class=list-inline>\n",
       "\t<li>'year'</li>\n",
       "\t<li>'sex'</li>\n",
       "\t<li>'births'</li>\n",
       "</ol>\n"
      ],
      "text/latex": [
       "\\begin{enumerate*}\n",
       "\\item 'year'\n",
       "\\item 'sex'\n",
       "\\item 'births'\n",
       "\\end{enumerate*}\n"
      ],
      "text/markdown": [
       "1. 'year'\n",
       "2. 'sex'\n",
       "3. 'births'\n",
       "\n",
       "\n"
      ],
      "text/plain": [
       "[1] \"year\"   \"sex\"    \"births\""
      ]
     },
     "metadata": {},
     "output_type": "display_data"
    }
   ],
   "source": [
    "names(df)"
   ]
  },
  {
   "cell_type": "code",
   "execution_count": 20,
   "metadata": {},
   "outputs": [
    {
     "data": {
      "text/html": [
       "<ol class=list-inline>\n",
       "\t<li>'year'</li>\n",
       "\t<li>'sex'</li>\n",
       "\t<li>'births'</li>\n",
       "</ol>\n"
      ],
      "text/latex": [
       "\\begin{enumerate*}\n",
       "\\item 'year'\n",
       "\\item 'sex'\n",
       "\\item 'births'\n",
       "\\end{enumerate*}\n"
      ],
      "text/markdown": [
       "1. 'year'\n",
       "2. 'sex'\n",
       "3. 'births'\n",
       "\n",
       "\n"
      ],
      "text/plain": [
       "[1] \"year\"   \"sex\"    \"births\""
      ]
     },
     "metadata": {},
     "output_type": "display_data"
    }
   ],
   "source": [
    "colnames(df)"
   ]
  },
  {
   "cell_type": "code",
   "execution_count": 21,
   "metadata": {},
   "outputs": [
    {
     "data": {
      "text/html": [
       "<ol class=list-inline>\n",
       "\t<li>'1'</li>\n",
       "\t<li>'2'</li>\n",
       "\t<li>'3'</li>\n",
       "\t<li>'4'</li>\n",
       "\t<li>'5'</li>\n",
       "\t<li>'6'</li>\n",
       "\t<li>'7'</li>\n",
       "\t<li>'8'</li>\n",
       "\t<li>'9'</li>\n",
       "\t<li>'10'</li>\n",
       "\t<li>'11'</li>\n",
       "\t<li>'12'</li>\n",
       "\t<li>'13'</li>\n",
       "\t<li>'14'</li>\n",
       "\t<li>'15'</li>\n",
       "\t<li>'16'</li>\n",
       "\t<li>'17'</li>\n",
       "\t<li>'18'</li>\n",
       "\t<li>'19'</li>\n",
       "\t<li>'20'</li>\n",
       "</ol>\n"
      ],
      "text/latex": [
       "\\begin{enumerate*}\n",
       "\\item '1'\n",
       "\\item '2'\n",
       "\\item '3'\n",
       "\\item '4'\n",
       "\\item '5'\n",
       "\\item '6'\n",
       "\\item '7'\n",
       "\\item '8'\n",
       "\\item '9'\n",
       "\\item '10'\n",
       "\\item '11'\n",
       "\\item '12'\n",
       "\\item '13'\n",
       "\\item '14'\n",
       "\\item '15'\n",
       "\\item '16'\n",
       "\\item '17'\n",
       "\\item '18'\n",
       "\\item '19'\n",
       "\\item '20'\n",
       "\\end{enumerate*}\n"
      ],
      "text/markdown": [
       "1. '1'\n",
       "2. '2'\n",
       "3. '3'\n",
       "4. '4'\n",
       "5. '5'\n",
       "6. '6'\n",
       "7. '7'\n",
       "8. '8'\n",
       "9. '9'\n",
       "10. '10'\n",
       "11. '11'\n",
       "12. '12'\n",
       "13. '13'\n",
       "14. '14'\n",
       "15. '15'\n",
       "16. '16'\n",
       "17. '17'\n",
       "18. '18'\n",
       "19. '19'\n",
       "20. '20'\n",
       "\n",
       "\n"
      ],
      "text/plain": [
       " [1] \"1\"  \"2\"  \"3\"  \"4\"  \"5\"  \"6\"  \"7\"  \"8\"  \"9\"  \"10\" \"11\" \"12\" \"13\" \"14\" \"15\"\n",
       "[16] \"16\" \"17\" \"18\" \"19\" \"20\""
      ]
     },
     "metadata": {},
     "output_type": "display_data"
    }
   ],
   "source": [
    "rownames(df)"
   ]
  },
  {
   "cell_type": "code",
   "execution_count": 22,
   "metadata": {},
   "outputs": [
    {
     "data": {
      "text/html": [
       "<ol class=list-inline>\n",
       "\t<li>20</li>\n",
       "\t<li>3</li>\n",
       "</ol>\n"
      ],
      "text/latex": [
       "\\begin{enumerate*}\n",
       "\\item 20\n",
       "\\item 3\n",
       "\\end{enumerate*}\n"
      ],
      "text/markdown": [
       "1. 20\n",
       "2. 3\n",
       "\n",
       "\n"
      ],
      "text/plain": [
       "[1] 20  3"
      ]
     },
     "metadata": {},
     "output_type": "display_data"
    }
   ],
   "source": [
    "dim(df)"
   ]
  },
  {
   "cell_type": "code",
   "execution_count": 23,
   "metadata": {},
   "outputs": [
    {
     "data": {
      "text/html": [
       "<table>\n",
       "<thead><tr><th scope=col>year</th><th scope=col>sex</th><th scope=col>births</th></tr></thead>\n",
       "<tbody>\n",
       "\t<tr><td>1880  </td><td>boy   </td><td>135394</td></tr>\n",
       "\t<tr><td>1881  </td><td>girl  </td><td>135628</td></tr>\n",
       "\t<tr><td>1882  </td><td>boy   </td><td>132311</td></tr>\n",
       "\t<tr><td>1883  </td><td>boy   </td><td>103578</td></tr>\n",
       "\t<tr><td>1884  </td><td>boy   </td><td>110268</td></tr>\n",
       "\t<tr><td>1885  </td><td>boy   </td><td>105994</td></tr>\n",
       "</tbody>\n",
       "</table>\n"
      ],
      "text/latex": [
       "\\begin{tabular}{r|lll}\n",
       " year & sex & births\\\\\n",
       "\\hline\n",
       "\t 1880   & boy    & 135394\\\\\n",
       "\t 1881   & girl   & 135628\\\\\n",
       "\t 1882   & boy    & 132311\\\\\n",
       "\t 1883   & boy    & 103578\\\\\n",
       "\t 1884   & boy    & 110268\\\\\n",
       "\t 1885   & boy    & 105994\\\\\n",
       "\\end{tabular}\n"
      ],
      "text/markdown": [
       "\n",
       "| year | sex | births |\n",
       "|---|---|---|\n",
       "| 1880   | boy    | 135394 |\n",
       "| 1881   | girl   | 135628 |\n",
       "| 1882   | boy    | 132311 |\n",
       "| 1883   | boy    | 103578 |\n",
       "| 1884   | boy    | 110268 |\n",
       "| 1885   | boy    | 105994 |\n",
       "\n"
      ],
      "text/plain": [
       "  year sex  births\n",
       "1 1880 boy  135394\n",
       "2 1881 girl 135628\n",
       "3 1882 boy  132311\n",
       "4 1883 boy  103578\n",
       "5 1884 boy  110268\n",
       "6 1885 boy  105994"
      ]
     },
     "metadata": {},
     "output_type": "display_data"
    }
   ],
   "source": [
    "head(df)"
   ]
  },
  {
   "cell_type": "code",
   "execution_count": 24,
   "metadata": {},
   "outputs": [
    {
     "data": {
      "text/html": [
       "<table>\n",
       "<thead><tr><th></th><th scope=col>year</th><th scope=col>sex</th><th scope=col>births</th></tr></thead>\n",
       "<tbody>\n",
       "\t<tr><th scope=row>15</th><td>1894  </td><td>boy   </td><td>111703</td></tr>\n",
       "\t<tr><th scope=row>16</th><td>1895  </td><td>girl  </td><td>113269</td></tr>\n",
       "\t<tr><th scope=row>17</th><td>1896  </td><td>boy   </td><td>110953</td></tr>\n",
       "\t<tr><th scope=row>18</th><td>1897  </td><td>girl  </td><td>114728</td></tr>\n",
       "\t<tr><th scope=row>19</th><td>1898  </td><td>girl  </td><td>107776</td></tr>\n",
       "\t<tr><th scope=row>20</th><td>1899  </td><td>boy   </td><td>110654</td></tr>\n",
       "</tbody>\n",
       "</table>\n"
      ],
      "text/latex": [
       "\\begin{tabular}{r|lll}\n",
       "  & year & sex & births\\\\\n",
       "\\hline\n",
       "\t15 & 1894   & boy    & 111703\\\\\n",
       "\t16 & 1895   & girl   & 113269\\\\\n",
       "\t17 & 1896   & boy    & 110953\\\\\n",
       "\t18 & 1897   & girl   & 114728\\\\\n",
       "\t19 & 1898   & girl   & 107776\\\\\n",
       "\t20 & 1899   & boy    & 110654\\\\\n",
       "\\end{tabular}\n"
      ],
      "text/markdown": [
       "\n",
       "| <!--/--> | year | sex | births |\n",
       "|---|---|---|---|\n",
       "| 15 | 1894   | boy    | 111703 |\n",
       "| 16 | 1895   | girl   | 113269 |\n",
       "| 17 | 1896   | boy    | 110953 |\n",
       "| 18 | 1897   | girl   | 114728 |\n",
       "| 19 | 1898   | girl   | 107776 |\n",
       "| 20 | 1899   | boy    | 110654 |\n",
       "\n"
      ],
      "text/plain": [
       "   year sex  births\n",
       "15 1894 boy  111703\n",
       "16 1895 girl 113269\n",
       "17 1896 boy  110953\n",
       "18 1897 girl 114728\n",
       "19 1898 girl 107776\n",
       "20 1899 boy  110654"
      ]
     },
     "metadata": {},
     "output_type": "display_data"
    }
   ],
   "source": [
    "tail(df)"
   ]
  },
  {
   "cell_type": "code",
   "execution_count": 27,
   "metadata": {},
   "outputs": [
    {
     "data": {
      "text/html": [
       "<table>\n",
       "<thead><tr><th></th><th scope=col>year</th><th scope=col>sex</th><th scope=col>births</th></tr></thead>\n",
       "<tbody>\n",
       "\t<tr><th scope=row>11</th><td>1890  </td><td>boy   </td><td>111268</td></tr>\n",
       "\t<tr><th scope=row>12</th><td>1891  </td><td>boy   </td><td>105746</td></tr>\n",
       "\t<tr><th scope=row>13</th><td>1892  </td><td>girl  </td><td>116626</td></tr>\n",
       "\t<tr><th scope=row>14</th><td>1893  </td><td>girl  </td><td>120541</td></tr>\n",
       "\t<tr><th scope=row>15</th><td>1894  </td><td>boy   </td><td>111703</td></tr>\n",
       "</tbody>\n",
       "</table>\n"
      ],
      "text/latex": [
       "\\begin{tabular}{r|lll}\n",
       "  & year & sex & births\\\\\n",
       "\\hline\n",
       "\t11 & 1890   & boy    & 111268\\\\\n",
       "\t12 & 1891   & boy    & 105746\\\\\n",
       "\t13 & 1892   & girl   & 116626\\\\\n",
       "\t14 & 1893   & girl   & 120541\\\\\n",
       "\t15 & 1894   & boy    & 111703\\\\\n",
       "\\end{tabular}\n"
      ],
      "text/markdown": [
       "\n",
       "| <!--/--> | year | sex | births |\n",
       "|---|---|---|---|\n",
       "| 11 | 1890   | boy    | 111268 |\n",
       "| 12 | 1891   | boy    | 105746 |\n",
       "| 13 | 1892   | girl   | 116626 |\n",
       "| 14 | 1893   | girl   | 120541 |\n",
       "| 15 | 1894   | boy    | 111703 |\n",
       "\n"
      ],
      "text/plain": [
       "   year sex  births\n",
       "11 1890 boy  111268\n",
       "12 1891 boy  105746\n",
       "13 1892 girl 116626\n",
       "14 1893 girl 120541\n",
       "15 1894 boy  111703"
      ]
     },
     "metadata": {},
     "output_type": "display_data"
    }
   ],
   "source": [
    "tail(head(df,15),5)"
   ]
  },
  {
   "cell_type": "code",
   "execution_count": 29,
   "metadata": {},
   "outputs": [
    {
     "data": {
      "text/html": [
       "136907"
      ],
      "text/latex": [
       "136907"
      ],
      "text/markdown": [
       "136907"
      ],
      "text/plain": [
       "[1] 136907"
      ]
     },
     "metadata": {},
     "output_type": "display_data"
    }
   ],
   "source": [
    "max(df$births)"
   ]
  },
  {
   "cell_type": "code",
   "execution_count": 30,
   "metadata": {},
   "outputs": [
    {
     "data": {
      "text/html": [
       "103578"
      ],
      "text/latex": [
       "103578"
      ],
      "text/markdown": [
       "103578"
      ],
      "text/plain": [
       "[1] 103578"
      ]
     },
     "metadata": {},
     "output_type": "display_data"
    }
   ],
   "source": [
    "min(df$births)"
   ]
  },
  {
   "cell_type": "code",
   "execution_count": 31,
   "metadata": {},
   "outputs": [
    {
     "data": {
      "text/html": [
       "115728.4"
      ],
      "text/latex": [
       "115728.4"
      ],
      "text/markdown": [
       "115728.4"
      ],
      "text/plain": [
       "[1] 115728.4"
      ]
     },
     "metadata": {},
     "output_type": "display_data"
    }
   ],
   "source": [
    "mean(df$births)"
   ]
  },
  {
   "cell_type": "code",
   "execution_count": 32,
   "metadata": {},
   "outputs": [
    {
     "data": {
      "text/html": [
       "111485.5"
      ],
      "text/latex": [
       "111485.5"
      ],
      "text/markdown": [
       "111485.5"
      ],
      "text/plain": [
       "[1] 111485.5"
      ]
     },
     "metadata": {},
     "output_type": "display_data"
    }
   ],
   "source": [
    "median(df$births)"
   ]
  },
  {
   "cell_type": "code",
   "execution_count": 33,
   "metadata": {},
   "outputs": [
    {
     "data": {
      "text/html": [
       "10807.3402463326"
      ],
      "text/latex": [
       "10807.3402463326"
      ],
      "text/markdown": [
       "10807.3402463326"
      ],
      "text/plain": [
       "[1] 10807.34"
      ]
     },
     "metadata": {},
     "output_type": "display_data"
    }
   ],
   "source": [
    "sd(df$births)"
   ]
  },
  {
   "cell_type": "code",
   "execution_count": 34,
   "metadata": {},
   "outputs": [
    {
     "data": {
      "text/html": [
       "116798603.2"
      ],
      "text/latex": [
       "116798603.2"
      ],
      "text/markdown": [
       "116798603.2"
      ],
      "text/plain": [
       "[1] 116798603"
      ]
     },
     "metadata": {},
     "output_type": "display_data"
    }
   ],
   "source": [
    "var(df$births)"
   ]
  },
  {
   "cell_type": "code",
   "execution_count": 35,
   "metadata": {},
   "outputs": [
    {
     "data": {
      "text/html": [
       "<dl class=dl-horizontal>\n",
       "\t<dt>0%</dt>\n",
       "\t\t<dd>103578</dd>\n",
       "\t<dt>25%</dt>\n",
       "\t\t<dd>108474.25</dd>\n",
       "\t<dt>50%</dt>\n",
       "\t\t<dd>111485.5</dd>\n",
       "\t<dt>75%</dt>\n",
       "\t\t<dd>118107.25</dd>\n",
       "\t<dt>100%</dt>\n",
       "\t\t<dd>136907</dd>\n",
       "</dl>\n"
      ],
      "text/latex": [
       "\\begin{description*}\n",
       "\\item[0\\textbackslash{}\\%] 103578\n",
       "\\item[25\\textbackslash{}\\%] 108474.25\n",
       "\\item[50\\textbackslash{}\\%] 111485.5\n",
       "\\item[75\\textbackslash{}\\%] 118107.25\n",
       "\\item[100\\textbackslash{}\\%] 136907\n",
       "\\end{description*}\n"
      ],
      "text/markdown": [
       "0%\n",
       ":   10357825%\n",
       ":   108474.2550%\n",
       ":   111485.575%\n",
       ":   118107.25100%\n",
       ":   136907\n",
       "\n"
      ],
      "text/plain": [
       "      0%      25%      50%      75%     100% \n",
       "103578.0 108474.2 111485.5 118107.2 136907.0 "
      ]
     },
     "metadata": {},
     "output_type": "display_data"
    }
   ],
   "source": [
    "quantile(df$births)"
   ]
  },
  {
   "cell_type": "code",
   "execution_count": 36,
   "metadata": {},
   "outputs": [
    {
     "data": {
      "text/html": [
       "111485.5"
      ],
      "text/latex": [
       "111485.5"
      ],
      "text/markdown": [
       "111485.5"
      ],
      "text/plain": [
       "[1] 111485.5"
      ]
     },
     "metadata": {},
     "output_type": "display_data"
    }
   ],
   "source": [
    "median(df$births)"
   ]
  },
  {
   "cell_type": "code",
   "execution_count": 37,
   "metadata": {},
   "outputs": [
    {
     "data": {
      "text/plain": [
       "   Min. 1st Qu.  Median    Mean 3rd Qu.    Max. \n",
       " 103578  108474  111486  115728  118107  136907 "
      ]
     },
     "metadata": {},
     "output_type": "display_data"
    }
   ],
   "source": [
    "summary(df$births)"
   ]
  },
  {
   "cell_type": "code",
   "execution_count": 38,
   "metadata": {},
   "outputs": [
    {
     "data": {
      "text/html": [
       "3"
      ],
      "text/latex": [
       "3"
      ],
      "text/markdown": [
       "3"
      ],
      "text/plain": [
       "[1] 3"
      ]
     },
     "metadata": {},
     "output_type": "display_data"
    }
   ],
   "source": [
    "length(df)"
   ]
  },
  {
   "cell_type": "code",
   "execution_count": 40,
   "metadata": {},
   "outputs": [
    {
     "data": {
      "text/html": [
       "<ol class=list-inline>\n",
       "\t<li>11.8159443253322</li>\n",
       "\t<li>11.8176711228479</li>\n",
       "\t<li>11.7929104910156</li>\n",
       "\t<li>11.5480802310446</li>\n",
       "\t<li>11.6106690452889</li>\n",
       "\t<li>11.5711377677186</li>\n",
       "\t<li>11.59641146846</li>\n",
       "\t<li>11.8270571421826</li>\n",
       "\t<li>11.5638181791362</li>\n",
       "\t<li>11.6724559334634</li>\n",
       "\t<li>11.6196969846935</li>\n",
       "\t<li>11.568795271134</li>\n",
       "\t<li>11.6667275126038</li>\n",
       "\t<li>11.699745223004</li>\n",
       "\t<li>11.6235988423511</li>\n",
       "\t<li>11.6375207996928</li>\n",
       "\t<li>11.616861967202</li>\n",
       "\t<li>11.650319388409</li>\n",
       "\t<li>11.5878102781619</li>\n",
       "\t<li>11.6141634948484</li>\n",
       "</ol>\n"
      ],
      "text/latex": [
       "\\begin{enumerate*}\n",
       "\\item 11.8159443253322\n",
       "\\item 11.8176711228479\n",
       "\\item 11.7929104910156\n",
       "\\item 11.5480802310446\n",
       "\\item 11.6106690452889\n",
       "\\item 11.5711377677186\n",
       "\\item 11.59641146846\n",
       "\\item 11.8270571421826\n",
       "\\item 11.5638181791362\n",
       "\\item 11.6724559334634\n",
       "\\item 11.6196969846935\n",
       "\\item 11.568795271134\n",
       "\\item 11.6667275126038\n",
       "\\item 11.699745223004\n",
       "\\item 11.6235988423511\n",
       "\\item 11.6375207996928\n",
       "\\item 11.616861967202\n",
       "\\item 11.650319388409\n",
       "\\item 11.5878102781619\n",
       "\\item 11.6141634948484\n",
       "\\end{enumerate*}\n"
      ],
      "text/markdown": [
       "1. 11.8159443253322\n",
       "2. 11.8176711228479\n",
       "3. 11.7929104910156\n",
       "4. 11.5480802310446\n",
       "5. 11.6106690452889\n",
       "6. 11.5711377677186\n",
       "7. 11.59641146846\n",
       "8. 11.8270571421826\n",
       "9. 11.5638181791362\n",
       "10. 11.6724559334634\n",
       "11. 11.6196969846935\n",
       "12. 11.568795271134\n",
       "13. 11.6667275126038\n",
       "14. 11.699745223004\n",
       "15. 11.6235988423511\n",
       "16. 11.6375207996928\n",
       "17. 11.616861967202\n",
       "18. 11.650319388409\n",
       "19. 11.5878102781619\n",
       "20. 11.6141634948484\n",
       "\n",
       "\n"
      ],
      "text/plain": [
       " [1] 11.81594 11.81767 11.79291 11.54808 11.61067 11.57114 11.59641 11.82706\n",
       " [9] 11.56382 11.67246 11.61970 11.56880 11.66673 11.69975 11.62360 11.63752\n",
       "[17] 11.61686 11.65032 11.58781 11.61416"
      ]
     },
     "metadata": {},
     "output_type": "display_data"
    }
   ],
   "source": [
    "log(df$births)"
   ]
  },
  {
   "cell_type": "code",
   "execution_count": 41,
   "metadata": {},
   "outputs": [
    {
     "data": {
      "text/html": [
       "<ol class=list-inline>\n",
       "\t<li>-0.704279858882976</li>\n",
       "\t<li>-0.743333984150499</li>\n",
       "\t<li>-0.310955861287076</li>\n",
       "\t<li>-0.304857549633307</li>\n",
       "\t<li>-0.945605755823974</li>\n",
       "\t<li>0.19331470865625</li>\n",
       "\t<li>0.999191921647565</li>\n",
       "\t<li>0.449540433099229</li>\n",
       "\t<li>0.35484351306204</li>\n",
       "\t<li>0.997255054680799</li>\n",
       "\t<li>-0.800785088905301</li>\n",
       "\t<li>-0.00871972193805565</li>\n",
       "\t<li>-0.60988921250259</li>\n",
       "\t<li>-0.942980581842366</li>\n",
       "\t<li>0.506920909450509</li>\n",
       "\t<li>0.901457630501077</li>\n",
       "\t<li>-0.98035496761733</li>\n",
       "\t<li>-0.176946922300122</li>\n",
       "\t<li>0.498983958336738</li>\n",
       "\t<li>0.733566677801735</li>\n",
       "</ol>\n"
      ],
      "text/latex": [
       "\\begin{enumerate*}\n",
       "\\item -0.704279858882976\n",
       "\\item -0.743333984150499\n",
       "\\item -0.310955861287076\n",
       "\\item -0.304857549633307\n",
       "\\item -0.945605755823974\n",
       "\\item 0.19331470865625\n",
       "\\item 0.999191921647565\n",
       "\\item 0.449540433099229\n",
       "\\item 0.35484351306204\n",
       "\\item 0.997255054680799\n",
       "\\item -0.800785088905301\n",
       "\\item -0.00871972193805565\n",
       "\\item -0.60988921250259\n",
       "\\item -0.942980581842366\n",
       "\\item 0.506920909450509\n",
       "\\item 0.901457630501077\n",
       "\\item -0.98035496761733\n",
       "\\item -0.176946922300122\n",
       "\\item 0.498983958336738\n",
       "\\item 0.733566677801735\n",
       "\\end{enumerate*}\n"
      ],
      "text/markdown": [
       "1. -0.704279858882976\n",
       "2. -0.743333984150499\n",
       "3. -0.310955861287076\n",
       "4. -0.304857549633307\n",
       "5. -0.945605755823974\n",
       "6. 0.19331470865625\n",
       "7. 0.999191921647565\n",
       "8. 0.449540433099229\n",
       "9. 0.35484351306204\n",
       "10. 0.997255054680799\n",
       "11. -0.800785088905301\n",
       "12. -0.00871972193805565\n",
       "13. -0.60988921250259\n",
       "14. -0.942980581842366\n",
       "15. 0.506920909450509\n",
       "16. 0.901457630501077\n",
       "17. -0.98035496761733\n",
       "18. -0.176946922300122\n",
       "19. 0.498983958336738\n",
       "20. 0.733566677801735\n",
       "\n",
       "\n"
      ],
      "text/plain": [
       " [1] -0.704279859 -0.743333984 -0.310955861 -0.304857550 -0.945605756\n",
       " [6]  0.193314709  0.999191922  0.449540433  0.354843513  0.997255055\n",
       "[11] -0.800785089 -0.008719722 -0.609889213 -0.942980582  0.506920909\n",
       "[16]  0.901457631 -0.980354968 -0.176946922  0.498983958  0.733566678"
      ]
     },
     "metadata": {},
     "output_type": "display_data"
    }
   ],
   "source": [
    "sin(df$births)"
   ]
  },
  {
   "cell_type": "code",
   "execution_count": 42,
   "metadata": {},
   "outputs": [
    {
     "data": {
      "text/html": [
       "<ol class=list-inline>\n",
       "\t<li>103578</li>\n",
       "\t<li>108241.5</li>\n",
       "\t<li>111485.5</li>\n",
       "\t<li>118918.5</li>\n",
       "\t<li>136907</li>\n",
       "</ol>\n"
      ],
      "text/latex": [
       "\\begin{enumerate*}\n",
       "\\item 103578\n",
       "\\item 108241.5\n",
       "\\item 111485.5\n",
       "\\item 118918.5\n",
       "\\item 136907\n",
       "\\end{enumerate*}\n"
      ],
      "text/markdown": [
       "1. 103578\n",
       "2. 108241.5\n",
       "3. 111485.5\n",
       "4. 118918.5\n",
       "5. 136907\n",
       "\n",
       "\n"
      ],
      "text/plain": [
       "[1] 103578.0 108241.5 111485.5 118918.5 136907.0"
      ]
     },
     "metadata": {},
     "output_type": "display_data"
    }
   ],
   "source": [
    "fivenum(df$births)"
   ]
  },
  {
   "cell_type": "code",
   "execution_count": 43,
   "metadata": {},
   "outputs": [
    {
     "data": {
      "text/html": [
       "<ol class=list-inline>\n",
       "\t<li>135394</li>\n",
       "\t<li>135628</li>\n",
       "\t<li>132311</li>\n",
       "\t<li>103578</li>\n",
       "\t<li>110268</li>\n",
       "\t<li>105994</li>\n",
       "\t<li>108707</li>\n",
       "\t<li>136907</li>\n",
       "\t<li>105221</li>\n",
       "\t<li>117296</li>\n",
       "\t<li>111268</li>\n",
       "\t<li>105746</li>\n",
       "\t<li>116626</li>\n",
       "\t<li>120541</li>\n",
       "\t<li>111703</li>\n",
       "\t<li>113269</li>\n",
       "\t<li>110953</li>\n",
       "\t<li>114728</li>\n",
       "\t<li>107776</li>\n",
       "\t<li>110654</li>\n",
       "</ol>\n"
      ],
      "text/latex": [
       "\\begin{enumerate*}\n",
       "\\item 135394\n",
       "\\item 135628\n",
       "\\item 132311\n",
       "\\item 103578\n",
       "\\item 110268\n",
       "\\item 105994\n",
       "\\item 108707\n",
       "\\item 136907\n",
       "\\item 105221\n",
       "\\item 117296\n",
       "\\item 111268\n",
       "\\item 105746\n",
       "\\item 116626\n",
       "\\item 120541\n",
       "\\item 111703\n",
       "\\item 113269\n",
       "\\item 110953\n",
       "\\item 114728\n",
       "\\item 107776\n",
       "\\item 110654\n",
       "\\end{enumerate*}\n"
      ],
      "text/markdown": [
       "1. 135394\n",
       "2. 135628\n",
       "3. 132311\n",
       "4. 103578\n",
       "5. 110268\n",
       "6. 105994\n",
       "7. 108707\n",
       "8. 136907\n",
       "9. 105221\n",
       "10. 117296\n",
       "11. 111268\n",
       "12. 105746\n",
       "13. 116626\n",
       "14. 120541\n",
       "15. 111703\n",
       "16. 113269\n",
       "17. 110953\n",
       "18. 114728\n",
       "19. 107776\n",
       "20. 110654\n",
       "\n",
       "\n"
      ],
      "text/plain": [
       " [1] 135394 135628 132311 103578 110268 105994 108707 136907 105221 117296\n",
       "[11] 111268 105746 116626 120541 111703 113269 110953 114728 107776 110654"
      ]
     },
     "metadata": {},
     "output_type": "display_data"
    }
   ],
   "source": [
    "df$births"
   ]
  },
  {
   "cell_type": "code",
   "execution_count": 44,
   "metadata": {},
   "outputs": [
    {
     "data": {
      "text/html": [
       "<ol class=list-inline>\n",
       "\t<li>135394</li>\n",
       "\t<li>135628</li>\n",
       "\t<li>135628</li>\n",
       "\t<li>135628</li>\n",
       "\t<li>135628</li>\n",
       "\t<li>135628</li>\n",
       "\t<li>135628</li>\n",
       "\t<li>136907</li>\n",
       "\t<li>136907</li>\n",
       "\t<li>136907</li>\n",
       "\t<li>136907</li>\n",
       "\t<li>136907</li>\n",
       "\t<li>136907</li>\n",
       "\t<li>136907</li>\n",
       "\t<li>136907</li>\n",
       "\t<li>136907</li>\n",
       "\t<li>136907</li>\n",
       "\t<li>136907</li>\n",
       "\t<li>136907</li>\n",
       "\t<li>136907</li>\n",
       "</ol>\n"
      ],
      "text/latex": [
       "\\begin{enumerate*}\n",
       "\\item 135394\n",
       "\\item 135628\n",
       "\\item 135628\n",
       "\\item 135628\n",
       "\\item 135628\n",
       "\\item 135628\n",
       "\\item 135628\n",
       "\\item 136907\n",
       "\\item 136907\n",
       "\\item 136907\n",
       "\\item 136907\n",
       "\\item 136907\n",
       "\\item 136907\n",
       "\\item 136907\n",
       "\\item 136907\n",
       "\\item 136907\n",
       "\\item 136907\n",
       "\\item 136907\n",
       "\\item 136907\n",
       "\\item 136907\n",
       "\\end{enumerate*}\n"
      ],
      "text/markdown": [
       "1. 135394\n",
       "2. 135628\n",
       "3. 135628\n",
       "4. 135628\n",
       "5. 135628\n",
       "6. 135628\n",
       "7. 135628\n",
       "8. 136907\n",
       "9. 136907\n",
       "10. 136907\n",
       "11. 136907\n",
       "12. 136907\n",
       "13. 136907\n",
       "14. 136907\n",
       "15. 136907\n",
       "16. 136907\n",
       "17. 136907\n",
       "18. 136907\n",
       "19. 136907\n",
       "20. 136907\n",
       "\n",
       "\n"
      ],
      "text/plain": [
       " [1] 135394 135628 135628 135628 135628 135628 135628 136907 136907 136907\n",
       "[11] 136907 136907 136907 136907 136907 136907 136907 136907 136907 136907"
      ]
     },
     "metadata": {},
     "output_type": "display_data"
    }
   ],
   "source": [
    "cummax(df$births)"
   ]
  },
  {
   "cell_type": "code",
   "execution_count": 45,
   "metadata": {},
   "outputs": [
    {
     "data": {
      "text/html": [
       "<ol class=list-inline>\n",
       "\t<li>1</li>\n",
       "\t<li>3</li>\n",
       "\t<li>6</li>\n",
       "\t<li>10</li>\n",
       "\t<li>15</li>\n",
       "\t<li>21</li>\n",
       "\t<li>28</li>\n",
       "\t<li>36</li>\n",
       "\t<li>45</li>\n",
       "\t<li>55</li>\n",
       "</ol>\n"
      ],
      "text/latex": [
       "\\begin{enumerate*}\n",
       "\\item 1\n",
       "\\item 3\n",
       "\\item 6\n",
       "\\item 10\n",
       "\\item 15\n",
       "\\item 21\n",
       "\\item 28\n",
       "\\item 36\n",
       "\\item 45\n",
       "\\item 55\n",
       "\\end{enumerate*}\n"
      ],
      "text/markdown": [
       "1. 1\n",
       "2. 3\n",
       "3. 6\n",
       "4. 10\n",
       "5. 15\n",
       "6. 21\n",
       "7. 28\n",
       "8. 36\n",
       "9. 45\n",
       "10. 55\n",
       "\n",
       "\n"
      ],
      "text/plain": [
       " [1]  1  3  6 10 15 21 28 36 45 55"
      ]
     },
     "metadata": {},
     "output_type": "display_data"
    }
   ],
   "source": [
    "cumsum(1:10)"
   ]
  },
  {
   "cell_type": "code",
   "execution_count": 46,
   "metadata": {},
   "outputs": [
    {
     "data": {
      "text/html": [
       "<ol class=list-inline>\n",
       "\t<li>1</li>\n",
       "\t<li>2</li>\n",
       "\t<li>6</li>\n",
       "\t<li>24</li>\n",
       "\t<li>120</li>\n",
       "\t<li>720</li>\n",
       "\t<li>5040</li>\n",
       "\t<li>40320</li>\n",
       "\t<li>362880</li>\n",
       "\t<li>3628800</li>\n",
       "</ol>\n"
      ],
      "text/latex": [
       "\\begin{enumerate*}\n",
       "\\item 1\n",
       "\\item 2\n",
       "\\item 6\n",
       "\\item 24\n",
       "\\item 120\n",
       "\\item 720\n",
       "\\item 5040\n",
       "\\item 40320\n",
       "\\item 362880\n",
       "\\item 3628800\n",
       "\\end{enumerate*}\n"
      ],
      "text/markdown": [
       "1. 1\n",
       "2. 2\n",
       "3. 6\n",
       "4. 24\n",
       "5. 120\n",
       "6. 720\n",
       "7. 5040\n",
       "8. 40320\n",
       "9. 362880\n",
       "10. 3628800\n",
       "\n",
       "\n"
      ],
      "text/plain": [
       " [1]       1       2       6      24     120     720    5040   40320  362880\n",
       "[10] 3628800"
      ]
     },
     "metadata": {},
     "output_type": "display_data"
    }
   ],
   "source": [
    "cumprod(1:10)"
   ]
  },
  {
   "cell_type": "code",
   "execution_count": 47,
   "metadata": {},
   "outputs": [
    {
     "data": {
      "text/html": [
       "<ol class=list-inline>\n",
       "\t<li>1</li>\n",
       "\t<li>1</li>\n",
       "\t<li>1</li>\n",
       "\t<li>1</li>\n",
       "\t<li>1</li>\n",
       "\t<li>1</li>\n",
       "\t<li>1</li>\n",
       "\t<li>1</li>\n",
       "\t<li>1</li>\n",
       "\t<li>1</li>\n",
       "</ol>\n"
      ],
      "text/latex": [
       "\\begin{enumerate*}\n",
       "\\item 1\n",
       "\\item 1\n",
       "\\item 1\n",
       "\\item 1\n",
       "\\item 1\n",
       "\\item 1\n",
       "\\item 1\n",
       "\\item 1\n",
       "\\item 1\n",
       "\\item 1\n",
       "\\end{enumerate*}\n"
      ],
      "text/markdown": [
       "1. 1\n",
       "2. 1\n",
       "3. 1\n",
       "4. 1\n",
       "5. 1\n",
       "6. 1\n",
       "7. 1\n",
       "8. 1\n",
       "9. 1\n",
       "10. 1\n",
       "\n",
       "\n"
      ],
      "text/plain": [
       " [1] 1 1 1 1 1 1 1 1 1 1"
      ]
     },
     "metadata": {},
     "output_type": "display_data"
    }
   ],
   "source": [
    "cummin(1:10)"
   ]
  },
  {
   "cell_type": "code",
   "execution_count": 48,
   "metadata": {},
   "outputs": [],
   "source": [
    "x=sample(10)"
   ]
  },
  {
   "cell_type": "code",
   "execution_count": 49,
   "metadata": {},
   "outputs": [
    {
     "data": {
      "text/html": [
       "<ol class=list-inline>\n",
       "\t<li>9</li>\n",
       "\t<li>10</li>\n",
       "\t<li>6</li>\n",
       "\t<li>4</li>\n",
       "\t<li>8</li>\n",
       "\t<li>7</li>\n",
       "\t<li>3</li>\n",
       "\t<li>2</li>\n",
       "\t<li>1</li>\n",
       "\t<li>5</li>\n",
       "</ol>\n"
      ],
      "text/latex": [
       "\\begin{enumerate*}\n",
       "\\item 9\n",
       "\\item 10\n",
       "\\item 6\n",
       "\\item 4\n",
       "\\item 8\n",
       "\\item 7\n",
       "\\item 3\n",
       "\\item 2\n",
       "\\item 1\n",
       "\\item 5\n",
       "\\end{enumerate*}\n"
      ],
      "text/markdown": [
       "1. 9\n",
       "2. 10\n",
       "3. 6\n",
       "4. 4\n",
       "5. 8\n",
       "6. 7\n",
       "7. 3\n",
       "8. 2\n",
       "9. 1\n",
       "10. 5\n",
       "\n",
       "\n"
      ],
      "text/plain": [
       " [1]  9 10  6  4  8  7  3  2  1  5"
      ]
     },
     "metadata": {},
     "output_type": "display_data"
    }
   ],
   "source": [
    "x"
   ]
  },
  {
   "cell_type": "code",
   "execution_count": 50,
   "metadata": {},
   "outputs": [
    {
     "data": {
      "text/html": [
       "<ol class=list-inline>\n",
       "\t<li>9</li>\n",
       "\t<li>9</li>\n",
       "\t<li>6</li>\n",
       "\t<li>4</li>\n",
       "\t<li>4</li>\n",
       "\t<li>4</li>\n",
       "\t<li>3</li>\n",
       "\t<li>2</li>\n",
       "\t<li>1</li>\n",
       "\t<li>1</li>\n",
       "</ol>\n"
      ],
      "text/latex": [
       "\\begin{enumerate*}\n",
       "\\item 9\n",
       "\\item 9\n",
       "\\item 6\n",
       "\\item 4\n",
       "\\item 4\n",
       "\\item 4\n",
       "\\item 3\n",
       "\\item 2\n",
       "\\item 1\n",
       "\\item 1\n",
       "\\end{enumerate*}\n"
      ],
      "text/markdown": [
       "1. 9\n",
       "2. 9\n",
       "3. 6\n",
       "4. 4\n",
       "5. 4\n",
       "6. 4\n",
       "7. 3\n",
       "8. 2\n",
       "9. 1\n",
       "10. 1\n",
       "\n",
       "\n"
      ],
      "text/plain": [
       " [1] 9 9 6 4 4 4 3 2 1 1"
      ]
     },
     "metadata": {},
     "output_type": "display_data"
    }
   ],
   "source": [
    "cummin(x)"
   ]
  },
  {
   "cell_type": "code",
   "execution_count": 52,
   "metadata": {},
   "outputs": [
    {
     "data": {
      "text/plain": [
       ", , births = 103578\n",
       "\n",
       "      sex\n",
       "year   boy girl\n",
       "  1880   0    0\n",
       "  1881   0    0\n",
       "  1882   0    0\n",
       "  1883   1    0\n",
       "  1884   0    0\n",
       "  1885   0    0\n",
       "  1886   0    0\n",
       "  1887   0    0\n",
       "  1888   0    0\n",
       "  1889   0    0\n",
       "  1890   0    0\n",
       "  1891   0    0\n",
       "  1892   0    0\n",
       "  1893   0    0\n",
       "  1894   0    0\n",
       "  1895   0    0\n",
       "  1896   0    0\n",
       "  1897   0    0\n",
       "  1898   0    0\n",
       "  1899   0    0\n",
       "\n",
       ", , births = 105221\n",
       "\n",
       "      sex\n",
       "year   boy girl\n",
       "  1880   0    0\n",
       "  1881   0    0\n",
       "  1882   0    0\n",
       "  1883   0    0\n",
       "  1884   0    0\n",
       "  1885   0    0\n",
       "  1886   0    0\n",
       "  1887   0    0\n",
       "  1888   1    0\n",
       "  1889   0    0\n",
       "  1890   0    0\n",
       "  1891   0    0\n",
       "  1892   0    0\n",
       "  1893   0    0\n",
       "  1894   0    0\n",
       "  1895   0    0\n",
       "  1896   0    0\n",
       "  1897   0    0\n",
       "  1898   0    0\n",
       "  1899   0    0\n",
       "\n",
       ", , births = 105746\n",
       "\n",
       "      sex\n",
       "year   boy girl\n",
       "  1880   0    0\n",
       "  1881   0    0\n",
       "  1882   0    0\n",
       "  1883   0    0\n",
       "  1884   0    0\n",
       "  1885   0    0\n",
       "  1886   0    0\n",
       "  1887   0    0\n",
       "  1888   0    0\n",
       "  1889   0    0\n",
       "  1890   0    0\n",
       "  1891   1    0\n",
       "  1892   0    0\n",
       "  1893   0    0\n",
       "  1894   0    0\n",
       "  1895   0    0\n",
       "  1896   0    0\n",
       "  1897   0    0\n",
       "  1898   0    0\n",
       "  1899   0    0\n",
       "\n",
       ", , births = 105994\n",
       "\n",
       "      sex\n",
       "year   boy girl\n",
       "  1880   0    0\n",
       "  1881   0    0\n",
       "  1882   0    0\n",
       "  1883   0    0\n",
       "  1884   0    0\n",
       "  1885   1    0\n",
       "  1886   0    0\n",
       "  1887   0    0\n",
       "  1888   0    0\n",
       "  1889   0    0\n",
       "  1890   0    0\n",
       "  1891   0    0\n",
       "  1892   0    0\n",
       "  1893   0    0\n",
       "  1894   0    0\n",
       "  1895   0    0\n",
       "  1896   0    0\n",
       "  1897   0    0\n",
       "  1898   0    0\n",
       "  1899   0    0\n",
       "\n",
       ", , births = 107776\n",
       "\n",
       "      sex\n",
       "year   boy girl\n",
       "  1880   0    0\n",
       "  1881   0    0\n",
       "  1882   0    0\n",
       "  1883   0    0\n",
       "  1884   0    0\n",
       "  1885   0    0\n",
       "  1886   0    0\n",
       "  1887   0    0\n",
       "  1888   0    0\n",
       "  1889   0    0\n",
       "  1890   0    0\n",
       "  1891   0    0\n",
       "  1892   0    0\n",
       "  1893   0    0\n",
       "  1894   0    0\n",
       "  1895   0    0\n",
       "  1896   0    0\n",
       "  1897   0    0\n",
       "  1898   0    1\n",
       "  1899   0    0\n",
       "\n",
       ", , births = 108707\n",
       "\n",
       "      sex\n",
       "year   boy girl\n",
       "  1880   0    0\n",
       "  1881   0    0\n",
       "  1882   0    0\n",
       "  1883   0    0\n",
       "  1884   0    0\n",
       "  1885   0    0\n",
       "  1886   0    1\n",
       "  1887   0    0\n",
       "  1888   0    0\n",
       "  1889   0    0\n",
       "  1890   0    0\n",
       "  1891   0    0\n",
       "  1892   0    0\n",
       "  1893   0    0\n",
       "  1894   0    0\n",
       "  1895   0    0\n",
       "  1896   0    0\n",
       "  1897   0    0\n",
       "  1898   0    0\n",
       "  1899   0    0\n",
       "\n",
       ", , births = 110268\n",
       "\n",
       "      sex\n",
       "year   boy girl\n",
       "  1880   0    0\n",
       "  1881   0    0\n",
       "  1882   0    0\n",
       "  1883   0    0\n",
       "  1884   1    0\n",
       "  1885   0    0\n",
       "  1886   0    0\n",
       "  1887   0    0\n",
       "  1888   0    0\n",
       "  1889   0    0\n",
       "  1890   0    0\n",
       "  1891   0    0\n",
       "  1892   0    0\n",
       "  1893   0    0\n",
       "  1894   0    0\n",
       "  1895   0    0\n",
       "  1896   0    0\n",
       "  1897   0    0\n",
       "  1898   0    0\n",
       "  1899   0    0\n",
       "\n",
       ", , births = 110654\n",
       "\n",
       "      sex\n",
       "year   boy girl\n",
       "  1880   0    0\n",
       "  1881   0    0\n",
       "  1882   0    0\n",
       "  1883   0    0\n",
       "  1884   0    0\n",
       "  1885   0    0\n",
       "  1886   0    0\n",
       "  1887   0    0\n",
       "  1888   0    0\n",
       "  1889   0    0\n",
       "  1890   0    0\n",
       "  1891   0    0\n",
       "  1892   0    0\n",
       "  1893   0    0\n",
       "  1894   0    0\n",
       "  1895   0    0\n",
       "  1896   0    0\n",
       "  1897   0    0\n",
       "  1898   0    0\n",
       "  1899   1    0\n",
       "\n",
       ", , births = 110953\n",
       "\n",
       "      sex\n",
       "year   boy girl\n",
       "  1880   0    0\n",
       "  1881   0    0\n",
       "  1882   0    0\n",
       "  1883   0    0\n",
       "  1884   0    0\n",
       "  1885   0    0\n",
       "  1886   0    0\n",
       "  1887   0    0\n",
       "  1888   0    0\n",
       "  1889   0    0\n",
       "  1890   0    0\n",
       "  1891   0    0\n",
       "  1892   0    0\n",
       "  1893   0    0\n",
       "  1894   0    0\n",
       "  1895   0    0\n",
       "  1896   1    0\n",
       "  1897   0    0\n",
       "  1898   0    0\n",
       "  1899   0    0\n",
       "\n",
       ", , births = 111268\n",
       "\n",
       "      sex\n",
       "year   boy girl\n",
       "  1880   0    0\n",
       "  1881   0    0\n",
       "  1882   0    0\n",
       "  1883   0    0\n",
       "  1884   0    0\n",
       "  1885   0    0\n",
       "  1886   0    0\n",
       "  1887   0    0\n",
       "  1888   0    0\n",
       "  1889   0    0\n",
       "  1890   1    0\n",
       "  1891   0    0\n",
       "  1892   0    0\n",
       "  1893   0    0\n",
       "  1894   0    0\n",
       "  1895   0    0\n",
       "  1896   0    0\n",
       "  1897   0    0\n",
       "  1898   0    0\n",
       "  1899   0    0\n",
       "\n",
       ", , births = 111703\n",
       "\n",
       "      sex\n",
       "year   boy girl\n",
       "  1880   0    0\n",
       "  1881   0    0\n",
       "  1882   0    0\n",
       "  1883   0    0\n",
       "  1884   0    0\n",
       "  1885   0    0\n",
       "  1886   0    0\n",
       "  1887   0    0\n",
       "  1888   0    0\n",
       "  1889   0    0\n",
       "  1890   0    0\n",
       "  1891   0    0\n",
       "  1892   0    0\n",
       "  1893   0    0\n",
       "  1894   1    0\n",
       "  1895   0    0\n",
       "  1896   0    0\n",
       "  1897   0    0\n",
       "  1898   0    0\n",
       "  1899   0    0\n",
       "\n",
       ", , births = 113269\n",
       "\n",
       "      sex\n",
       "year   boy girl\n",
       "  1880   0    0\n",
       "  1881   0    0\n",
       "  1882   0    0\n",
       "  1883   0    0\n",
       "  1884   0    0\n",
       "  1885   0    0\n",
       "  1886   0    0\n",
       "  1887   0    0\n",
       "  1888   0    0\n",
       "  1889   0    0\n",
       "  1890   0    0\n",
       "  1891   0    0\n",
       "  1892   0    0\n",
       "  1893   0    0\n",
       "  1894   0    0\n",
       "  1895   0    1\n",
       "  1896   0    0\n",
       "  1897   0    0\n",
       "  1898   0    0\n",
       "  1899   0    0\n",
       "\n",
       ", , births = 114728\n",
       "\n",
       "      sex\n",
       "year   boy girl\n",
       "  1880   0    0\n",
       "  1881   0    0\n",
       "  1882   0    0\n",
       "  1883   0    0\n",
       "  1884   0    0\n",
       "  1885   0    0\n",
       "  1886   0    0\n",
       "  1887   0    0\n",
       "  1888   0    0\n",
       "  1889   0    0\n",
       "  1890   0    0\n",
       "  1891   0    0\n",
       "  1892   0    0\n",
       "  1893   0    0\n",
       "  1894   0    0\n",
       "  1895   0    0\n",
       "  1896   0    0\n",
       "  1897   0    1\n",
       "  1898   0    0\n",
       "  1899   0    0\n",
       "\n",
       ", , births = 116626\n",
       "\n",
       "      sex\n",
       "year   boy girl\n",
       "  1880   0    0\n",
       "  1881   0    0\n",
       "  1882   0    0\n",
       "  1883   0    0\n",
       "  1884   0    0\n",
       "  1885   0    0\n",
       "  1886   0    0\n",
       "  1887   0    0\n",
       "  1888   0    0\n",
       "  1889   0    0\n",
       "  1890   0    0\n",
       "  1891   0    0\n",
       "  1892   0    1\n",
       "  1893   0    0\n",
       "  1894   0    0\n",
       "  1895   0    0\n",
       "  1896   0    0\n",
       "  1897   0    0\n",
       "  1898   0    0\n",
       "  1899   0    0\n",
       "\n",
       ", , births = 117296\n",
       "\n",
       "      sex\n",
       "year   boy girl\n",
       "  1880   0    0\n",
       "  1881   0    0\n",
       "  1882   0    0\n",
       "  1883   0    0\n",
       "  1884   0    0\n",
       "  1885   0    0\n",
       "  1886   0    0\n",
       "  1887   0    0\n",
       "  1888   0    0\n",
       "  1889   1    0\n",
       "  1890   0    0\n",
       "  1891   0    0\n",
       "  1892   0    0\n",
       "  1893   0    0\n",
       "  1894   0    0\n",
       "  1895   0    0\n",
       "  1896   0    0\n",
       "  1897   0    0\n",
       "  1898   0    0\n",
       "  1899   0    0\n",
       "\n",
       ", , births = 120541\n",
       "\n",
       "      sex\n",
       "year   boy girl\n",
       "  1880   0    0\n",
       "  1881   0    0\n",
       "  1882   0    0\n",
       "  1883   0    0\n",
       "  1884   0    0\n",
       "  1885   0    0\n",
       "  1886   0    0\n",
       "  1887   0    0\n",
       "  1888   0    0\n",
       "  1889   0    0\n",
       "  1890   0    0\n",
       "  1891   0    0\n",
       "  1892   0    0\n",
       "  1893   0    1\n",
       "  1894   0    0\n",
       "  1895   0    0\n",
       "  1896   0    0\n",
       "  1897   0    0\n",
       "  1898   0    0\n",
       "  1899   0    0\n",
       "\n",
       ", , births = 132311\n",
       "\n",
       "      sex\n",
       "year   boy girl\n",
       "  1880   0    0\n",
       "  1881   0    0\n",
       "  1882   1    0\n",
       "  1883   0    0\n",
       "  1884   0    0\n",
       "  1885   0    0\n",
       "  1886   0    0\n",
       "  1887   0    0\n",
       "  1888   0    0\n",
       "  1889   0    0\n",
       "  1890   0    0\n",
       "  1891   0    0\n",
       "  1892   0    0\n",
       "  1893   0    0\n",
       "  1894   0    0\n",
       "  1895   0    0\n",
       "  1896   0    0\n",
       "  1897   0    0\n",
       "  1898   0    0\n",
       "  1899   0    0\n",
       "\n",
       ", , births = 135394\n",
       "\n",
       "      sex\n",
       "year   boy girl\n",
       "  1880   1    0\n",
       "  1881   0    0\n",
       "  1882   0    0\n",
       "  1883   0    0\n",
       "  1884   0    0\n",
       "  1885   0    0\n",
       "  1886   0    0\n",
       "  1887   0    0\n",
       "  1888   0    0\n",
       "  1889   0    0\n",
       "  1890   0    0\n",
       "  1891   0    0\n",
       "  1892   0    0\n",
       "  1893   0    0\n",
       "  1894   0    0\n",
       "  1895   0    0\n",
       "  1896   0    0\n",
       "  1897   0    0\n",
       "  1898   0    0\n",
       "  1899   0    0\n",
       "\n",
       ", , births = 135628\n",
       "\n",
       "      sex\n",
       "year   boy girl\n",
       "  1880   0    0\n",
       "  1881   0    1\n",
       "  1882   0    0\n",
       "  1883   0    0\n",
       "  1884   0    0\n",
       "  1885   0    0\n",
       "  1886   0    0\n",
       "  1887   0    0\n",
       "  1888   0    0\n",
       "  1889   0    0\n",
       "  1890   0    0\n",
       "  1891   0    0\n",
       "  1892   0    0\n",
       "  1893   0    0\n",
       "  1894   0    0\n",
       "  1895   0    0\n",
       "  1896   0    0\n",
       "  1897   0    0\n",
       "  1898   0    0\n",
       "  1899   0    0\n",
       "\n",
       ", , births = 136907\n",
       "\n",
       "      sex\n",
       "year   boy girl\n",
       "  1880   0    0\n",
       "  1881   0    0\n",
       "  1882   0    0\n",
       "  1883   0    0\n",
       "  1884   0    0\n",
       "  1885   0    0\n",
       "  1886   0    0\n",
       "  1887   0    1\n",
       "  1888   0    0\n",
       "  1889   0    0\n",
       "  1890   0    0\n",
       "  1891   0    0\n",
       "  1892   0    0\n",
       "  1893   0    0\n",
       "  1894   0    0\n",
       "  1895   0    0\n",
       "  1896   0    0\n",
       "  1897   0    0\n",
       "  1898   0    0\n",
       "  1899   0    0\n"
      ]
     },
     "metadata": {},
     "output_type": "display_data"
    }
   ],
   "source": [
    "table(df)"
   ]
  },
  {
   "cell_type": "code",
   "execution_count": 53,
   "metadata": {},
   "outputs": [],
   "source": [
    "rich <- sample(1:20,10)"
   ]
  },
  {
   "cell_type": "code",
   "execution_count": 54,
   "metadata": {},
   "outputs": [],
   "source": [
    "graze <-sample(c(\"mow\",\"numow\"),10,replace=T)"
   ]
  },
  {
   "cell_type": "code",
   "execution_count": 57,
   "metadata": {},
   "outputs": [],
   "source": [
    "data=data.frame(rich=rich,graze=graze)"
   ]
  },
  {
   "cell_type": "code",
   "execution_count": 58,
   "metadata": {},
   "outputs": [
    {
     "data": {
      "text/html": [
       "<table>\n",
       "<thead><tr><th scope=col>rich</th><th scope=col>graze</th></tr></thead>\n",
       "<tbody>\n",
       "\t<tr><td> 7   </td><td>mow  </td></tr>\n",
       "\t<tr><td> 3   </td><td>mow  </td></tr>\n",
       "\t<tr><td>16   </td><td>numow</td></tr>\n",
       "\t<tr><td> 8   </td><td>numow</td></tr>\n",
       "\t<tr><td> 4   </td><td>mow  </td></tr>\n",
       "\t<tr><td>13   </td><td>numow</td></tr>\n",
       "\t<tr><td> 6   </td><td>mow  </td></tr>\n",
       "\t<tr><td>20   </td><td>numow</td></tr>\n",
       "\t<tr><td>10   </td><td>mow  </td></tr>\n",
       "\t<tr><td> 9   </td><td>mow  </td></tr>\n",
       "</tbody>\n",
       "</table>\n"
      ],
      "text/latex": [
       "\\begin{tabular}{r|ll}\n",
       " rich & graze\\\\\n",
       "\\hline\n",
       "\t  7    & mow  \\\\\n",
       "\t  3    & mow  \\\\\n",
       "\t 16    & numow\\\\\n",
       "\t  8    & numow\\\\\n",
       "\t  4    & mow  \\\\\n",
       "\t 13    & numow\\\\\n",
       "\t  6    & mow  \\\\\n",
       "\t 20    & numow\\\\\n",
       "\t 10    & mow  \\\\\n",
       "\t  9    & mow  \\\\\n",
       "\\end{tabular}\n"
      ],
      "text/markdown": [
       "\n",
       "| rich | graze |\n",
       "|---|---|\n",
       "|  7    | mow   |\n",
       "|  3    | mow   |\n",
       "| 16    | numow |\n",
       "|  8    | numow |\n",
       "|  4    | mow   |\n",
       "| 13    | numow |\n",
       "|  6    | mow   |\n",
       "| 20    | numow |\n",
       "| 10    | mow   |\n",
       "|  9    | mow   |\n",
       "\n"
      ],
      "text/plain": [
       "   rich graze\n",
       "1   7   mow  \n",
       "2   3   mow  \n",
       "3  16   numow\n",
       "4   8   numow\n",
       "5   4   mow  \n",
       "6  13   numow\n",
       "7   6   mow  \n",
       "8  20   numow\n",
       "9  10   mow  \n",
       "10  9   mow  "
      ]
     },
     "metadata": {},
     "output_type": "display_data"
    }
   ],
   "source": [
    "data"
   ]
  },
  {
   "cell_type": "code",
   "execution_count": 59,
   "metadata": {},
   "outputs": [
    {
     "data": {
      "text/plain": [
       "    graze\n",
       "rich mow numow\n",
       "  3    1     0\n",
       "  4    1     0\n",
       "  6    1     0\n",
       "  7    1     0\n",
       "  8    0     1\n",
       "  9    1     0\n",
       "  10   1     0\n",
       "  13   0     1\n",
       "  16   0     1\n",
       "  20   0     1"
      ]
     },
     "metadata": {},
     "output_type": "display_data"
    }
   ],
   "source": [
    "table(data)"
   ]
  },
  {
   "cell_type": "code",
   "execution_count": 60,
   "metadata": {},
   "outputs": [
    {
     "data": {
      "text/plain": [
       "      \n",
       "       103578 105221 105746 105994 107776 108707 110268 110654 110953 111268\n",
       "  1880      0      0      0      0      0      0      0      0      0      0\n",
       "  1881      0      0      0      0      0      0      0      0      0      0\n",
       "  1882      0      0      0      0      0      0      0      0      0      0\n",
       "  1883      1      0      0      0      0      0      0      0      0      0\n",
       "  1884      0      0      0      0      0      0      1      0      0      0\n",
       "  1885      0      0      0      1      0      0      0      0      0      0\n",
       "  1886      0      0      0      0      0      1      0      0      0      0\n",
       "  1887      0      0      0      0      0      0      0      0      0      0\n",
       "  1888      0      1      0      0      0      0      0      0      0      0\n",
       "  1889      0      0      0      0      0      0      0      0      0      0\n",
       "  1890      0      0      0      0      0      0      0      0      0      1\n",
       "  1891      0      0      1      0      0      0      0      0      0      0\n",
       "  1892      0      0      0      0      0      0      0      0      0      0\n",
       "  1893      0      0      0      0      0      0      0      0      0      0\n",
       "  1894      0      0      0      0      0      0      0      0      0      0\n",
       "  1895      0      0      0      0      0      0      0      0      0      0\n",
       "  1896      0      0      0      0      0      0      0      0      1      0\n",
       "  1897      0      0      0      0      0      0      0      0      0      0\n",
       "  1898      0      0      0      0      1      0      0      0      0      0\n",
       "  1899      0      0      0      0      0      0      0      1      0      0\n",
       "      \n",
       "       111703 113269 114728 116626 117296 120541 132311 135394 135628 136907\n",
       "  1880      0      0      0      0      0      0      0      1      0      0\n",
       "  1881      0      0      0      0      0      0      0      0      1      0\n",
       "  1882      0      0      0      0      0      0      1      0      0      0\n",
       "  1883      0      0      0      0      0      0      0      0      0      0\n",
       "  1884      0      0      0      0      0      0      0      0      0      0\n",
       "  1885      0      0      0      0      0      0      0      0      0      0\n",
       "  1886      0      0      0      0      0      0      0      0      0      0\n",
       "  1887      0      0      0      0      0      0      0      0      0      1\n",
       "  1888      0      0      0      0      0      0      0      0      0      0\n",
       "  1889      0      0      0      0      1      0      0      0      0      0\n",
       "  1890      0      0      0      0      0      0      0      0      0      0\n",
       "  1891      0      0      0      0      0      0      0      0      0      0\n",
       "  1892      0      0      0      1      0      0      0      0      0      0\n",
       "  1893      0      0      0      0      0      1      0      0      0      0\n",
       "  1894      1      0      0      0      0      0      0      0      0      0\n",
       "  1895      0      1      0      0      0      0      0      0      0      0\n",
       "  1896      0      0      0      0      0      0      0      0      0      0\n",
       "  1897      0      0      1      0      0      0      0      0      0      0\n",
       "  1898      0      0      0      0      0      0      0      0      0      0\n",
       "  1899      0      0      0      0      0      0      0      0      0      0"
      ]
     },
     "metadata": {},
     "output_type": "display_data"
    }
   ],
   "source": [
    "table(df$year,df$births)"
   ]
  },
  {
   "cell_type": "code",
   "execution_count": 61,
   "metadata": {},
   "outputs": [],
   "source": [
    "setwd(\"C:\\\\Users\\\\nikhi\\\\Desktop\\\\R lang\\\\PythonInternBatch2018\\\\Advance_Python\\\\Data_Science\\\\R\")\n"
   ]
  },
  {
   "cell_type": "code",
   "execution_count": 62,
   "metadata": {},
   "outputs": [],
   "source": [
    "df1=read.csv(\"data1.csv\")"
   ]
  },
  {
   "cell_type": "code",
   "execution_count": 63,
   "metadata": {},
   "outputs": [
    {
     "data": {
      "text/html": [
       "<table>\n",
       "<thead><tr><th scope=col>X</th><th scope=col>song</th><th scope=col>name</th></tr></thead>\n",
       "<tbody>\n",
       "\t<tr><td>1                 </td><td>Across the univers</td><td>John              </td></tr>\n",
       "\t<tr><td>2                 </td><td>Come Together     </td><td>John              </td></tr>\n",
       "\t<tr><td>3                 </td><td>Hello, Goodbye    </td><td>Paul              </td></tr>\n",
       "\t<tr><td>4                 </td><td>Peggy Sue         </td><td>Buddy             </td></tr>\n",
       "</tbody>\n",
       "</table>\n"
      ],
      "text/latex": [
       "\\begin{tabular}{r|lll}\n",
       " X & song & name\\\\\n",
       "\\hline\n",
       "\t 1                  & Across the univers & John              \\\\\n",
       "\t 2                  & Come Together      & John              \\\\\n",
       "\t 3                  & Hello, Goodbye     & Paul              \\\\\n",
       "\t 4                  & Peggy Sue          & Buddy             \\\\\n",
       "\\end{tabular}\n"
      ],
      "text/markdown": [
       "\n",
       "| X | song | name |\n",
       "|---|---|---|\n",
       "| 1                  | Across the univers | John               |\n",
       "| 2                  | Come Together      | John               |\n",
       "| 3                  | Hello, Goodbye     | Paul               |\n",
       "| 4                  | Peggy Sue          | Buddy              |\n",
       "\n"
      ],
      "text/plain": [
       "  X song               name \n",
       "1 1 Across the univers John \n",
       "2 2 Come Together      John \n",
       "3 3 Hello, Goodbye     Paul \n",
       "4 4 Peggy Sue          Buddy"
      ]
     },
     "metadata": {},
     "output_type": "display_data"
    }
   ],
   "source": [
    "df1"
   ]
  },
  {
   "cell_type": "code",
   "execution_count": 64,
   "metadata": {},
   "outputs": [],
   "source": [
    "df2=read.csv(\"data2.csv\")"
   ]
  },
  {
   "cell_type": "code",
   "execution_count": 65,
   "metadata": {},
   "outputs": [
    {
     "data": {
      "text/html": [
       "<table>\n",
       "<thead><tr><th scope=col>X</th><th scope=col>name</th><th scope=col>plays</th></tr></thead>\n",
       "<tbody>\n",
       "\t<tr><td>1     </td><td>George</td><td>sitar </td></tr>\n",
       "\t<tr><td>2     </td><td>John  </td><td>guitar</td></tr>\n",
       "\t<tr><td>3     </td><td>Paul  </td><td>bass  </td></tr>\n",
       "\t<tr><td>4     </td><td>Ringo </td><td>drums </td></tr>\n",
       "</tbody>\n",
       "</table>\n"
      ],
      "text/latex": [
       "\\begin{tabular}{r|lll}\n",
       " X & name & plays\\\\\n",
       "\\hline\n",
       "\t 1      & George & sitar \\\\\n",
       "\t 2      & John   & guitar\\\\\n",
       "\t 3      & Paul   & bass  \\\\\n",
       "\t 4      & Ringo  & drums \\\\\n",
       "\\end{tabular}\n"
      ],
      "text/markdown": [
       "\n",
       "| X | name | plays |\n",
       "|---|---|---|\n",
       "| 1      | George | sitar  |\n",
       "| 2      | John   | guitar |\n",
       "| 3      | Paul   | bass   |\n",
       "| 4      | Ringo  | drums  |\n",
       "\n"
      ],
      "text/plain": [
       "  X name   plays \n",
       "1 1 George sitar \n",
       "2 2 John   guitar\n",
       "3 3 Paul   bass  \n",
       "4 4 Ringo  drums "
      ]
     },
     "metadata": {},
     "output_type": "display_data"
    }
   ],
   "source": [
    "df2"
   ]
  },
  {
   "cell_type": "code",
   "execution_count": 66,
   "metadata": {},
   "outputs": [
    {
     "data": {
      "text/html": [
       "<table>\n",
       "<thead><tr><th scope=col>name</th><th scope=col>X.x</th><th scope=col>song</th><th scope=col>X.y</th><th scope=col>plays</th></tr></thead>\n",
       "<tbody>\n",
       "\t<tr><td>John              </td><td>1                 </td><td>Across the univers</td><td>2                 </td><td>guitar            </td></tr>\n",
       "\t<tr><td>John              </td><td>2                 </td><td>Come Together     </td><td>2                 </td><td>guitar            </td></tr>\n",
       "\t<tr><td>Paul              </td><td>3                 </td><td>Hello, Goodbye    </td><td>3                 </td><td>bass              </td></tr>\n",
       "</tbody>\n",
       "</table>\n"
      ],
      "text/latex": [
       "\\begin{tabular}{r|lllll}\n",
       " name & X.x & song & X.y & plays\\\\\n",
       "\\hline\n",
       "\t John               & 1                  & Across the univers & 2                  & guitar            \\\\\n",
       "\t John               & 2                  & Come Together      & 2                  & guitar            \\\\\n",
       "\t Paul               & 3                  & Hello, Goodbye     & 3                  & bass              \\\\\n",
       "\\end{tabular}\n"
      ],
      "text/markdown": [
       "\n",
       "| name | X.x | song | X.y | plays |\n",
       "|---|---|---|---|---|\n",
       "| John               | 1                  | Across the univers | 2                  | guitar             |\n",
       "| John               | 2                  | Come Together      | 2                  | guitar             |\n",
       "| Paul               | 3                  | Hello, Goodbye     | 3                  | bass               |\n",
       "\n"
      ],
      "text/plain": [
       "  name X.x song               X.y plays \n",
       "1 John 1   Across the univers 2   guitar\n",
       "2 John 2   Come Together      2   guitar\n",
       "3 Paul 3   Hello, Goodbye     3   bass  "
      ]
     },
     "metadata": {},
     "output_type": "display_data"
    }
   ],
   "source": [
    "merge(x=df1,y=df2,by='name')"
   ]
  },
  {
   "cell_type": "code",
   "execution_count": 67,
   "metadata": {},
   "outputs": [],
   "source": [
    "df1=df1[2:3]"
   ]
  },
  {
   "cell_type": "code",
   "execution_count": 68,
   "metadata": {},
   "outputs": [
    {
     "data": {
      "text/html": [
       "<table>\n",
       "<thead><tr><th scope=col>song</th><th scope=col>name</th></tr></thead>\n",
       "<tbody>\n",
       "\t<tr><td>Across the univers</td><td>John              </td></tr>\n",
       "\t<tr><td>Come Together     </td><td>John              </td></tr>\n",
       "\t<tr><td>Hello, Goodbye    </td><td>Paul              </td></tr>\n",
       "\t<tr><td>Peggy Sue         </td><td>Buddy             </td></tr>\n",
       "</tbody>\n",
       "</table>\n"
      ],
      "text/latex": [
       "\\begin{tabular}{r|ll}\n",
       " song & name\\\\\n",
       "\\hline\n",
       "\t Across the univers & John              \\\\\n",
       "\t Come Together      & John              \\\\\n",
       "\t Hello, Goodbye     & Paul              \\\\\n",
       "\t Peggy Sue          & Buddy             \\\\\n",
       "\\end{tabular}\n"
      ],
      "text/markdown": [
       "\n",
       "| song | name |\n",
       "|---|---|\n",
       "| Across the univers | John               |\n",
       "| Come Together      | John               |\n",
       "| Hello, Goodbye     | Paul               |\n",
       "| Peggy Sue          | Buddy              |\n",
       "\n"
      ],
      "text/plain": [
       "  song               name \n",
       "1 Across the univers John \n",
       "2 Come Together      John \n",
       "3 Hello, Goodbye     Paul \n",
       "4 Peggy Sue          Buddy"
      ]
     },
     "metadata": {},
     "output_type": "display_data"
    }
   ],
   "source": [
    "df1"
   ]
  },
  {
   "cell_type": "code",
   "execution_count": 69,
   "metadata": {},
   "outputs": [],
   "source": [
    "df2=df2[2:3]"
   ]
  },
  {
   "cell_type": "code",
   "execution_count": 70,
   "metadata": {},
   "outputs": [
    {
     "data": {
      "text/html": [
       "<table>\n",
       "<thead><tr><th scope=col>name</th><th scope=col>plays</th></tr></thead>\n",
       "<tbody>\n",
       "\t<tr><td>George</td><td>sitar </td></tr>\n",
       "\t<tr><td>John  </td><td>guitar</td></tr>\n",
       "\t<tr><td>Paul  </td><td>bass  </td></tr>\n",
       "\t<tr><td>Ringo </td><td>drums </td></tr>\n",
       "</tbody>\n",
       "</table>\n"
      ],
      "text/latex": [
       "\\begin{tabular}{r|ll}\n",
       " name & plays\\\\\n",
       "\\hline\n",
       "\t George & sitar \\\\\n",
       "\t John   & guitar\\\\\n",
       "\t Paul   & bass  \\\\\n",
       "\t Ringo  & drums \\\\\n",
       "\\end{tabular}\n"
      ],
      "text/markdown": [
       "\n",
       "| name | plays |\n",
       "|---|---|\n",
       "| George | sitar  |\n",
       "| John   | guitar |\n",
       "| Paul   | bass   |\n",
       "| Ringo  | drums  |\n",
       "\n"
      ],
      "text/plain": [
       "  name   plays \n",
       "1 George sitar \n",
       "2 John   guitar\n",
       "3 Paul   bass  \n",
       "4 Ringo  drums "
      ]
     },
     "metadata": {},
     "output_type": "display_data"
    }
   ],
   "source": [
    "df2"
   ]
  },
  {
   "cell_type": "code",
   "execution_count": 71,
   "metadata": {},
   "outputs": [
    {
     "data": {
      "text/html": [
       "<table>\n",
       "<thead><tr><th scope=col>name</th><th scope=col>song</th><th scope=col>plays</th></tr></thead>\n",
       "<tbody>\n",
       "\t<tr><td>John              </td><td>Across the univers</td><td>guitar            </td></tr>\n",
       "\t<tr><td>John              </td><td>Come Together     </td><td>guitar            </td></tr>\n",
       "\t<tr><td>Paul              </td><td>Hello, Goodbye    </td><td>bass              </td></tr>\n",
       "</tbody>\n",
       "</table>\n"
      ],
      "text/latex": [
       "\\begin{tabular}{r|lll}\n",
       " name & song & plays\\\\\n",
       "\\hline\n",
       "\t John               & Across the univers & guitar            \\\\\n",
       "\t John               & Come Together      & guitar            \\\\\n",
       "\t Paul               & Hello, Goodbye     & bass              \\\\\n",
       "\\end{tabular}\n"
      ],
      "text/markdown": [
       "\n",
       "| name | song | plays |\n",
       "|---|---|---|\n",
       "| John               | Across the univers | guitar             |\n",
       "| John               | Come Together      | guitar             |\n",
       "| Paul               | Hello, Goodbye     | bass               |\n",
       "\n"
      ],
      "text/plain": [
       "  name song               plays \n",
       "1 John Across the univers guitar\n",
       "2 John Come Together      guitar\n",
       "3 Paul Hello, Goodbye     bass  "
      ]
     },
     "metadata": {},
     "output_type": "display_data"
    }
   ],
   "source": [
    "merge(x=df1,y=df2,by='name')"
   ]
  },
  {
   "cell_type": "code",
   "execution_count": 72,
   "metadata": {},
   "outputs": [],
   "source": [
    "help(merge)"
   ]
  },
  {
   "cell_type": "code",
   "execution_count": 73,
   "metadata": {},
   "outputs": [],
   "source": [
    "df1= data.frame(sid=sample(1:10,6),name=sample(letters[1:10],6))"
   ]
  },
  {
   "cell_type": "code",
   "execution_count": 74,
   "metadata": {},
   "outputs": [
    {
     "data": {
      "text/html": [
       "<table>\n",
       "<thead><tr><th scope=col>sid</th><th scope=col>name</th></tr></thead>\n",
       "<tbody>\n",
       "\t<tr><td> 8</td><td>d </td></tr>\n",
       "\t<tr><td> 3</td><td>e </td></tr>\n",
       "\t<tr><td> 5</td><td>b </td></tr>\n",
       "\t<tr><td>10</td><td>c </td></tr>\n",
       "\t<tr><td> 9</td><td>h </td></tr>\n",
       "\t<tr><td> 2</td><td>g </td></tr>\n",
       "</tbody>\n",
       "</table>\n"
      ],
      "text/latex": [
       "\\begin{tabular}{r|ll}\n",
       " sid & name\\\\\n",
       "\\hline\n",
       "\t  8 & d \\\\\n",
       "\t  3 & e \\\\\n",
       "\t  5 & b \\\\\n",
       "\t 10 & c \\\\\n",
       "\t  9 & h \\\\\n",
       "\t  2 & g \\\\\n",
       "\\end{tabular}\n"
      ],
      "text/markdown": [
       "\n",
       "| sid | name |\n",
       "|---|---|\n",
       "|  8 | d  |\n",
       "|  3 | e  |\n",
       "|  5 | b  |\n",
       "| 10 | c  |\n",
       "|  9 | h  |\n",
       "|  2 | g  |\n",
       "\n"
      ],
      "text/plain": [
       "  sid name\n",
       "1  8  d   \n",
       "2  3  e   \n",
       "3  5  b   \n",
       "4 10  c   \n",
       "5  9  h   \n",
       "6  2  g   "
      ]
     },
     "metadata": {},
     "output_type": "display_data"
    }
   ],
   "source": [
    "df1"
   ]
  },
  {
   "cell_type": "code",
   "execution_count": 78,
   "metadata": {},
   "outputs": [],
   "source": [
    "df2= data.frame(id=sample(1:20,12),marks=sample(60:100,12))"
   ]
  },
  {
   "cell_type": "code",
   "execution_count": 79,
   "metadata": {},
   "outputs": [
    {
     "data": {
      "text/html": [
       "<table>\n",
       "<thead><tr><th scope=col>id</th><th scope=col>marks</th></tr></thead>\n",
       "<tbody>\n",
       "\t<tr><td>11 </td><td> 99</td></tr>\n",
       "\t<tr><td> 1 </td><td> 72</td></tr>\n",
       "\t<tr><td> 2 </td><td> 66</td></tr>\n",
       "\t<tr><td> 3 </td><td> 94</td></tr>\n",
       "\t<tr><td>20 </td><td> 76</td></tr>\n",
       "\t<tr><td>15 </td><td> 85</td></tr>\n",
       "\t<tr><td>13 </td><td> 83</td></tr>\n",
       "\t<tr><td> 9 </td><td> 67</td></tr>\n",
       "\t<tr><td> 8 </td><td> 64</td></tr>\n",
       "\t<tr><td>18 </td><td>100</td></tr>\n",
       "\t<tr><td>19 </td><td> 73</td></tr>\n",
       "\t<tr><td>14 </td><td> 86</td></tr>\n",
       "</tbody>\n",
       "</table>\n"
      ],
      "text/latex": [
       "\\begin{tabular}{r|ll}\n",
       " id & marks\\\\\n",
       "\\hline\n",
       "\t 11  &  99\\\\\n",
       "\t  1  &  72\\\\\n",
       "\t  2  &  66\\\\\n",
       "\t  3  &  94\\\\\n",
       "\t 20  &  76\\\\\n",
       "\t 15  &  85\\\\\n",
       "\t 13  &  83\\\\\n",
       "\t  9  &  67\\\\\n",
       "\t  8  &  64\\\\\n",
       "\t 18  & 100\\\\\n",
       "\t 19  &  73\\\\\n",
       "\t 14  &  86\\\\\n",
       "\\end{tabular}\n"
      ],
      "text/markdown": [
       "\n",
       "| id | marks |\n",
       "|---|---|\n",
       "| 11  |  99 |\n",
       "|  1  |  72 |\n",
       "|  2  |  66 |\n",
       "|  3  |  94 |\n",
       "| 20  |  76 |\n",
       "| 15  |  85 |\n",
       "| 13  |  83 |\n",
       "|  9  |  67 |\n",
       "|  8  |  64 |\n",
       "| 18  | 100 |\n",
       "| 19  |  73 |\n",
       "| 14  |  86 |\n",
       "\n"
      ],
      "text/plain": [
       "   id marks\n",
       "1  11  99  \n",
       "2   1  72  \n",
       "3   2  66  \n",
       "4   3  94  \n",
       "5  20  76  \n",
       "6  15  85  \n",
       "7  13  83  \n",
       "8   9  67  \n",
       "9   8  64  \n",
       "10 18 100  \n",
       "11 19  73  \n",
       "12 14  86  "
      ]
     },
     "metadata": {},
     "output_type": "display_data"
    }
   ],
   "source": [
    "df2"
   ]
  },
  {
   "cell_type": "code",
   "execution_count": 80,
   "metadata": {},
   "outputs": [],
   "source": [
    "df=merge(df1,df2,by.x='sid',by.y='id')"
   ]
  },
  {
   "cell_type": "code",
   "execution_count": 81,
   "metadata": {},
   "outputs": [
    {
     "data": {
      "text/html": [
       "<table>\n",
       "<thead><tr><th scope=col>sid</th><th scope=col>name</th><th scope=col>marks</th></tr></thead>\n",
       "<tbody>\n",
       "\t<tr><td>2 </td><td>g </td><td>66</td></tr>\n",
       "\t<tr><td>3 </td><td>e </td><td>94</td></tr>\n",
       "\t<tr><td>8 </td><td>d </td><td>64</td></tr>\n",
       "\t<tr><td>9 </td><td>h </td><td>67</td></tr>\n",
       "</tbody>\n",
       "</table>\n"
      ],
      "text/latex": [
       "\\begin{tabular}{r|lll}\n",
       " sid & name & marks\\\\\n",
       "\\hline\n",
       "\t 2  & g  & 66\\\\\n",
       "\t 3  & e  & 94\\\\\n",
       "\t 8  & d  & 64\\\\\n",
       "\t 9  & h  & 67\\\\\n",
       "\\end{tabular}\n"
      ],
      "text/markdown": [
       "\n",
       "| sid | name | marks |\n",
       "|---|---|---|\n",
       "| 2  | g  | 66 |\n",
       "| 3  | e  | 94 |\n",
       "| 8  | d  | 64 |\n",
       "| 9  | h  | 67 |\n",
       "\n"
      ],
      "text/plain": [
       "  sid name marks\n",
       "1 2   g    66   \n",
       "2 3   e    94   \n",
       "3 8   d    64   \n",
       "4 9   h    67   "
      ]
     },
     "metadata": {},
     "output_type": "display_data"
    }
   ],
   "source": [
    "df"
   ]
  },
  {
   "cell_type": "code",
   "execution_count": 83,
   "metadata": {},
   "outputs": [],
   "source": [
    "df1=data.frame(\n",
    "    id=1:10,\n",
    "    name=c(\"afzal\",\"aniket\",\"anil\",\"anish\",\"anjali\",\"anshima\",\"apoorva\",\"dependar\",\"hanisha\",\"imran\"),\n",
    "    sex=c(\"male\",\"male\",\"male\",\"male\",\"female\",\"female\",\"female\",\"male\",\"female\",\"male\")\n",
    ")"
   ]
  },
  {
   "cell_type": "code",
   "execution_count": 85,
   "metadata": {},
   "outputs": [],
   "source": [
    "df2=data.frame(\n",
    "    id=1:10,\n",
    "    math=sample(60:90,10),\n",
    "    science=sample(60:90,10)\n",
    ")"
   ]
  },
  {
   "cell_type": "code",
   "execution_count": 86,
   "metadata": {},
   "outputs": [
    {
     "data": {
      "text/html": [
       "<table>\n",
       "<thead><tr><th scope=col>id</th><th scope=col>name</th><th scope=col>sex</th></tr></thead>\n",
       "<tbody>\n",
       "\t<tr><td> 1      </td><td>afzal   </td><td>male    </td></tr>\n",
       "\t<tr><td> 2      </td><td>aniket  </td><td>male    </td></tr>\n",
       "\t<tr><td> 3      </td><td>anil    </td><td>male    </td></tr>\n",
       "\t<tr><td> 4      </td><td>anish   </td><td>male    </td></tr>\n",
       "\t<tr><td> 5      </td><td>anjali  </td><td>female  </td></tr>\n",
       "\t<tr><td> 6      </td><td>anshima </td><td>female  </td></tr>\n",
       "\t<tr><td> 7      </td><td>apoorva </td><td>female  </td></tr>\n",
       "\t<tr><td> 8      </td><td>dependar</td><td>male    </td></tr>\n",
       "\t<tr><td> 9      </td><td>hanisha </td><td>female  </td></tr>\n",
       "\t<tr><td>10      </td><td>imran   </td><td>male    </td></tr>\n",
       "</tbody>\n",
       "</table>\n"
      ],
      "text/latex": [
       "\\begin{tabular}{r|lll}\n",
       " id & name & sex\\\\\n",
       "\\hline\n",
       "\t  1       & afzal    & male    \\\\\n",
       "\t  2       & aniket   & male    \\\\\n",
       "\t  3       & anil     & male    \\\\\n",
       "\t  4       & anish    & male    \\\\\n",
       "\t  5       & anjali   & female  \\\\\n",
       "\t  6       & anshima  & female  \\\\\n",
       "\t  7       & apoorva  & female  \\\\\n",
       "\t  8       & dependar & male    \\\\\n",
       "\t  9       & hanisha  & female  \\\\\n",
       "\t 10       & imran    & male    \\\\\n",
       "\\end{tabular}\n"
      ],
      "text/markdown": [
       "\n",
       "| id | name | sex |\n",
       "|---|---|---|\n",
       "|  1       | afzal    | male     |\n",
       "|  2       | aniket   | male     |\n",
       "|  3       | anil     | male     |\n",
       "|  4       | anish    | male     |\n",
       "|  5       | anjali   | female   |\n",
       "|  6       | anshima  | female   |\n",
       "|  7       | apoorva  | female   |\n",
       "|  8       | dependar | male     |\n",
       "|  9       | hanisha  | female   |\n",
       "| 10       | imran    | male     |\n",
       "\n"
      ],
      "text/plain": [
       "   id name     sex   \n",
       "1   1 afzal    male  \n",
       "2   2 aniket   male  \n",
       "3   3 anil     male  \n",
       "4   4 anish    male  \n",
       "5   5 anjali   female\n",
       "6   6 anshima  female\n",
       "7   7 apoorva  female\n",
       "8   8 dependar male  \n",
       "9   9 hanisha  female\n",
       "10 10 imran    male  "
      ]
     },
     "metadata": {},
     "output_type": "display_data"
    }
   ],
   "source": [
    "df1"
   ]
  },
  {
   "cell_type": "code",
   "execution_count": 87,
   "metadata": {},
   "outputs": [
    {
     "data": {
      "text/html": [
       "<table>\n",
       "<thead><tr><th scope=col>id</th><th scope=col>math</th><th scope=col>science</th></tr></thead>\n",
       "<tbody>\n",
       "\t<tr><td> 1</td><td>63</td><td>83</td></tr>\n",
       "\t<tr><td> 2</td><td>73</td><td>73</td></tr>\n",
       "\t<tr><td> 3</td><td>77</td><td>61</td></tr>\n",
       "\t<tr><td> 4</td><td>64</td><td>64</td></tr>\n",
       "\t<tr><td> 5</td><td>90</td><td>85</td></tr>\n",
       "\t<tr><td> 6</td><td>74</td><td>88</td></tr>\n",
       "\t<tr><td> 7</td><td>88</td><td>89</td></tr>\n",
       "\t<tr><td> 8</td><td>76</td><td>81</td></tr>\n",
       "\t<tr><td> 9</td><td>82</td><td>66</td></tr>\n",
       "\t<tr><td>10</td><td>71</td><td>82</td></tr>\n",
       "</tbody>\n",
       "</table>\n"
      ],
      "text/latex": [
       "\\begin{tabular}{r|lll}\n",
       " id & math & science\\\\\n",
       "\\hline\n",
       "\t  1 & 63 & 83\\\\\n",
       "\t  2 & 73 & 73\\\\\n",
       "\t  3 & 77 & 61\\\\\n",
       "\t  4 & 64 & 64\\\\\n",
       "\t  5 & 90 & 85\\\\\n",
       "\t  6 & 74 & 88\\\\\n",
       "\t  7 & 88 & 89\\\\\n",
       "\t  8 & 76 & 81\\\\\n",
       "\t  9 & 82 & 66\\\\\n",
       "\t 10 & 71 & 82\\\\\n",
       "\\end{tabular}\n"
      ],
      "text/markdown": [
       "\n",
       "| id | math | science |\n",
       "|---|---|---|\n",
       "|  1 | 63 | 83 |\n",
       "|  2 | 73 | 73 |\n",
       "|  3 | 77 | 61 |\n",
       "|  4 | 64 | 64 |\n",
       "|  5 | 90 | 85 |\n",
       "|  6 | 74 | 88 |\n",
       "|  7 | 88 | 89 |\n",
       "|  8 | 76 | 81 |\n",
       "|  9 | 82 | 66 |\n",
       "| 10 | 71 | 82 |\n",
       "\n"
      ],
      "text/plain": [
       "   id math science\n",
       "1   1 63   83     \n",
       "2   2 73   73     \n",
       "3   3 77   61     \n",
       "4   4 64   64     \n",
       "5   5 90   85     \n",
       "6   6 74   88     \n",
       "7   7 88   89     \n",
       "8   8 76   81     \n",
       "9   9 82   66     \n",
       "10 10 71   82     "
      ]
     },
     "metadata": {},
     "output_type": "display_data"
    }
   ],
   "source": [
    "df2"
   ]
  },
  {
   "cell_type": "code",
   "execution_count": 88,
   "metadata": {},
   "outputs": [],
   "source": [
    "df=cbind(df1[,c('id','name')],df2[,c('math','science')])"
   ]
  },
  {
   "cell_type": "code",
   "execution_count": 89,
   "metadata": {},
   "outputs": [
    {
     "data": {
      "text/html": [
       "<table>\n",
       "<thead><tr><th scope=col>id</th><th scope=col>name</th><th scope=col>math</th><th scope=col>science</th></tr></thead>\n",
       "<tbody>\n",
       "\t<tr><td> 1      </td><td>afzal   </td><td>63      </td><td>83      </td></tr>\n",
       "\t<tr><td> 2      </td><td>aniket  </td><td>73      </td><td>73      </td></tr>\n",
       "\t<tr><td> 3      </td><td>anil    </td><td>77      </td><td>61      </td></tr>\n",
       "\t<tr><td> 4      </td><td>anish   </td><td>64      </td><td>64      </td></tr>\n",
       "\t<tr><td> 5      </td><td>anjali  </td><td>90      </td><td>85      </td></tr>\n",
       "\t<tr><td> 6      </td><td>anshima </td><td>74      </td><td>88      </td></tr>\n",
       "\t<tr><td> 7      </td><td>apoorva </td><td>88      </td><td>89      </td></tr>\n",
       "\t<tr><td> 8      </td><td>dependar</td><td>76      </td><td>81      </td></tr>\n",
       "\t<tr><td> 9      </td><td>hanisha </td><td>82      </td><td>66      </td></tr>\n",
       "\t<tr><td>10      </td><td>imran   </td><td>71      </td><td>82      </td></tr>\n",
       "</tbody>\n",
       "</table>\n"
      ],
      "text/latex": [
       "\\begin{tabular}{r|llll}\n",
       " id & name & math & science\\\\\n",
       "\\hline\n",
       "\t  1       & afzal    & 63       & 83      \\\\\n",
       "\t  2       & aniket   & 73       & 73      \\\\\n",
       "\t  3       & anil     & 77       & 61      \\\\\n",
       "\t  4       & anish    & 64       & 64      \\\\\n",
       "\t  5       & anjali   & 90       & 85      \\\\\n",
       "\t  6       & anshima  & 74       & 88      \\\\\n",
       "\t  7       & apoorva  & 88       & 89      \\\\\n",
       "\t  8       & dependar & 76       & 81      \\\\\n",
       "\t  9       & hanisha  & 82       & 66      \\\\\n",
       "\t 10       & imran    & 71       & 82      \\\\\n",
       "\\end{tabular}\n"
      ],
      "text/markdown": [
       "\n",
       "| id | name | math | science |\n",
       "|---|---|---|---|\n",
       "|  1       | afzal    | 63       | 83       |\n",
       "|  2       | aniket   | 73       | 73       |\n",
       "|  3       | anil     | 77       | 61       |\n",
       "|  4       | anish    | 64       | 64       |\n",
       "|  5       | anjali   | 90       | 85       |\n",
       "|  6       | anshima  | 74       | 88       |\n",
       "|  7       | apoorva  | 88       | 89       |\n",
       "|  8       | dependar | 76       | 81       |\n",
       "|  9       | hanisha  | 82       | 66       |\n",
       "| 10       | imran    | 71       | 82       |\n",
       "\n"
      ],
      "text/plain": [
       "   id name     math science\n",
       "1   1 afzal    63   83     \n",
       "2   2 aniket   73   73     \n",
       "3   3 anil     77   61     \n",
       "4   4 anish    64   64     \n",
       "5   5 anjali   90   85     \n",
       "6   6 anshima  74   88     \n",
       "7   7 apoorva  88   89     \n",
       "8   8 dependar 76   81     \n",
       "9   9 hanisha  82   66     \n",
       "10 10 imran    71   82     "
      ]
     },
     "metadata": {},
     "output_type": "display_data"
    }
   ],
   "source": [
    "df"
   ]
  },
  {
   "cell_type": "code",
   "execution_count": 90,
   "metadata": {},
   "outputs": [
    {
     "data": {
      "text/html": [
       "<table>\n",
       "<thead><tr><th scope=col>id</th><th scope=col>name</th><th scope=col>math</th><th scope=col>science</th></tr></thead>\n",
       "<tbody>\n",
       "\t<tr><td>1      </td><td>afzal  </td><td>63     </td><td>83     </td></tr>\n",
       "\t<tr><td>2      </td><td>aniket </td><td>73     </td><td>73     </td></tr>\n",
       "\t<tr><td>3      </td><td>anil   </td><td>77     </td><td>61     </td></tr>\n",
       "\t<tr><td>4      </td><td>anish  </td><td>64     </td><td>64     </td></tr>\n",
       "\t<tr><td>5      </td><td>anjali </td><td>90     </td><td>85     </td></tr>\n",
       "\t<tr><td>6      </td><td>anshima</td><td>74     </td><td>88     </td></tr>\n",
       "</tbody>\n",
       "</table>\n"
      ],
      "text/latex": [
       "\\begin{tabular}{r|llll}\n",
       " id & name & math & science\\\\\n",
       "\\hline\n",
       "\t 1       & afzal   & 63      & 83     \\\\\n",
       "\t 2       & aniket  & 73      & 73     \\\\\n",
       "\t 3       & anil    & 77      & 61     \\\\\n",
       "\t 4       & anish   & 64      & 64     \\\\\n",
       "\t 5       & anjali  & 90      & 85     \\\\\n",
       "\t 6       & anshima & 74      & 88     \\\\\n",
       "\\end{tabular}\n"
      ],
      "text/markdown": [
       "\n",
       "| id | name | math | science |\n",
       "|---|---|---|---|\n",
       "| 1       | afzal   | 63      | 83      |\n",
       "| 2       | aniket  | 73      | 73      |\n",
       "| 3       | anil    | 77      | 61      |\n",
       "| 4       | anish   | 64      | 64      |\n",
       "| 5       | anjali  | 90      | 85      |\n",
       "| 6       | anshima | 74      | 88      |\n",
       "\n"
      ],
      "text/plain": [
       "  id name    math science\n",
       "1 1  afzal   63   83     \n",
       "2 2  aniket  73   73     \n",
       "3 3  anil    77   61     \n",
       "4 4  anish   64   64     \n",
       "5 5  anjali  90   85     \n",
       "6 6  anshima 74   88     "
      ]
     },
     "metadata": {},
     "output_type": "display_data"
    }
   ],
   "source": [
    "head(df)"
   ]
  },
  {
   "cell_type": "code",
   "execution_count": 96,
   "metadata": {},
   "outputs": [],
   "source": [
    "dff=data.frame(\n",
    "    id=11:14,\n",
    "    name=c(\"animesh\",\"niraj\",\"shivansh\",\"mohit\"),\n",
    "    math=sample(60:100,4),\n",
    "    science=sample(60:100,4))"
   ]
  },
  {
   "cell_type": "code",
   "execution_count": 97,
   "metadata": {},
   "outputs": [
    {
     "data": {
      "text/html": [
       "<table>\n",
       "<thead><tr><th scope=col>id</th><th scope=col>name</th><th scope=col>math</th><th scope=col>science</th></tr></thead>\n",
       "<tbody>\n",
       "\t<tr><td>11      </td><td>animesh </td><td>70      </td><td>81      </td></tr>\n",
       "\t<tr><td>12      </td><td>niraj   </td><td>97      </td><td>77      </td></tr>\n",
       "\t<tr><td>13      </td><td>shivansh</td><td>75      </td><td>67      </td></tr>\n",
       "\t<tr><td>14      </td><td>mohit   </td><td>62      </td><td>80      </td></tr>\n",
       "</tbody>\n",
       "</table>\n"
      ],
      "text/latex": [
       "\\begin{tabular}{r|llll}\n",
       " id & name & math & science\\\\\n",
       "\\hline\n",
       "\t 11       & animesh  & 70       & 81      \\\\\n",
       "\t 12       & niraj    & 97       & 77      \\\\\n",
       "\t 13       & shivansh & 75       & 67      \\\\\n",
       "\t 14       & mohit    & 62       & 80      \\\\\n",
       "\\end{tabular}\n"
      ],
      "text/markdown": [
       "\n",
       "| id | name | math | science |\n",
       "|---|---|---|---|\n",
       "| 11       | animesh  | 70       | 81       |\n",
       "| 12       | niraj    | 97       | 77       |\n",
       "| 13       | shivansh | 75       | 67       |\n",
       "| 14       | mohit    | 62       | 80       |\n",
       "\n"
      ],
      "text/plain": [
       "  id name     math science\n",
       "1 11 animesh  70   81     \n",
       "2 12 niraj    97   77     \n",
       "3 13 shivansh 75   67     \n",
       "4 14 mohit    62   80     "
      ]
     },
     "metadata": {},
     "output_type": "display_data"
    }
   ],
   "source": [
    "dff"
   ]
  },
  {
   "cell_type": "code",
   "execution_count": 98,
   "metadata": {},
   "outputs": [],
   "source": [
    "df3=rbind(df,dff)"
   ]
  },
  {
   "cell_type": "code",
   "execution_count": 99,
   "metadata": {},
   "outputs": [
    {
     "data": {
      "text/html": [
       "<table>\n",
       "<thead><tr><th scope=col>id</th><th scope=col>name</th><th scope=col>math</th><th scope=col>science</th></tr></thead>\n",
       "<tbody>\n",
       "\t<tr><td> 1      </td><td>afzal   </td><td>63      </td><td>83      </td></tr>\n",
       "\t<tr><td> 2      </td><td>aniket  </td><td>73      </td><td>73      </td></tr>\n",
       "\t<tr><td> 3      </td><td>anil    </td><td>77      </td><td>61      </td></tr>\n",
       "\t<tr><td> 4      </td><td>anish   </td><td>64      </td><td>64      </td></tr>\n",
       "\t<tr><td> 5      </td><td>anjali  </td><td>90      </td><td>85      </td></tr>\n",
       "\t<tr><td> 6      </td><td>anshima </td><td>74      </td><td>88      </td></tr>\n",
       "\t<tr><td> 7      </td><td>apoorva </td><td>88      </td><td>89      </td></tr>\n",
       "\t<tr><td> 8      </td><td>dependar</td><td>76      </td><td>81      </td></tr>\n",
       "\t<tr><td> 9      </td><td>hanisha </td><td>82      </td><td>66      </td></tr>\n",
       "\t<tr><td>10      </td><td>imran   </td><td>71      </td><td>82      </td></tr>\n",
       "\t<tr><td>11      </td><td>animesh </td><td>70      </td><td>81      </td></tr>\n",
       "\t<tr><td>12      </td><td>niraj   </td><td>97      </td><td>77      </td></tr>\n",
       "\t<tr><td>13      </td><td>shivansh</td><td>75      </td><td>67      </td></tr>\n",
       "\t<tr><td>14      </td><td>mohit   </td><td>62      </td><td>80      </td></tr>\n",
       "</tbody>\n",
       "</table>\n"
      ],
      "text/latex": [
       "\\begin{tabular}{r|llll}\n",
       " id & name & math & science\\\\\n",
       "\\hline\n",
       "\t  1       & afzal    & 63       & 83      \\\\\n",
       "\t  2       & aniket   & 73       & 73      \\\\\n",
       "\t  3       & anil     & 77       & 61      \\\\\n",
       "\t  4       & anish    & 64       & 64      \\\\\n",
       "\t  5       & anjali   & 90       & 85      \\\\\n",
       "\t  6       & anshima  & 74       & 88      \\\\\n",
       "\t  7       & apoorva  & 88       & 89      \\\\\n",
       "\t  8       & dependar & 76       & 81      \\\\\n",
       "\t  9       & hanisha  & 82       & 66      \\\\\n",
       "\t 10       & imran    & 71       & 82      \\\\\n",
       "\t 11       & animesh  & 70       & 81      \\\\\n",
       "\t 12       & niraj    & 97       & 77      \\\\\n",
       "\t 13       & shivansh & 75       & 67      \\\\\n",
       "\t 14       & mohit    & 62       & 80      \\\\\n",
       "\\end{tabular}\n"
      ],
      "text/markdown": [
       "\n",
       "| id | name | math | science |\n",
       "|---|---|---|---|\n",
       "|  1       | afzal    | 63       | 83       |\n",
       "|  2       | aniket   | 73       | 73       |\n",
       "|  3       | anil     | 77       | 61       |\n",
       "|  4       | anish    | 64       | 64       |\n",
       "|  5       | anjali   | 90       | 85       |\n",
       "|  6       | anshima  | 74       | 88       |\n",
       "|  7       | apoorva  | 88       | 89       |\n",
       "|  8       | dependar | 76       | 81       |\n",
       "|  9       | hanisha  | 82       | 66       |\n",
       "| 10       | imran    | 71       | 82       |\n",
       "| 11       | animesh  | 70       | 81       |\n",
       "| 12       | niraj    | 97       | 77       |\n",
       "| 13       | shivansh | 75       | 67       |\n",
       "| 14       | mohit    | 62       | 80       |\n",
       "\n"
      ],
      "text/plain": [
       "   id name     math science\n",
       "1   1 afzal    63   83     \n",
       "2   2 aniket   73   73     \n",
       "3   3 anil     77   61     \n",
       "4   4 anish    64   64     \n",
       "5   5 anjali   90   85     \n",
       "6   6 anshima  74   88     \n",
       "7   7 apoorva  88   89     \n",
       "8   8 dependar 76   81     \n",
       "9   9 hanisha  82   66     \n",
       "10 10 imran    71   82     \n",
       "11 11 animesh  70   81     \n",
       "12 12 niraj    97   77     \n",
       "13 13 shivansh 75   67     \n",
       "14 14 mohit    62   80     "
      ]
     },
     "metadata": {},
     "output_type": "display_data"
    }
   ],
   "source": [
    "df3"
   ]
  },
  {
   "cell_type": "code",
   "execution_count": 100,
   "metadata": {},
   "outputs": [
    {
     "data": {
      "text/html": [
       "<table>\n",
       "<tbody>\n",
       "\t<tr><th scope=row>id</th><td> 1      </td><td> 2      </td><td> 3      </td><td> 4      </td><td> 5      </td><td> 6      </td><td> 7      </td><td> 8      </td><td> 9      </td><td>10      </td><td>11      </td><td>12      </td><td>13      </td><td>14      </td></tr>\n",
       "\t<tr><th scope=row>name</th><td>afzal   </td><td>aniket  </td><td>anil    </td><td>anish   </td><td>anjali  </td><td>anshima </td><td>apoorva </td><td>dependar</td><td>hanisha </td><td>imran   </td><td>animesh </td><td>niraj   </td><td>shivansh</td><td>mohit   </td></tr>\n",
       "\t<tr><th scope=row>math</th><td>63      </td><td>73      </td><td>77      </td><td>64      </td><td>90      </td><td>74      </td><td>88      </td><td>76      </td><td>82      </td><td>71      </td><td>70      </td><td>97      </td><td>75      </td><td>62      </td></tr>\n",
       "\t<tr><th scope=row>science</th><td>83      </td><td>73      </td><td>61      </td><td>64      </td><td>85      </td><td>88      </td><td>89      </td><td>81      </td><td>66      </td><td>82      </td><td>81      </td><td>77      </td><td>67      </td><td>80      </td></tr>\n",
       "</tbody>\n",
       "</table>\n"
      ],
      "text/latex": [
       "\\begin{tabular}{r|llllllllllllll}\n",
       "\tid &  1       &  2       &  3       &  4       &  5       &  6       &  7       &  8       &  9       & 10       & 11       & 12       & 13       & 14      \\\\\n",
       "\tname & afzal    & aniket   & anil     & anish    & anjali   & anshima  & apoorva  & dependar & hanisha  & imran    & animesh  & niraj    & shivansh & mohit   \\\\\n",
       "\tmath & 63       & 73       & 77       & 64       & 90       & 74       & 88       & 76       & 82       & 71       & 70       & 97       & 75       & 62      \\\\\n",
       "\tscience & 83       & 73       & 61       & 64       & 85       & 88       & 89       & 81       & 66       & 82       & 81       & 77       & 67       & 80      \\\\\n",
       "\\end{tabular}\n"
      ],
      "text/markdown": [
       "\n",
       "| id |  1       |  2       |  3       |  4       |  5       |  6       |  7       |  8       |  9       | 10       | 11       | 12       | 13       | 14       |\n",
       "| name | afzal    | aniket   | anil     | anish    | anjali   | anshima  | apoorva  | dependar | hanisha  | imran    | animesh  | niraj    | shivansh | mohit    |\n",
       "| math | 63       | 73       | 77       | 64       | 90       | 74       | 88       | 76       | 82       | 71       | 70       | 97       | 75       | 62       |\n",
       "| science | 83       | 73       | 61       | 64       | 85       | 88       | 89       | 81       | 66       | 82       | 81       | 77       | 67       | 80       |\n",
       "\n"
      ],
      "text/plain": [
       "        [,1]  [,2]   [,3] [,4]  [,5]   [,6]    [,7]    [,8]     [,9]    [,10]\n",
       "id       1     2      3    4     5      6       7       8        9      10   \n",
       "name    afzal aniket anil anish anjali anshima apoorva dependar hanisha imran\n",
       "math    63    73     77   64    90     74      88      76       82      71   \n",
       "science 83    73     61   64    85     88      89      81       66      82   \n",
       "        [,11]   [,12] [,13]    [,14]\n",
       "id      11      12    13       14   \n",
       "name    animesh niraj shivansh mohit\n",
       "math    70      97    75       62   \n",
       "science 81      77    67       80   "
      ]
     },
     "metadata": {},
     "output_type": "display_data"
    }
   ],
   "source": [
    "t(df3)"
   ]
  },
  {
   "cell_type": "code",
   "execution_count": 101,
   "metadata": {},
   "outputs": [],
   "source": [
    "library(reshape2)"
   ]
  },
  {
   "cell_type": "code",
   "execution_count": 103,
   "metadata": {},
   "outputs": [],
   "source": [
    "car=mtcars"
   ]
  },
  {
   "cell_type": "code",
   "execution_count": 105,
   "metadata": {},
   "outputs": [
    {
     "data": {
      "text/html": [
       "<table>\n",
       "<thead><tr><th></th><th scope=col>mpg</th><th scope=col>cyl</th><th scope=col>disp</th><th scope=col>hp</th><th scope=col>drat</th><th scope=col>wt</th><th scope=col>qsec</th><th scope=col>vs</th><th scope=col>am</th><th scope=col>gear</th><th scope=col>carb</th></tr></thead>\n",
       "<tbody>\n",
       "\t<tr><th scope=row>Mazda RX4</th><td>21.0 </td><td>6    </td><td>160  </td><td>110  </td><td>3.90 </td><td>2.620</td><td>16.46</td><td>0    </td><td>1    </td><td>4    </td><td>4    </td></tr>\n",
       "\t<tr><th scope=row>Mazda RX4 Wag</th><td>21.0 </td><td>6    </td><td>160  </td><td>110  </td><td>3.90 </td><td>2.875</td><td>17.02</td><td>0    </td><td>1    </td><td>4    </td><td>4    </td></tr>\n",
       "\t<tr><th scope=row>Datsun 710</th><td>22.8 </td><td>4    </td><td>108  </td><td> 93  </td><td>3.85 </td><td>2.320</td><td>18.61</td><td>1    </td><td>1    </td><td>4    </td><td>1    </td></tr>\n",
       "\t<tr><th scope=row>Hornet 4 Drive</th><td>21.4 </td><td>6    </td><td>258  </td><td>110  </td><td>3.08 </td><td>3.215</td><td>19.44</td><td>1    </td><td>0    </td><td>3    </td><td>1    </td></tr>\n",
       "\t<tr><th scope=row>Hornet Sportabout</th><td>18.7 </td><td>8    </td><td>360  </td><td>175  </td><td>3.15 </td><td>3.440</td><td>17.02</td><td>0    </td><td>0    </td><td>3    </td><td>2    </td></tr>\n",
       "\t<tr><th scope=row>Valiant</th><td>18.1 </td><td>6    </td><td>225  </td><td>105  </td><td>2.76 </td><td>3.460</td><td>20.22</td><td>1    </td><td>0    </td><td>3    </td><td>1    </td></tr>\n",
       "</tbody>\n",
       "</table>\n"
      ],
      "text/latex": [
       "\\begin{tabular}{r|lllllllllll}\n",
       "  & mpg & cyl & disp & hp & drat & wt & qsec & vs & am & gear & carb\\\\\n",
       "\\hline\n",
       "\tMazda RX4 & 21.0  & 6     & 160   & 110   & 3.90  & 2.620 & 16.46 & 0     & 1     & 4     & 4    \\\\\n",
       "\tMazda RX4 Wag & 21.0  & 6     & 160   & 110   & 3.90  & 2.875 & 17.02 & 0     & 1     & 4     & 4    \\\\\n",
       "\tDatsun 710 & 22.8  & 4     & 108   &  93   & 3.85  & 2.320 & 18.61 & 1     & 1     & 4     & 1    \\\\\n",
       "\tHornet 4 Drive & 21.4  & 6     & 258   & 110   & 3.08  & 3.215 & 19.44 & 1     & 0     & 3     & 1    \\\\\n",
       "\tHornet Sportabout & 18.7  & 8     & 360   & 175   & 3.15  & 3.440 & 17.02 & 0     & 0     & 3     & 2    \\\\\n",
       "\tValiant & 18.1  & 6     & 225   & 105   & 2.76  & 3.460 & 20.22 & 1     & 0     & 3     & 1    \\\\\n",
       "\\end{tabular}\n"
      ],
      "text/markdown": [
       "\n",
       "| <!--/--> | mpg | cyl | disp | hp | drat | wt | qsec | vs | am | gear | carb |\n",
       "|---|---|---|---|---|---|---|---|---|---|---|---|\n",
       "| Mazda RX4 | 21.0  | 6     | 160   | 110   | 3.90  | 2.620 | 16.46 | 0     | 1     | 4     | 4     |\n",
       "| Mazda RX4 Wag | 21.0  | 6     | 160   | 110   | 3.90  | 2.875 | 17.02 | 0     | 1     | 4     | 4     |\n",
       "| Datsun 710 | 22.8  | 4     | 108   |  93   | 3.85  | 2.320 | 18.61 | 1     | 1     | 4     | 1     |\n",
       "| Hornet 4 Drive | 21.4  | 6     | 258   | 110   | 3.08  | 3.215 | 19.44 | 1     | 0     | 3     | 1     |\n",
       "| Hornet Sportabout | 18.7  | 8     | 360   | 175   | 3.15  | 3.440 | 17.02 | 0     | 0     | 3     | 2     |\n",
       "| Valiant | 18.1  | 6     | 225   | 105   | 2.76  | 3.460 | 20.22 | 1     | 0     | 3     | 1     |\n",
       "\n"
      ],
      "text/plain": [
       "                  mpg  cyl disp hp  drat wt    qsec  vs am gear carb\n",
       "Mazda RX4         21.0 6   160  110 3.90 2.620 16.46 0  1  4    4   \n",
       "Mazda RX4 Wag     21.0 6   160  110 3.90 2.875 17.02 0  1  4    4   \n",
       "Datsun 710        22.8 4   108   93 3.85 2.320 18.61 1  1  4    1   \n",
       "Hornet 4 Drive    21.4 6   258  110 3.08 3.215 19.44 1  0  3    1   \n",
       "Hornet Sportabout 18.7 8   360  175 3.15 3.440 17.02 0  0  3    2   \n",
       "Valiant           18.1 6   225  105 2.76 3.460 20.22 1  0  3    1   "
      ]
     },
     "metadata": {},
     "output_type": "display_data"
    }
   ],
   "source": [
    "head(car)"
   ]
  },
  {
   "cell_type": "code",
   "execution_count": 106,
   "metadata": {},
   "outputs": [],
   "source": [
    "x= iris"
   ]
  },
  {
   "cell_type": "code",
   "execution_count": 107,
   "metadata": {},
   "outputs": [
    {
     "data": {
      "text/html": [
       "<table>\n",
       "<thead><tr><th scope=col>Sepal.Length</th><th scope=col>Sepal.Width</th><th scope=col>Petal.Length</th><th scope=col>Petal.Width</th><th scope=col>Species</th></tr></thead>\n",
       "<tbody>\n",
       "\t<tr><td>5.1   </td><td>3.5   </td><td>1.4   </td><td>0.2   </td><td>setosa</td></tr>\n",
       "\t<tr><td>4.9   </td><td>3.0   </td><td>1.4   </td><td>0.2   </td><td>setosa</td></tr>\n",
       "\t<tr><td>4.7   </td><td>3.2   </td><td>1.3   </td><td>0.2   </td><td>setosa</td></tr>\n",
       "\t<tr><td>4.6   </td><td>3.1   </td><td>1.5   </td><td>0.2   </td><td>setosa</td></tr>\n",
       "\t<tr><td>5.0   </td><td>3.6   </td><td>1.4   </td><td>0.2   </td><td>setosa</td></tr>\n",
       "\t<tr><td>5.4   </td><td>3.9   </td><td>1.7   </td><td>0.4   </td><td>setosa</td></tr>\n",
       "\t<tr><td>4.6   </td><td>3.4   </td><td>1.4   </td><td>0.3   </td><td>setosa</td></tr>\n",
       "\t<tr><td>5.0   </td><td>3.4   </td><td>1.5   </td><td>0.2   </td><td>setosa</td></tr>\n",
       "\t<tr><td>4.4   </td><td>2.9   </td><td>1.4   </td><td>0.2   </td><td>setosa</td></tr>\n",
       "\t<tr><td>4.9   </td><td>3.1   </td><td>1.5   </td><td>0.1   </td><td>setosa</td></tr>\n",
       "\t<tr><td>5.4   </td><td>3.7   </td><td>1.5   </td><td>0.2   </td><td>setosa</td></tr>\n",
       "\t<tr><td>4.8   </td><td>3.4   </td><td>1.6   </td><td>0.2   </td><td>setosa</td></tr>\n",
       "\t<tr><td>4.8   </td><td>3.0   </td><td>1.4   </td><td>0.1   </td><td>setosa</td></tr>\n",
       "\t<tr><td>4.3   </td><td>3.0   </td><td>1.1   </td><td>0.1   </td><td>setosa</td></tr>\n",
       "\t<tr><td>5.8   </td><td>4.0   </td><td>1.2   </td><td>0.2   </td><td>setosa</td></tr>\n",
       "\t<tr><td>5.7   </td><td>4.4   </td><td>1.5   </td><td>0.4   </td><td>setosa</td></tr>\n",
       "\t<tr><td>5.4   </td><td>3.9   </td><td>1.3   </td><td>0.4   </td><td>setosa</td></tr>\n",
       "\t<tr><td>5.1   </td><td>3.5   </td><td>1.4   </td><td>0.3   </td><td>setosa</td></tr>\n",
       "\t<tr><td>5.7   </td><td>3.8   </td><td>1.7   </td><td>0.3   </td><td>setosa</td></tr>\n",
       "\t<tr><td>5.1   </td><td>3.8   </td><td>1.5   </td><td>0.3   </td><td>setosa</td></tr>\n",
       "\t<tr><td>5.4   </td><td>3.4   </td><td>1.7   </td><td>0.2   </td><td>setosa</td></tr>\n",
       "\t<tr><td>5.1   </td><td>3.7   </td><td>1.5   </td><td>0.4   </td><td>setosa</td></tr>\n",
       "\t<tr><td>4.6   </td><td>3.6   </td><td>1.0   </td><td>0.2   </td><td>setosa</td></tr>\n",
       "\t<tr><td>5.1   </td><td>3.3   </td><td>1.7   </td><td>0.5   </td><td>setosa</td></tr>\n",
       "\t<tr><td>4.8   </td><td>3.4   </td><td>1.9   </td><td>0.2   </td><td>setosa</td></tr>\n",
       "\t<tr><td>5.0   </td><td>3.0   </td><td>1.6   </td><td>0.2   </td><td>setosa</td></tr>\n",
       "\t<tr><td>5.0   </td><td>3.4   </td><td>1.6   </td><td>0.4   </td><td>setosa</td></tr>\n",
       "\t<tr><td>5.2   </td><td>3.5   </td><td>1.5   </td><td>0.2   </td><td>setosa</td></tr>\n",
       "\t<tr><td>5.2   </td><td>3.4   </td><td>1.4   </td><td>0.2   </td><td>setosa</td></tr>\n",
       "\t<tr><td>4.7   </td><td>3.2   </td><td>1.6   </td><td>0.2   </td><td>setosa</td></tr>\n",
       "\t<tr><td>...</td><td>...</td><td>...</td><td>...</td><td>...</td></tr>\n",
       "\t<tr><td>6.9      </td><td>3.2      </td><td>5.7      </td><td>2.3      </td><td>virginica</td></tr>\n",
       "\t<tr><td>5.6      </td><td>2.8      </td><td>4.9      </td><td>2.0      </td><td>virginica</td></tr>\n",
       "\t<tr><td>7.7      </td><td>2.8      </td><td>6.7      </td><td>2.0      </td><td>virginica</td></tr>\n",
       "\t<tr><td>6.3      </td><td>2.7      </td><td>4.9      </td><td>1.8      </td><td>virginica</td></tr>\n",
       "\t<tr><td>6.7      </td><td>3.3      </td><td>5.7      </td><td>2.1      </td><td>virginica</td></tr>\n",
       "\t<tr><td>7.2      </td><td>3.2      </td><td>6.0      </td><td>1.8      </td><td>virginica</td></tr>\n",
       "\t<tr><td>6.2      </td><td>2.8      </td><td>4.8      </td><td>1.8      </td><td>virginica</td></tr>\n",
       "\t<tr><td>6.1      </td><td>3.0      </td><td>4.9      </td><td>1.8      </td><td>virginica</td></tr>\n",
       "\t<tr><td>6.4      </td><td>2.8      </td><td>5.6      </td><td>2.1      </td><td>virginica</td></tr>\n",
       "\t<tr><td>7.2      </td><td>3.0      </td><td>5.8      </td><td>1.6      </td><td>virginica</td></tr>\n",
       "\t<tr><td>7.4      </td><td>2.8      </td><td>6.1      </td><td>1.9      </td><td>virginica</td></tr>\n",
       "\t<tr><td>7.9      </td><td>3.8      </td><td>6.4      </td><td>2.0      </td><td>virginica</td></tr>\n",
       "\t<tr><td>6.4      </td><td>2.8      </td><td>5.6      </td><td>2.2      </td><td>virginica</td></tr>\n",
       "\t<tr><td>6.3      </td><td>2.8      </td><td>5.1      </td><td>1.5      </td><td>virginica</td></tr>\n",
       "\t<tr><td>6.1      </td><td>2.6      </td><td>5.6      </td><td>1.4      </td><td>virginica</td></tr>\n",
       "\t<tr><td>7.7      </td><td>3.0      </td><td>6.1      </td><td>2.3      </td><td>virginica</td></tr>\n",
       "\t<tr><td>6.3      </td><td>3.4      </td><td>5.6      </td><td>2.4      </td><td>virginica</td></tr>\n",
       "\t<tr><td>6.4      </td><td>3.1      </td><td>5.5      </td><td>1.8      </td><td>virginica</td></tr>\n",
       "\t<tr><td>6.0      </td><td>3.0      </td><td>4.8      </td><td>1.8      </td><td>virginica</td></tr>\n",
       "\t<tr><td>6.9      </td><td>3.1      </td><td>5.4      </td><td>2.1      </td><td>virginica</td></tr>\n",
       "\t<tr><td>6.7      </td><td>3.1      </td><td>5.6      </td><td>2.4      </td><td>virginica</td></tr>\n",
       "\t<tr><td>6.9      </td><td>3.1      </td><td>5.1      </td><td>2.3      </td><td>virginica</td></tr>\n",
       "\t<tr><td>5.8      </td><td>2.7      </td><td>5.1      </td><td>1.9      </td><td>virginica</td></tr>\n",
       "\t<tr><td>6.8      </td><td>3.2      </td><td>5.9      </td><td>2.3      </td><td>virginica</td></tr>\n",
       "\t<tr><td>6.7      </td><td>3.3      </td><td>5.7      </td><td>2.5      </td><td>virginica</td></tr>\n",
       "\t<tr><td>6.7      </td><td>3.0      </td><td>5.2      </td><td>2.3      </td><td>virginica</td></tr>\n",
       "\t<tr><td>6.3      </td><td>2.5      </td><td>5.0      </td><td>1.9      </td><td>virginica</td></tr>\n",
       "\t<tr><td>6.5      </td><td>3.0      </td><td>5.2      </td><td>2.0      </td><td>virginica</td></tr>\n",
       "\t<tr><td>6.2      </td><td>3.4      </td><td>5.4      </td><td>2.3      </td><td>virginica</td></tr>\n",
       "\t<tr><td>5.9      </td><td>3.0      </td><td>5.1      </td><td>1.8      </td><td>virginica</td></tr>\n",
       "</tbody>\n",
       "</table>\n"
      ],
      "text/latex": [
       "\\begin{tabular}{r|lllll}\n",
       " Sepal.Length & Sepal.Width & Petal.Length & Petal.Width & Species\\\\\n",
       "\\hline\n",
       "\t 5.1    & 3.5    & 1.4    & 0.2    & setosa\\\\\n",
       "\t 4.9    & 3.0    & 1.4    & 0.2    & setosa\\\\\n",
       "\t 4.7    & 3.2    & 1.3    & 0.2    & setosa\\\\\n",
       "\t 4.6    & 3.1    & 1.5    & 0.2    & setosa\\\\\n",
       "\t 5.0    & 3.6    & 1.4    & 0.2    & setosa\\\\\n",
       "\t 5.4    & 3.9    & 1.7    & 0.4    & setosa\\\\\n",
       "\t 4.6    & 3.4    & 1.4    & 0.3    & setosa\\\\\n",
       "\t 5.0    & 3.4    & 1.5    & 0.2    & setosa\\\\\n",
       "\t 4.4    & 2.9    & 1.4    & 0.2    & setosa\\\\\n",
       "\t 4.9    & 3.1    & 1.5    & 0.1    & setosa\\\\\n",
       "\t 5.4    & 3.7    & 1.5    & 0.2    & setosa\\\\\n",
       "\t 4.8    & 3.4    & 1.6    & 0.2    & setosa\\\\\n",
       "\t 4.8    & 3.0    & 1.4    & 0.1    & setosa\\\\\n",
       "\t 4.3    & 3.0    & 1.1    & 0.1    & setosa\\\\\n",
       "\t 5.8    & 4.0    & 1.2    & 0.2    & setosa\\\\\n",
       "\t 5.7    & 4.4    & 1.5    & 0.4    & setosa\\\\\n",
       "\t 5.4    & 3.9    & 1.3    & 0.4    & setosa\\\\\n",
       "\t 5.1    & 3.5    & 1.4    & 0.3    & setosa\\\\\n",
       "\t 5.7    & 3.8    & 1.7    & 0.3    & setosa\\\\\n",
       "\t 5.1    & 3.8    & 1.5    & 0.3    & setosa\\\\\n",
       "\t 5.4    & 3.4    & 1.7    & 0.2    & setosa\\\\\n",
       "\t 5.1    & 3.7    & 1.5    & 0.4    & setosa\\\\\n",
       "\t 4.6    & 3.6    & 1.0    & 0.2    & setosa\\\\\n",
       "\t 5.1    & 3.3    & 1.7    & 0.5    & setosa\\\\\n",
       "\t 4.8    & 3.4    & 1.9    & 0.2    & setosa\\\\\n",
       "\t 5.0    & 3.0    & 1.6    & 0.2    & setosa\\\\\n",
       "\t 5.0    & 3.4    & 1.6    & 0.4    & setosa\\\\\n",
       "\t 5.2    & 3.5    & 1.5    & 0.2    & setosa\\\\\n",
       "\t 5.2    & 3.4    & 1.4    & 0.2    & setosa\\\\\n",
       "\t 4.7    & 3.2    & 1.6    & 0.2    & setosa\\\\\n",
       "\t ... & ... & ... & ... & ...\\\\\n",
       "\t 6.9       & 3.2       & 5.7       & 2.3       & virginica\\\\\n",
       "\t 5.6       & 2.8       & 4.9       & 2.0       & virginica\\\\\n",
       "\t 7.7       & 2.8       & 6.7       & 2.0       & virginica\\\\\n",
       "\t 6.3       & 2.7       & 4.9       & 1.8       & virginica\\\\\n",
       "\t 6.7       & 3.3       & 5.7       & 2.1       & virginica\\\\\n",
       "\t 7.2       & 3.2       & 6.0       & 1.8       & virginica\\\\\n",
       "\t 6.2       & 2.8       & 4.8       & 1.8       & virginica\\\\\n",
       "\t 6.1       & 3.0       & 4.9       & 1.8       & virginica\\\\\n",
       "\t 6.4       & 2.8       & 5.6       & 2.1       & virginica\\\\\n",
       "\t 7.2       & 3.0       & 5.8       & 1.6       & virginica\\\\\n",
       "\t 7.4       & 2.8       & 6.1       & 1.9       & virginica\\\\\n",
       "\t 7.9       & 3.8       & 6.4       & 2.0       & virginica\\\\\n",
       "\t 6.4       & 2.8       & 5.6       & 2.2       & virginica\\\\\n",
       "\t 6.3       & 2.8       & 5.1       & 1.5       & virginica\\\\\n",
       "\t 6.1       & 2.6       & 5.6       & 1.4       & virginica\\\\\n",
       "\t 7.7       & 3.0       & 6.1       & 2.3       & virginica\\\\\n",
       "\t 6.3       & 3.4       & 5.6       & 2.4       & virginica\\\\\n",
       "\t 6.4       & 3.1       & 5.5       & 1.8       & virginica\\\\\n",
       "\t 6.0       & 3.0       & 4.8       & 1.8       & virginica\\\\\n",
       "\t 6.9       & 3.1       & 5.4       & 2.1       & virginica\\\\\n",
       "\t 6.7       & 3.1       & 5.6       & 2.4       & virginica\\\\\n",
       "\t 6.9       & 3.1       & 5.1       & 2.3       & virginica\\\\\n",
       "\t 5.8       & 2.7       & 5.1       & 1.9       & virginica\\\\\n",
       "\t 6.8       & 3.2       & 5.9       & 2.3       & virginica\\\\\n",
       "\t 6.7       & 3.3       & 5.7       & 2.5       & virginica\\\\\n",
       "\t 6.7       & 3.0       & 5.2       & 2.3       & virginica\\\\\n",
       "\t 6.3       & 2.5       & 5.0       & 1.9       & virginica\\\\\n",
       "\t 6.5       & 3.0       & 5.2       & 2.0       & virginica\\\\\n",
       "\t 6.2       & 3.4       & 5.4       & 2.3       & virginica\\\\\n",
       "\t 5.9       & 3.0       & 5.1       & 1.8       & virginica\\\\\n",
       "\\end{tabular}\n"
      ],
      "text/markdown": [
       "\n",
       "| Sepal.Length | Sepal.Width | Petal.Length | Petal.Width | Species |\n",
       "|---|---|---|---|---|\n",
       "| 5.1    | 3.5    | 1.4    | 0.2    | setosa |\n",
       "| 4.9    | 3.0    | 1.4    | 0.2    | setosa |\n",
       "| 4.7    | 3.2    | 1.3    | 0.2    | setosa |\n",
       "| 4.6    | 3.1    | 1.5    | 0.2    | setosa |\n",
       "| 5.0    | 3.6    | 1.4    | 0.2    | setosa |\n",
       "| 5.4    | 3.9    | 1.7    | 0.4    | setosa |\n",
       "| 4.6    | 3.4    | 1.4    | 0.3    | setosa |\n",
       "| 5.0    | 3.4    | 1.5    | 0.2    | setosa |\n",
       "| 4.4    | 2.9    | 1.4    | 0.2    | setosa |\n",
       "| 4.9    | 3.1    | 1.5    | 0.1    | setosa |\n",
       "| 5.4    | 3.7    | 1.5    | 0.2    | setosa |\n",
       "| 4.8    | 3.4    | 1.6    | 0.2    | setosa |\n",
       "| 4.8    | 3.0    | 1.4    | 0.1    | setosa |\n",
       "| 4.3    | 3.0    | 1.1    | 0.1    | setosa |\n",
       "| 5.8    | 4.0    | 1.2    | 0.2    | setosa |\n",
       "| 5.7    | 4.4    | 1.5    | 0.4    | setosa |\n",
       "| 5.4    | 3.9    | 1.3    | 0.4    | setosa |\n",
       "| 5.1    | 3.5    | 1.4    | 0.3    | setosa |\n",
       "| 5.7    | 3.8    | 1.7    | 0.3    | setosa |\n",
       "| 5.1    | 3.8    | 1.5    | 0.3    | setosa |\n",
       "| 5.4    | 3.4    | 1.7    | 0.2    | setosa |\n",
       "| 5.1    | 3.7    | 1.5    | 0.4    | setosa |\n",
       "| 4.6    | 3.6    | 1.0    | 0.2    | setosa |\n",
       "| 5.1    | 3.3    | 1.7    | 0.5    | setosa |\n",
       "| 4.8    | 3.4    | 1.9    | 0.2    | setosa |\n",
       "| 5.0    | 3.0    | 1.6    | 0.2    | setosa |\n",
       "| 5.0    | 3.4    | 1.6    | 0.4    | setosa |\n",
       "| 5.2    | 3.5    | 1.5    | 0.2    | setosa |\n",
       "| 5.2    | 3.4    | 1.4    | 0.2    | setosa |\n",
       "| 4.7    | 3.2    | 1.6    | 0.2    | setosa |\n",
       "| ... | ... | ... | ... | ... |\n",
       "| 6.9       | 3.2       | 5.7       | 2.3       | virginica |\n",
       "| 5.6       | 2.8       | 4.9       | 2.0       | virginica |\n",
       "| 7.7       | 2.8       | 6.7       | 2.0       | virginica |\n",
       "| 6.3       | 2.7       | 4.9       | 1.8       | virginica |\n",
       "| 6.7       | 3.3       | 5.7       | 2.1       | virginica |\n",
       "| 7.2       | 3.2       | 6.0       | 1.8       | virginica |\n",
       "| 6.2       | 2.8       | 4.8       | 1.8       | virginica |\n",
       "| 6.1       | 3.0       | 4.9       | 1.8       | virginica |\n",
       "| 6.4       | 2.8       | 5.6       | 2.1       | virginica |\n",
       "| 7.2       | 3.0       | 5.8       | 1.6       | virginica |\n",
       "| 7.4       | 2.8       | 6.1       | 1.9       | virginica |\n",
       "| 7.9       | 3.8       | 6.4       | 2.0       | virginica |\n",
       "| 6.4       | 2.8       | 5.6       | 2.2       | virginica |\n",
       "| 6.3       | 2.8       | 5.1       | 1.5       | virginica |\n",
       "| 6.1       | 2.6       | 5.6       | 1.4       | virginica |\n",
       "| 7.7       | 3.0       | 6.1       | 2.3       | virginica |\n",
       "| 6.3       | 3.4       | 5.6       | 2.4       | virginica |\n",
       "| 6.4       | 3.1       | 5.5       | 1.8       | virginica |\n",
       "| 6.0       | 3.0       | 4.8       | 1.8       | virginica |\n",
       "| 6.9       | 3.1       | 5.4       | 2.1       | virginica |\n",
       "| 6.7       | 3.1       | 5.6       | 2.4       | virginica |\n",
       "| 6.9       | 3.1       | 5.1       | 2.3       | virginica |\n",
       "| 5.8       | 2.7       | 5.1       | 1.9       | virginica |\n",
       "| 6.8       | 3.2       | 5.9       | 2.3       | virginica |\n",
       "| 6.7       | 3.3       | 5.7       | 2.5       | virginica |\n",
       "| 6.7       | 3.0       | 5.2       | 2.3       | virginica |\n",
       "| 6.3       | 2.5       | 5.0       | 1.9       | virginica |\n",
       "| 6.5       | 3.0       | 5.2       | 2.0       | virginica |\n",
       "| 6.2       | 3.4       | 5.4       | 2.3       | virginica |\n",
       "| 5.9       | 3.0       | 5.1       | 1.8       | virginica |\n",
       "\n"
      ],
      "text/plain": [
       "    Sepal.Length Sepal.Width Petal.Length Petal.Width Species  \n",
       "1   5.1          3.5         1.4          0.2         setosa   \n",
       "2   4.9          3.0         1.4          0.2         setosa   \n",
       "3   4.7          3.2         1.3          0.2         setosa   \n",
       "4   4.6          3.1         1.5          0.2         setosa   \n",
       "5   5.0          3.6         1.4          0.2         setosa   \n",
       "6   5.4          3.9         1.7          0.4         setosa   \n",
       "7   4.6          3.4         1.4          0.3         setosa   \n",
       "8   5.0          3.4         1.5          0.2         setosa   \n",
       "9   4.4          2.9         1.4          0.2         setosa   \n",
       "10  4.9          3.1         1.5          0.1         setosa   \n",
       "11  5.4          3.7         1.5          0.2         setosa   \n",
       "12  4.8          3.4         1.6          0.2         setosa   \n",
       "13  4.8          3.0         1.4          0.1         setosa   \n",
       "14  4.3          3.0         1.1          0.1         setosa   \n",
       "15  5.8          4.0         1.2          0.2         setosa   \n",
       "16  5.7          4.4         1.5          0.4         setosa   \n",
       "17  5.4          3.9         1.3          0.4         setosa   \n",
       "18  5.1          3.5         1.4          0.3         setosa   \n",
       "19  5.7          3.8         1.7          0.3         setosa   \n",
       "20  5.1          3.8         1.5          0.3         setosa   \n",
       "21  5.4          3.4         1.7          0.2         setosa   \n",
       "22  5.1          3.7         1.5          0.4         setosa   \n",
       "23  4.6          3.6         1.0          0.2         setosa   \n",
       "24  5.1          3.3         1.7          0.5         setosa   \n",
       "25  4.8          3.4         1.9          0.2         setosa   \n",
       "26  5.0          3.0         1.6          0.2         setosa   \n",
       "27  5.0          3.4         1.6          0.4         setosa   \n",
       "28  5.2          3.5         1.5          0.2         setosa   \n",
       "29  5.2          3.4         1.4          0.2         setosa   \n",
       "30  4.7          3.2         1.6          0.2         setosa   \n",
       "... ...          ...         ...          ...         ...      \n",
       "121 6.9          3.2         5.7          2.3         virginica\n",
       "122 5.6          2.8         4.9          2.0         virginica\n",
       "123 7.7          2.8         6.7          2.0         virginica\n",
       "124 6.3          2.7         4.9          1.8         virginica\n",
       "125 6.7          3.3         5.7          2.1         virginica\n",
       "126 7.2          3.2         6.0          1.8         virginica\n",
       "127 6.2          2.8         4.8          1.8         virginica\n",
       "128 6.1          3.0         4.9          1.8         virginica\n",
       "129 6.4          2.8         5.6          2.1         virginica\n",
       "130 7.2          3.0         5.8          1.6         virginica\n",
       "131 7.4          2.8         6.1          1.9         virginica\n",
       "132 7.9          3.8         6.4          2.0         virginica\n",
       "133 6.4          2.8         5.6          2.2         virginica\n",
       "134 6.3          2.8         5.1          1.5         virginica\n",
       "135 6.1          2.6         5.6          1.4         virginica\n",
       "136 7.7          3.0         6.1          2.3         virginica\n",
       "137 6.3          3.4         5.6          2.4         virginica\n",
       "138 6.4          3.1         5.5          1.8         virginica\n",
       "139 6.0          3.0         4.8          1.8         virginica\n",
       "140 6.9          3.1         5.4          2.1         virginica\n",
       "141 6.7          3.1         5.6          2.4         virginica\n",
       "142 6.9          3.1         5.1          2.3         virginica\n",
       "143 5.8          2.7         5.1          1.9         virginica\n",
       "144 6.8          3.2         5.9          2.3         virginica\n",
       "145 6.7          3.3         5.7          2.5         virginica\n",
       "146 6.7          3.0         5.2          2.3         virginica\n",
       "147 6.3          2.5         5.0          1.9         virginica\n",
       "148 6.5          3.0         5.2          2.0         virginica\n",
       "149 6.2          3.4         5.4          2.3         virginica\n",
       "150 5.9          3.0         5.1          1.8         virginica"
      ]
     },
     "metadata": {},
     "output_type": "display_data"
    }
   ],
   "source": [
    "x"
   ]
  },
  {
   "cell_type": "code",
   "execution_count": 111,
   "metadata": {},
   "outputs": [
    {
     "name": "stderr",
     "output_type": "stream",
     "text": [
      "Using Species as value column: use value.var to override.\n",
      "Aggregation function missing: defaulting to length\n"
     ]
    },
    {
     "data": {
      "text/html": [
       "<table>\n",
       "<thead><tr><th scope=col>Sepal.Length</th><th scope=col>Sepal.Width</th><th scope=col>Petal.Length</th><th scope=col>Petal.Width</th><th scope=col>setosa</th><th scope=col>versicolor</th><th scope=col>virginica</th></tr></thead>\n",
       "<tbody>\n",
       "\t<tr><td>4.3</td><td>3.0</td><td>1.1</td><td>0.1</td><td>1  </td><td>0  </td><td>0  </td></tr>\n",
       "\t<tr><td>4.4</td><td>2.9</td><td>1.4</td><td>0.2</td><td>1  </td><td>0  </td><td>0  </td></tr>\n",
       "\t<tr><td>4.4</td><td>3.0</td><td>1.3</td><td>0.2</td><td>1  </td><td>0  </td><td>0  </td></tr>\n",
       "\t<tr><td>4.4</td><td>3.2</td><td>1.3</td><td>0.2</td><td>1  </td><td>0  </td><td>0  </td></tr>\n",
       "\t<tr><td>4.5</td><td>2.3</td><td>1.3</td><td>0.3</td><td>1  </td><td>0  </td><td>0  </td></tr>\n",
       "\t<tr><td>4.6</td><td>3.1</td><td>1.5</td><td>0.2</td><td>1  </td><td>0  </td><td>0  </td></tr>\n",
       "\t<tr><td>4.6</td><td>3.2</td><td>1.4</td><td>0.2</td><td>1  </td><td>0  </td><td>0  </td></tr>\n",
       "\t<tr><td>4.6</td><td>3.4</td><td>1.4</td><td>0.3</td><td>1  </td><td>0  </td><td>0  </td></tr>\n",
       "\t<tr><td>4.6</td><td>3.6</td><td>1.0</td><td>0.2</td><td>1  </td><td>0  </td><td>0  </td></tr>\n",
       "\t<tr><td>4.7</td><td>3.2</td><td>1.3</td><td>0.2</td><td>1  </td><td>0  </td><td>0  </td></tr>\n",
       "\t<tr><td>4.7</td><td>3.2</td><td>1.6</td><td>0.2</td><td>1  </td><td>0  </td><td>0  </td></tr>\n",
       "\t<tr><td>4.8</td><td>3.0</td><td>1.4</td><td>0.1</td><td>1  </td><td>0  </td><td>0  </td></tr>\n",
       "\t<tr><td>4.8</td><td>3.0</td><td>1.4</td><td>0.3</td><td>1  </td><td>0  </td><td>0  </td></tr>\n",
       "\t<tr><td>4.8</td><td>3.1</td><td>1.6</td><td>0.2</td><td>1  </td><td>0  </td><td>0  </td></tr>\n",
       "\t<tr><td>4.8</td><td>3.4</td><td>1.6</td><td>0.2</td><td>1  </td><td>0  </td><td>0  </td></tr>\n",
       "\t<tr><td>4.8</td><td>3.4</td><td>1.9</td><td>0.2</td><td>1  </td><td>0  </td><td>0  </td></tr>\n",
       "\t<tr><td>4.9</td><td>2.4</td><td>3.3</td><td>1.0</td><td>0  </td><td>1  </td><td>0  </td></tr>\n",
       "\t<tr><td>4.9</td><td>2.5</td><td>4.5</td><td>1.7</td><td>0  </td><td>0  </td><td>1  </td></tr>\n",
       "\t<tr><td>4.9</td><td>3.0</td><td>1.4</td><td>0.2</td><td>1  </td><td>0  </td><td>0  </td></tr>\n",
       "\t<tr><td>4.9</td><td>3.1</td><td>1.5</td><td>0.1</td><td>1  </td><td>0  </td><td>0  </td></tr>\n",
       "\t<tr><td>4.9</td><td>3.1</td><td>1.5</td><td>0.2</td><td>1  </td><td>0  </td><td>0  </td></tr>\n",
       "\t<tr><td>4.9</td><td>3.6</td><td>1.4</td><td>0.1</td><td>1  </td><td>0  </td><td>0  </td></tr>\n",
       "\t<tr><td>5.0</td><td>2.0</td><td>3.5</td><td>1.0</td><td>0  </td><td>1  </td><td>0  </td></tr>\n",
       "\t<tr><td>5.0</td><td>2.3</td><td>3.3</td><td>1.0</td><td>0  </td><td>1  </td><td>0  </td></tr>\n",
       "\t<tr><td>5.0</td><td>3.0</td><td>1.6</td><td>0.2</td><td>1  </td><td>0  </td><td>0  </td></tr>\n",
       "\t<tr><td>5.0</td><td>3.2</td><td>1.2</td><td>0.2</td><td>1  </td><td>0  </td><td>0  </td></tr>\n",
       "\t<tr><td>5.0</td><td>3.3</td><td>1.4</td><td>0.2</td><td>1  </td><td>0  </td><td>0  </td></tr>\n",
       "\t<tr><td>5.0</td><td>3.4</td><td>1.5</td><td>0.2</td><td>1  </td><td>0  </td><td>0  </td></tr>\n",
       "\t<tr><td>5.0</td><td>3.4</td><td>1.6</td><td>0.4</td><td>1  </td><td>0  </td><td>0  </td></tr>\n",
       "\t<tr><td>5.0</td><td>3.5</td><td>1.3</td><td>0.3</td><td>1  </td><td>0  </td><td>0  </td></tr>\n",
       "\t<tr><td>...</td><td>...</td><td>...</td><td>...</td><td>...</td><td>...</td><td>...</td></tr>\n",
       "\t<tr><td>6.6</td><td>2.9</td><td>4.6</td><td>1.3</td><td>0  </td><td>1  </td><td>0  </td></tr>\n",
       "\t<tr><td>6.6</td><td>3.0</td><td>4.4</td><td>1.4</td><td>0  </td><td>1  </td><td>0  </td></tr>\n",
       "\t<tr><td>6.7</td><td>2.5</td><td>5.8</td><td>1.8</td><td>0  </td><td>0  </td><td>1  </td></tr>\n",
       "\t<tr><td>6.7</td><td>3.0</td><td>5.0</td><td>1.7</td><td>0  </td><td>1  </td><td>0  </td></tr>\n",
       "\t<tr><td>6.7</td><td>3.0</td><td>5.2</td><td>2.3</td><td>0  </td><td>0  </td><td>1  </td></tr>\n",
       "\t<tr><td>6.7</td><td>3.1</td><td>4.4</td><td>1.4</td><td>0  </td><td>1  </td><td>0  </td></tr>\n",
       "\t<tr><td>6.7</td><td>3.1</td><td>4.7</td><td>1.5</td><td>0  </td><td>1  </td><td>0  </td></tr>\n",
       "\t<tr><td>6.7</td><td>3.1</td><td>5.6</td><td>2.4</td><td>0  </td><td>0  </td><td>1  </td></tr>\n",
       "\t<tr><td>6.7</td><td>3.3</td><td>5.7</td><td>2.1</td><td>0  </td><td>0  </td><td>1  </td></tr>\n",
       "\t<tr><td>6.7</td><td>3.3</td><td>5.7</td><td>2.5</td><td>0  </td><td>0  </td><td>1  </td></tr>\n",
       "\t<tr><td>6.8</td><td>2.8</td><td>4.8</td><td>1.4</td><td>0  </td><td>1  </td><td>0  </td></tr>\n",
       "\t<tr><td>6.8</td><td>3.0</td><td>5.5</td><td>2.1</td><td>0  </td><td>0  </td><td>1  </td></tr>\n",
       "\t<tr><td>6.8</td><td>3.2</td><td>5.9</td><td>2.3</td><td>0  </td><td>0  </td><td>1  </td></tr>\n",
       "\t<tr><td>6.9</td><td>3.1</td><td>4.9</td><td>1.5</td><td>0  </td><td>1  </td><td>0  </td></tr>\n",
       "\t<tr><td>6.9</td><td>3.1</td><td>5.1</td><td>2.3</td><td>0  </td><td>0  </td><td>1  </td></tr>\n",
       "\t<tr><td>6.9</td><td>3.1</td><td>5.4</td><td>2.1</td><td>0  </td><td>0  </td><td>1  </td></tr>\n",
       "\t<tr><td>6.9</td><td>3.2</td><td>5.7</td><td>2.3</td><td>0  </td><td>0  </td><td>1  </td></tr>\n",
       "\t<tr><td>7.0</td><td>3.2</td><td>4.7</td><td>1.4</td><td>0  </td><td>1  </td><td>0  </td></tr>\n",
       "\t<tr><td>7.1</td><td>3.0</td><td>5.9</td><td>2.1</td><td>0  </td><td>0  </td><td>1  </td></tr>\n",
       "\t<tr><td>7.2</td><td>3.0</td><td>5.8</td><td>1.6</td><td>0  </td><td>0  </td><td>1  </td></tr>\n",
       "\t<tr><td>7.2</td><td>3.2</td><td>6.0</td><td>1.8</td><td>0  </td><td>0  </td><td>1  </td></tr>\n",
       "\t<tr><td>7.2</td><td>3.6</td><td>6.1</td><td>2.5</td><td>0  </td><td>0  </td><td>1  </td></tr>\n",
       "\t<tr><td>7.3</td><td>2.9</td><td>6.3</td><td>1.8</td><td>0  </td><td>0  </td><td>1  </td></tr>\n",
       "\t<tr><td>7.4</td><td>2.8</td><td>6.1</td><td>1.9</td><td>0  </td><td>0  </td><td>1  </td></tr>\n",
       "\t<tr><td>7.6</td><td>3.0</td><td>6.6</td><td>2.1</td><td>0  </td><td>0  </td><td>1  </td></tr>\n",
       "\t<tr><td>7.7</td><td>2.6</td><td>6.9</td><td>2.3</td><td>0  </td><td>0  </td><td>1  </td></tr>\n",
       "\t<tr><td>7.7</td><td>2.8</td><td>6.7</td><td>2.0</td><td>0  </td><td>0  </td><td>1  </td></tr>\n",
       "\t<tr><td>7.7</td><td>3.0</td><td>6.1</td><td>2.3</td><td>0  </td><td>0  </td><td>1  </td></tr>\n",
       "\t<tr><td>7.7</td><td>3.8</td><td>6.7</td><td>2.2</td><td>0  </td><td>0  </td><td>1  </td></tr>\n",
       "\t<tr><td>7.9</td><td>3.8</td><td>6.4</td><td>2.0</td><td>0  </td><td>0  </td><td>1  </td></tr>\n",
       "</tbody>\n",
       "</table>\n"
      ],
      "text/latex": [
       "\\begin{tabular}{r|lllllll}\n",
       " Sepal.Length & Sepal.Width & Petal.Length & Petal.Width & setosa & versicolor & virginica\\\\\n",
       "\\hline\n",
       "\t 4.3 & 3.0 & 1.1 & 0.1 & 1   & 0   & 0  \\\\\n",
       "\t 4.4 & 2.9 & 1.4 & 0.2 & 1   & 0   & 0  \\\\\n",
       "\t 4.4 & 3.0 & 1.3 & 0.2 & 1   & 0   & 0  \\\\\n",
       "\t 4.4 & 3.2 & 1.3 & 0.2 & 1   & 0   & 0  \\\\\n",
       "\t 4.5 & 2.3 & 1.3 & 0.3 & 1   & 0   & 0  \\\\\n",
       "\t 4.6 & 3.1 & 1.5 & 0.2 & 1   & 0   & 0  \\\\\n",
       "\t 4.6 & 3.2 & 1.4 & 0.2 & 1   & 0   & 0  \\\\\n",
       "\t 4.6 & 3.4 & 1.4 & 0.3 & 1   & 0   & 0  \\\\\n",
       "\t 4.6 & 3.6 & 1.0 & 0.2 & 1   & 0   & 0  \\\\\n",
       "\t 4.7 & 3.2 & 1.3 & 0.2 & 1   & 0   & 0  \\\\\n",
       "\t 4.7 & 3.2 & 1.6 & 0.2 & 1   & 0   & 0  \\\\\n",
       "\t 4.8 & 3.0 & 1.4 & 0.1 & 1   & 0   & 0  \\\\\n",
       "\t 4.8 & 3.0 & 1.4 & 0.3 & 1   & 0   & 0  \\\\\n",
       "\t 4.8 & 3.1 & 1.6 & 0.2 & 1   & 0   & 0  \\\\\n",
       "\t 4.8 & 3.4 & 1.6 & 0.2 & 1   & 0   & 0  \\\\\n",
       "\t 4.8 & 3.4 & 1.9 & 0.2 & 1   & 0   & 0  \\\\\n",
       "\t 4.9 & 2.4 & 3.3 & 1.0 & 0   & 1   & 0  \\\\\n",
       "\t 4.9 & 2.5 & 4.5 & 1.7 & 0   & 0   & 1  \\\\\n",
       "\t 4.9 & 3.0 & 1.4 & 0.2 & 1   & 0   & 0  \\\\\n",
       "\t 4.9 & 3.1 & 1.5 & 0.1 & 1   & 0   & 0  \\\\\n",
       "\t 4.9 & 3.1 & 1.5 & 0.2 & 1   & 0   & 0  \\\\\n",
       "\t 4.9 & 3.6 & 1.4 & 0.1 & 1   & 0   & 0  \\\\\n",
       "\t 5.0 & 2.0 & 3.5 & 1.0 & 0   & 1   & 0  \\\\\n",
       "\t 5.0 & 2.3 & 3.3 & 1.0 & 0   & 1   & 0  \\\\\n",
       "\t 5.0 & 3.0 & 1.6 & 0.2 & 1   & 0   & 0  \\\\\n",
       "\t 5.0 & 3.2 & 1.2 & 0.2 & 1   & 0   & 0  \\\\\n",
       "\t 5.0 & 3.3 & 1.4 & 0.2 & 1   & 0   & 0  \\\\\n",
       "\t 5.0 & 3.4 & 1.5 & 0.2 & 1   & 0   & 0  \\\\\n",
       "\t 5.0 & 3.4 & 1.6 & 0.4 & 1   & 0   & 0  \\\\\n",
       "\t 5.0 & 3.5 & 1.3 & 0.3 & 1   & 0   & 0  \\\\\n",
       "\t ... & ... & ... & ... & ... & ... & ...\\\\\n",
       "\t 6.6 & 2.9 & 4.6 & 1.3 & 0   & 1   & 0  \\\\\n",
       "\t 6.6 & 3.0 & 4.4 & 1.4 & 0   & 1   & 0  \\\\\n",
       "\t 6.7 & 2.5 & 5.8 & 1.8 & 0   & 0   & 1  \\\\\n",
       "\t 6.7 & 3.0 & 5.0 & 1.7 & 0   & 1   & 0  \\\\\n",
       "\t 6.7 & 3.0 & 5.2 & 2.3 & 0   & 0   & 1  \\\\\n",
       "\t 6.7 & 3.1 & 4.4 & 1.4 & 0   & 1   & 0  \\\\\n",
       "\t 6.7 & 3.1 & 4.7 & 1.5 & 0   & 1   & 0  \\\\\n",
       "\t 6.7 & 3.1 & 5.6 & 2.4 & 0   & 0   & 1  \\\\\n",
       "\t 6.7 & 3.3 & 5.7 & 2.1 & 0   & 0   & 1  \\\\\n",
       "\t 6.7 & 3.3 & 5.7 & 2.5 & 0   & 0   & 1  \\\\\n",
       "\t 6.8 & 2.8 & 4.8 & 1.4 & 0   & 1   & 0  \\\\\n",
       "\t 6.8 & 3.0 & 5.5 & 2.1 & 0   & 0   & 1  \\\\\n",
       "\t 6.8 & 3.2 & 5.9 & 2.3 & 0   & 0   & 1  \\\\\n",
       "\t 6.9 & 3.1 & 4.9 & 1.5 & 0   & 1   & 0  \\\\\n",
       "\t 6.9 & 3.1 & 5.1 & 2.3 & 0   & 0   & 1  \\\\\n",
       "\t 6.9 & 3.1 & 5.4 & 2.1 & 0   & 0   & 1  \\\\\n",
       "\t 6.9 & 3.2 & 5.7 & 2.3 & 0   & 0   & 1  \\\\\n",
       "\t 7.0 & 3.2 & 4.7 & 1.4 & 0   & 1   & 0  \\\\\n",
       "\t 7.1 & 3.0 & 5.9 & 2.1 & 0   & 0   & 1  \\\\\n",
       "\t 7.2 & 3.0 & 5.8 & 1.6 & 0   & 0   & 1  \\\\\n",
       "\t 7.2 & 3.2 & 6.0 & 1.8 & 0   & 0   & 1  \\\\\n",
       "\t 7.2 & 3.6 & 6.1 & 2.5 & 0   & 0   & 1  \\\\\n",
       "\t 7.3 & 2.9 & 6.3 & 1.8 & 0   & 0   & 1  \\\\\n",
       "\t 7.4 & 2.8 & 6.1 & 1.9 & 0   & 0   & 1  \\\\\n",
       "\t 7.6 & 3.0 & 6.6 & 2.1 & 0   & 0   & 1  \\\\\n",
       "\t 7.7 & 2.6 & 6.9 & 2.3 & 0   & 0   & 1  \\\\\n",
       "\t 7.7 & 2.8 & 6.7 & 2.0 & 0   & 0   & 1  \\\\\n",
       "\t 7.7 & 3.0 & 6.1 & 2.3 & 0   & 0   & 1  \\\\\n",
       "\t 7.7 & 3.8 & 6.7 & 2.2 & 0   & 0   & 1  \\\\\n",
       "\t 7.9 & 3.8 & 6.4 & 2.0 & 0   & 0   & 1  \\\\\n",
       "\\end{tabular}\n"
      ],
      "text/markdown": [
       "\n",
       "| Sepal.Length | Sepal.Width | Petal.Length | Petal.Width | setosa | versicolor | virginica |\n",
       "|---|---|---|---|---|---|---|\n",
       "| 4.3 | 3.0 | 1.1 | 0.1 | 1   | 0   | 0   |\n",
       "| 4.4 | 2.9 | 1.4 | 0.2 | 1   | 0   | 0   |\n",
       "| 4.4 | 3.0 | 1.3 | 0.2 | 1   | 0   | 0   |\n",
       "| 4.4 | 3.2 | 1.3 | 0.2 | 1   | 0   | 0   |\n",
       "| 4.5 | 2.3 | 1.3 | 0.3 | 1   | 0   | 0   |\n",
       "| 4.6 | 3.1 | 1.5 | 0.2 | 1   | 0   | 0   |\n",
       "| 4.6 | 3.2 | 1.4 | 0.2 | 1   | 0   | 0   |\n",
       "| 4.6 | 3.4 | 1.4 | 0.3 | 1   | 0   | 0   |\n",
       "| 4.6 | 3.6 | 1.0 | 0.2 | 1   | 0   | 0   |\n",
       "| 4.7 | 3.2 | 1.3 | 0.2 | 1   | 0   | 0   |\n",
       "| 4.7 | 3.2 | 1.6 | 0.2 | 1   | 0   | 0   |\n",
       "| 4.8 | 3.0 | 1.4 | 0.1 | 1   | 0   | 0   |\n",
       "| 4.8 | 3.0 | 1.4 | 0.3 | 1   | 0   | 0   |\n",
       "| 4.8 | 3.1 | 1.6 | 0.2 | 1   | 0   | 0   |\n",
       "| 4.8 | 3.4 | 1.6 | 0.2 | 1   | 0   | 0   |\n",
       "| 4.8 | 3.4 | 1.9 | 0.2 | 1   | 0   | 0   |\n",
       "| 4.9 | 2.4 | 3.3 | 1.0 | 0   | 1   | 0   |\n",
       "| 4.9 | 2.5 | 4.5 | 1.7 | 0   | 0   | 1   |\n",
       "| 4.9 | 3.0 | 1.4 | 0.2 | 1   | 0   | 0   |\n",
       "| 4.9 | 3.1 | 1.5 | 0.1 | 1   | 0   | 0   |\n",
       "| 4.9 | 3.1 | 1.5 | 0.2 | 1   | 0   | 0   |\n",
       "| 4.9 | 3.6 | 1.4 | 0.1 | 1   | 0   | 0   |\n",
       "| 5.0 | 2.0 | 3.5 | 1.0 | 0   | 1   | 0   |\n",
       "| 5.0 | 2.3 | 3.3 | 1.0 | 0   | 1   | 0   |\n",
       "| 5.0 | 3.0 | 1.6 | 0.2 | 1   | 0   | 0   |\n",
       "| 5.0 | 3.2 | 1.2 | 0.2 | 1   | 0   | 0   |\n",
       "| 5.0 | 3.3 | 1.4 | 0.2 | 1   | 0   | 0   |\n",
       "| 5.0 | 3.4 | 1.5 | 0.2 | 1   | 0   | 0   |\n",
       "| 5.0 | 3.4 | 1.6 | 0.4 | 1   | 0   | 0   |\n",
       "| 5.0 | 3.5 | 1.3 | 0.3 | 1   | 0   | 0   |\n",
       "| ... | ... | ... | ... | ... | ... | ... |\n",
       "| 6.6 | 2.9 | 4.6 | 1.3 | 0   | 1   | 0   |\n",
       "| 6.6 | 3.0 | 4.4 | 1.4 | 0   | 1   | 0   |\n",
       "| 6.7 | 2.5 | 5.8 | 1.8 | 0   | 0   | 1   |\n",
       "| 6.7 | 3.0 | 5.0 | 1.7 | 0   | 1   | 0   |\n",
       "| 6.7 | 3.0 | 5.2 | 2.3 | 0   | 0   | 1   |\n",
       "| 6.7 | 3.1 | 4.4 | 1.4 | 0   | 1   | 0   |\n",
       "| 6.7 | 3.1 | 4.7 | 1.5 | 0   | 1   | 0   |\n",
       "| 6.7 | 3.1 | 5.6 | 2.4 | 0   | 0   | 1   |\n",
       "| 6.7 | 3.3 | 5.7 | 2.1 | 0   | 0   | 1   |\n",
       "| 6.7 | 3.3 | 5.7 | 2.5 | 0   | 0   | 1   |\n",
       "| 6.8 | 2.8 | 4.8 | 1.4 | 0   | 1   | 0   |\n",
       "| 6.8 | 3.0 | 5.5 | 2.1 | 0   | 0   | 1   |\n",
       "| 6.8 | 3.2 | 5.9 | 2.3 | 0   | 0   | 1   |\n",
       "| 6.9 | 3.1 | 4.9 | 1.5 | 0   | 1   | 0   |\n",
       "| 6.9 | 3.1 | 5.1 | 2.3 | 0   | 0   | 1   |\n",
       "| 6.9 | 3.1 | 5.4 | 2.1 | 0   | 0   | 1   |\n",
       "| 6.9 | 3.2 | 5.7 | 2.3 | 0   | 0   | 1   |\n",
       "| 7.0 | 3.2 | 4.7 | 1.4 | 0   | 1   | 0   |\n",
       "| 7.1 | 3.0 | 5.9 | 2.1 | 0   | 0   | 1   |\n",
       "| 7.2 | 3.0 | 5.8 | 1.6 | 0   | 0   | 1   |\n",
       "| 7.2 | 3.2 | 6.0 | 1.8 | 0   | 0   | 1   |\n",
       "| 7.2 | 3.6 | 6.1 | 2.5 | 0   | 0   | 1   |\n",
       "| 7.3 | 2.9 | 6.3 | 1.8 | 0   | 0   | 1   |\n",
       "| 7.4 | 2.8 | 6.1 | 1.9 | 0   | 0   | 1   |\n",
       "| 7.6 | 3.0 | 6.6 | 2.1 | 0   | 0   | 1   |\n",
       "| 7.7 | 2.6 | 6.9 | 2.3 | 0   | 0   | 1   |\n",
       "| 7.7 | 2.8 | 6.7 | 2.0 | 0   | 0   | 1   |\n",
       "| 7.7 | 3.0 | 6.1 | 2.3 | 0   | 0   | 1   |\n",
       "| 7.7 | 3.8 | 6.7 | 2.2 | 0   | 0   | 1   |\n",
       "| 7.9 | 3.8 | 6.4 | 2.0 | 0   | 0   | 1   |\n",
       "\n"
      ],
      "text/plain": [
       "    Sepal.Length Sepal.Width Petal.Length Petal.Width setosa versicolor\n",
       "1   4.3          3.0         1.1          0.1         1      0         \n",
       "2   4.4          2.9         1.4          0.2         1      0         \n",
       "3   4.4          3.0         1.3          0.2         1      0         \n",
       "4   4.4          3.2         1.3          0.2         1      0         \n",
       "5   4.5          2.3         1.3          0.3         1      0         \n",
       "6   4.6          3.1         1.5          0.2         1      0         \n",
       "7   4.6          3.2         1.4          0.2         1      0         \n",
       "8   4.6          3.4         1.4          0.3         1      0         \n",
       "9   4.6          3.6         1.0          0.2         1      0         \n",
       "10  4.7          3.2         1.3          0.2         1      0         \n",
       "11  4.7          3.2         1.6          0.2         1      0         \n",
       "12  4.8          3.0         1.4          0.1         1      0         \n",
       "13  4.8          3.0         1.4          0.3         1      0         \n",
       "14  4.8          3.1         1.6          0.2         1      0         \n",
       "15  4.8          3.4         1.6          0.2         1      0         \n",
       "16  4.8          3.4         1.9          0.2         1      0         \n",
       "17  4.9          2.4         3.3          1.0         0      1         \n",
       "18  4.9          2.5         4.5          1.7         0      0         \n",
       "19  4.9          3.0         1.4          0.2         1      0         \n",
       "20  4.9          3.1         1.5          0.1         1      0         \n",
       "21  4.9          3.1         1.5          0.2         1      0         \n",
       "22  4.9          3.6         1.4          0.1         1      0         \n",
       "23  5.0          2.0         3.5          1.0         0      1         \n",
       "24  5.0          2.3         3.3          1.0         0      1         \n",
       "25  5.0          3.0         1.6          0.2         1      0         \n",
       "26  5.0          3.2         1.2          0.2         1      0         \n",
       "27  5.0          3.3         1.4          0.2         1      0         \n",
       "28  5.0          3.4         1.5          0.2         1      0         \n",
       "29  5.0          3.4         1.6          0.4         1      0         \n",
       "30  5.0          3.5         1.3          0.3         1      0         \n",
       "... ...          ...         ...          ...         ...    ...       \n",
       "120 6.6          2.9         4.6          1.3         0      1         \n",
       "121 6.6          3.0         4.4          1.4         0      1         \n",
       "122 6.7          2.5         5.8          1.8         0      0         \n",
       "123 6.7          3.0         5.0          1.7         0      1         \n",
       "124 6.7          3.0         5.2          2.3         0      0         \n",
       "125 6.7          3.1         4.4          1.4         0      1         \n",
       "126 6.7          3.1         4.7          1.5         0      1         \n",
       "127 6.7          3.1         5.6          2.4         0      0         \n",
       "128 6.7          3.3         5.7          2.1         0      0         \n",
       "129 6.7          3.3         5.7          2.5         0      0         \n",
       "130 6.8          2.8         4.8          1.4         0      1         \n",
       "131 6.8          3.0         5.5          2.1         0      0         \n",
       "132 6.8          3.2         5.9          2.3         0      0         \n",
       "133 6.9          3.1         4.9          1.5         0      1         \n",
       "134 6.9          3.1         5.1          2.3         0      0         \n",
       "135 6.9          3.1         5.4          2.1         0      0         \n",
       "136 6.9          3.2         5.7          2.3         0      0         \n",
       "137 7.0          3.2         4.7          1.4         0      1         \n",
       "138 7.1          3.0         5.9          2.1         0      0         \n",
       "139 7.2          3.0         5.8          1.6         0      0         \n",
       "140 7.2          3.2         6.0          1.8         0      0         \n",
       "141 7.2          3.6         6.1          2.5         0      0         \n",
       "142 7.3          2.9         6.3          1.8         0      0         \n",
       "143 7.4          2.8         6.1          1.9         0      0         \n",
       "144 7.6          3.0         6.6          2.1         0      0         \n",
       "145 7.7          2.6         6.9          2.3         0      0         \n",
       "146 7.7          2.8         6.7          2.0         0      0         \n",
       "147 7.7          3.0         6.1          2.3         0      0         \n",
       "148 7.7          3.8         6.7          2.2         0      0         \n",
       "149 7.9          3.8         6.4          2.0         0      0         \n",
       "    virginica\n",
       "1   0        \n",
       "2   0        \n",
       "3   0        \n",
       "4   0        \n",
       "5   0        \n",
       "6   0        \n",
       "7   0        \n",
       "8   0        \n",
       "9   0        \n",
       "10  0        \n",
       "11  0        \n",
       "12  0        \n",
       "13  0        \n",
       "14  0        \n",
       "15  0        \n",
       "16  0        \n",
       "17  0        \n",
       "18  1        \n",
       "19  0        \n",
       "20  0        \n",
       "21  0        \n",
       "22  0        \n",
       "23  0        \n",
       "24  0        \n",
       "25  0        \n",
       "26  0        \n",
       "27  0        \n",
       "28  0        \n",
       "29  0        \n",
       "30  0        \n",
       "... ...      \n",
       "120 0        \n",
       "121 0        \n",
       "122 1        \n",
       "123 0        \n",
       "124 1        \n",
       "125 0        \n",
       "126 0        \n",
       "127 1        \n",
       "128 1        \n",
       "129 1        \n",
       "130 0        \n",
       "131 1        \n",
       "132 1        \n",
       "133 0        \n",
       "134 1        \n",
       "135 1        \n",
       "136 1        \n",
       "137 0        \n",
       "138 1        \n",
       "139 1        \n",
       "140 1        \n",
       "141 1        \n",
       "142 1        \n",
       "143 1        \n",
       "144 1        \n",
       "145 1        \n",
       "146 1        \n",
       "147 1        \n",
       "148 1        \n",
       "149 1        "
      ]
     },
     "metadata": {},
     "output_type": "display_data"
    }
   ],
   "source": [
    "dcast(x,Sepal.Length+Sepal.Width+Petal.Length+Petal.Width~Species)"
   ]
  },
  {
   "cell_type": "code",
   "execution_count": 119,
   "metadata": {},
   "outputs": [],
   "source": [
    "df=data.frame(\n",
    "    subject=1:4,\n",
    "    sex= sample(c(\"male\",\"female\"),4,replace=T),\n",
    "    control=c(8.9,6.2,9.4,10.5),\n",
    "    cond1=c(11.33,10.7,12.1,13.5),\n",
    "    cond2=c(10.6,12.1,13.6,13.9)\n",
    ")"
   ]
  },
  {
   "cell_type": "code",
   "execution_count": 120,
   "metadata": {},
   "outputs": [
    {
     "data": {
      "text/html": [
       "<table>\n",
       "<thead><tr><th scope=col>subject</th><th scope=col>sex</th><th scope=col>control</th><th scope=col>cond1</th><th scope=col>cond2</th></tr></thead>\n",
       "<tbody>\n",
       "\t<tr><td>1     </td><td>female</td><td> 8.9  </td><td>11.33 </td><td>10.6  </td></tr>\n",
       "\t<tr><td>2     </td><td>male  </td><td> 6.2  </td><td>10.70 </td><td>12.1  </td></tr>\n",
       "\t<tr><td>3     </td><td>female</td><td> 9.4  </td><td>12.10 </td><td>13.6  </td></tr>\n",
       "\t<tr><td>4     </td><td>female</td><td>10.5  </td><td>13.50 </td><td>13.9  </td></tr>\n",
       "</tbody>\n",
       "</table>\n"
      ],
      "text/latex": [
       "\\begin{tabular}{r|lllll}\n",
       " subject & sex & control & cond1 & cond2\\\\\n",
       "\\hline\n",
       "\t 1      & female &  8.9   & 11.33  & 10.6  \\\\\n",
       "\t 2      & male   &  6.2   & 10.70  & 12.1  \\\\\n",
       "\t 3      & female &  9.4   & 12.10  & 13.6  \\\\\n",
       "\t 4      & female & 10.5   & 13.50  & 13.9  \\\\\n",
       "\\end{tabular}\n"
      ],
      "text/markdown": [
       "\n",
       "| subject | sex | control | cond1 | cond2 |\n",
       "|---|---|---|---|---|\n",
       "| 1      | female |  8.9   | 11.33  | 10.6   |\n",
       "| 2      | male   |  6.2   | 10.70  | 12.1   |\n",
       "| 3      | female |  9.4   | 12.10  | 13.6   |\n",
       "| 4      | female | 10.5   | 13.50  | 13.9   |\n",
       "\n"
      ],
      "text/plain": [
       "  subject sex    control cond1 cond2\n",
       "1 1       female  8.9    11.33 10.6 \n",
       "2 2       male    6.2    10.70 12.1 \n",
       "3 3       female  9.4    12.10 13.6 \n",
       "4 4       female 10.5    13.50 13.9 "
      ]
     },
     "metadata": {},
     "output_type": "display_data"
    }
   ],
   "source": [
    "df"
   ]
  },
  {
   "cell_type": "code",
   "execution_count": 122,
   "metadata": {},
   "outputs": [
    {
     "name": "stderr",
     "output_type": "stream",
     "text": [
      "Using sex as id variables\n"
     ]
    }
   ],
   "source": [
    "df1=melt(df)"
   ]
  },
  {
   "cell_type": "code",
   "execution_count": 123,
   "metadata": {},
   "outputs": [
    {
     "data": {
      "text/html": [
       "<table>\n",
       "<thead><tr><th scope=col>sex</th><th scope=col>variable</th><th scope=col>value</th></tr></thead>\n",
       "<tbody>\n",
       "\t<tr><td>female </td><td>subject</td><td> 1.00  </td></tr>\n",
       "\t<tr><td>male   </td><td>subject</td><td> 2.00  </td></tr>\n",
       "\t<tr><td>female </td><td>subject</td><td> 3.00  </td></tr>\n",
       "\t<tr><td>female </td><td>subject</td><td> 4.00  </td></tr>\n",
       "\t<tr><td>female </td><td>control</td><td> 8.90  </td></tr>\n",
       "\t<tr><td>male   </td><td>control</td><td> 6.20  </td></tr>\n",
       "\t<tr><td>female </td><td>control</td><td> 9.40  </td></tr>\n",
       "\t<tr><td>female </td><td>control</td><td>10.50  </td></tr>\n",
       "\t<tr><td>female </td><td>cond1  </td><td>11.33  </td></tr>\n",
       "\t<tr><td>male   </td><td>cond1  </td><td>10.70  </td></tr>\n",
       "\t<tr><td>female </td><td>cond1  </td><td>12.10  </td></tr>\n",
       "\t<tr><td>female </td><td>cond1  </td><td>13.50  </td></tr>\n",
       "\t<tr><td>female </td><td>cond2  </td><td>10.60  </td></tr>\n",
       "\t<tr><td>male   </td><td>cond2  </td><td>12.10  </td></tr>\n",
       "\t<tr><td>female </td><td>cond2  </td><td>13.60  </td></tr>\n",
       "\t<tr><td>female </td><td>cond2  </td><td>13.90  </td></tr>\n",
       "</tbody>\n",
       "</table>\n"
      ],
      "text/latex": [
       "\\begin{tabular}{r|lll}\n",
       " sex & variable & value\\\\\n",
       "\\hline\n",
       "\t female  & subject &  1.00  \\\\\n",
       "\t male    & subject &  2.00  \\\\\n",
       "\t female  & subject &  3.00  \\\\\n",
       "\t female  & subject &  4.00  \\\\\n",
       "\t female  & control &  8.90  \\\\\n",
       "\t male    & control &  6.20  \\\\\n",
       "\t female  & control &  9.40  \\\\\n",
       "\t female  & control & 10.50  \\\\\n",
       "\t female  & cond1   & 11.33  \\\\\n",
       "\t male    & cond1   & 10.70  \\\\\n",
       "\t female  & cond1   & 12.10  \\\\\n",
       "\t female  & cond1   & 13.50  \\\\\n",
       "\t female  & cond2   & 10.60  \\\\\n",
       "\t male    & cond2   & 12.10  \\\\\n",
       "\t female  & cond2   & 13.60  \\\\\n",
       "\t female  & cond2   & 13.90  \\\\\n",
       "\\end{tabular}\n"
      ],
      "text/markdown": [
       "\n",
       "| sex | variable | value |\n",
       "|---|---|---|\n",
       "| female  | subject |  1.00   |\n",
       "| male    | subject |  2.00   |\n",
       "| female  | subject |  3.00   |\n",
       "| female  | subject |  4.00   |\n",
       "| female  | control |  8.90   |\n",
       "| male    | control |  6.20   |\n",
       "| female  | control |  9.40   |\n",
       "| female  | control | 10.50   |\n",
       "| female  | cond1   | 11.33   |\n",
       "| male    | cond1   | 10.70   |\n",
       "| female  | cond1   | 12.10   |\n",
       "| female  | cond1   | 13.50   |\n",
       "| female  | cond2   | 10.60   |\n",
       "| male    | cond2   | 12.10   |\n",
       "| female  | cond2   | 13.60   |\n",
       "| female  | cond2   | 13.90   |\n",
       "\n"
      ],
      "text/plain": [
       "   sex    variable value\n",
       "1  female subject   1.00\n",
       "2  male   subject   2.00\n",
       "3  female subject   3.00\n",
       "4  female subject   4.00\n",
       "5  female control   8.90\n",
       "6  male   control   6.20\n",
       "7  female control   9.40\n",
       "8  female control  10.50\n",
       "9  female cond1    11.33\n",
       "10 male   cond1    10.70\n",
       "11 female cond1    12.10\n",
       "12 female cond1    13.50\n",
       "13 female cond2    10.60\n",
       "14 male   cond2    12.10\n",
       "15 female cond2    13.60\n",
       "16 female cond2    13.90"
      ]
     },
     "metadata": {},
     "output_type": "display_data"
    }
   ],
   "source": [
    "df1"
   ]
  },
  {
   "cell_type": "code",
   "execution_count": null,
   "metadata": {},
   "outputs": [],
   "source": []
  }
 ],
 "metadata": {
  "kernelspec": {
   "display_name": "R",
   "language": "R",
   "name": "ir"
  },
  "language_info": {
   "codemirror_mode": "r",
   "file_extension": ".r",
   "mimetype": "text/x-r-source",
   "name": "R",
   "pygments_lexer": "r",
   "version": "3.6.0"
  }
 },
 "nbformat": 4,
 "nbformat_minor": 2
}
